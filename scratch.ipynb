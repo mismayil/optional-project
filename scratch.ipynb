{
 "cells": [
  {
   "cell_type": "code",
   "execution_count": 2,
   "metadata": {},
   "outputs": [],
   "source": [
    "import pandas as pd\n",
    "\n",
    "glucose = pd.read_csv(\"data/GLUCOSE_training_data_final.csv\")"
   ]
  },
  {
   "cell_type": "code",
   "execution_count": 2,
   "metadata": {},
   "outputs": [
    {
     "data": {
      "text/html": [
       "<div>\n",
       "<style scoped>\n",
       "    .dataframe tbody tr th:only-of-type {\n",
       "        vertical-align: middle;\n",
       "    }\n",
       "\n",
       "    .dataframe tbody tr th {\n",
       "        vertical-align: top;\n",
       "    }\n",
       "\n",
       "    .dataframe thead th {\n",
       "        text-align: right;\n",
       "    }\n",
       "</style>\n",
       "<table border=\"1\" class=\"dataframe\">\n",
       "  <thead>\n",
       "    <tr style=\"text-align: right;\">\n",
       "      <th></th>\n",
       "      <th>experiment_id</th>\n",
       "      <th>story_id</th>\n",
       "      <th>worker_id</th>\n",
       "      <th>submission_time_normalized</th>\n",
       "      <th>worker_quality_rating</th>\n",
       "      <th>selected_sentence_index</th>\n",
       "      <th>story</th>\n",
       "      <th>selected_sentence</th>\n",
       "      <th>1_specificNL</th>\n",
       "      <th>1_specificStructured</th>\n",
       "      <th>...</th>\n",
       "      <th>8_generalStructured</th>\n",
       "      <th>9_specificNL</th>\n",
       "      <th>9_specificStructured</th>\n",
       "      <th>9_generalNL</th>\n",
       "      <th>9_generalStructured</th>\n",
       "      <th>10_specificNL</th>\n",
       "      <th>10_specificStructured</th>\n",
       "      <th>10_generalNL</th>\n",
       "      <th>10_generalStructured</th>\n",
       "      <th>number_filled_in</th>\n",
       "    </tr>\n",
       "  </thead>\n",
       "  <tbody>\n",
       "    <tr>\n",
       "      <th>0</th>\n",
       "      <td>e56c7c3e-4660-40fb-80d0-052d566d676a__4</td>\n",
       "      <td>e56c7c3e-4660-40fb-80d0-052d566d676a</td>\n",
       "      <td>19</td>\n",
       "      <td>20190930</td>\n",
       "      <td>3</td>\n",
       "      <td>4</td>\n",
       "      <td>It was bedtime at our house. Two of the three ...</td>\n",
       "      <td>Finally he becomes tired and falls asleep.</td>\n",
       "      <td>The third kid continues to  get out of bed and...</td>\n",
       "      <td>{The third kid}_[subject] {continues}_[verb] {...</td>\n",
       "      <td>...</td>\n",
       "      <td>escaped</td>\n",
       "      <td>escaped</td>\n",
       "      <td>escaped</td>\n",
       "      <td>escaped</td>\n",
       "      <td>escaped</td>\n",
       "      <td>escaped</td>\n",
       "      <td>escaped</td>\n",
       "      <td>escaped</td>\n",
       "      <td>escaped</td>\n",
       "      <td>2</td>\n",
       "    </tr>\n",
       "    <tr>\n",
       "      <th>1</th>\n",
       "      <td>b03eba12-db74-4fce-a3cc-c743948ef8c2__4</td>\n",
       "      <td>b03eba12-db74-4fce-a3cc-c743948ef8c2</td>\n",
       "      <td>2</td>\n",
       "      <td>20200115</td>\n",
       "      <td>1</td>\n",
       "      <td>4</td>\n",
       "      <td>Sara was invited to the football game. She sho...</td>\n",
       "      <td>At the end of the game, her team won.</td>\n",
       "      <td>Sara  goes  to  a football game  &gt;Causes/Enabl...</td>\n",
       "      <td>{Sara }_[subject] {goes }_[verb] {to }_[prepos...</td>\n",
       "      <td>...</td>\n",
       "      <td>escaped</td>\n",
       "      <td>escaped</td>\n",
       "      <td>escaped</td>\n",
       "      <td>escaped</td>\n",
       "      <td>escaped</td>\n",
       "      <td>escaped</td>\n",
       "      <td>escaped</td>\n",
       "      <td>escaped</td>\n",
       "      <td>escaped</td>\n",
       "      <td>3</td>\n",
       "    </tr>\n",
       "    <tr>\n",
       "      <th>2</th>\n",
       "      <td>7e7aeb03-12d8-4f02-9097-c3273a692f20__3</td>\n",
       "      <td>7e7aeb03-12d8-4f02-9097-c3273a692f20</td>\n",
       "      <td>60</td>\n",
       "      <td>20191230</td>\n",
       "      <td>1</td>\n",
       "      <td>3</td>\n",
       "      <td>Kyle was leaving to pick up his sister from wo...</td>\n",
       "      <td>He decided to check his dirty clothes basket.</td>\n",
       "      <td>Kyle realized his keys were missing &gt;Causes/En...</td>\n",
       "      <td>{Kyle}_[subject] {realized}_[verb] {his keys}_...</td>\n",
       "      <td>...</td>\n",
       "      <td>escaped</td>\n",
       "      <td>escaped</td>\n",
       "      <td>escaped</td>\n",
       "      <td>escaped</td>\n",
       "      <td>escaped</td>\n",
       "      <td>He decided to check his dirty clothes basket f...</td>\n",
       "      <td>{He}_[subject] {decided to check}_[verb] {his ...</td>\n",
       "      <td>Someone_A decided to check Something_A (that h...</td>\n",
       "      <td>{Someone_A}_[subject] {decided to check}_[verb...</td>\n",
       "      <td>5</td>\n",
       "    </tr>\n",
       "    <tr>\n",
       "      <th>3</th>\n",
       "      <td>a2bb14bd-9094-4dcc-93a5-bb93b1c308a5__4</td>\n",
       "      <td>a2bb14bd-9094-4dcc-93a5-bb93b1c308a5</td>\n",
       "      <td>142</td>\n",
       "      <td>20191203</td>\n",
       "      <td>2</td>\n",
       "      <td>4</td>\n",
       "      <td>MY DAUGHTER HAD TO DO A SCIENCE PROJECT. SO SH...</td>\n",
       "      <td>SO CHEWING GUM CAN HELP WITH YOUR CONCENTRATIO...</td>\n",
       "      <td>My daughter has  a  science project &gt;Causes/En...</td>\n",
       "      <td>{My daughter}_[subject] {has }_[verb] {a }_[pr...</td>\n",
       "      <td>...</td>\n",
       "      <td>escaped</td>\n",
       "      <td>Chewing gum can help with concentration &gt;Resul...</td>\n",
       "      <td>{Chewing gum}_[subject] {can help}_[verb] {wit...</td>\n",
       "      <td>Chewing gum can help with concentration &gt;Resul...</td>\n",
       "      <td>{Chewing gum}_[subject] {can help}_[verb] {wit...</td>\n",
       "      <td>escaped</td>\n",
       "      <td>escaped</td>\n",
       "      <td>escaped</td>\n",
       "      <td>escaped</td>\n",
       "      <td>7</td>\n",
       "    </tr>\n",
       "    <tr>\n",
       "      <th>4</th>\n",
       "      <td>b8c68631-fa42-40a0-93c7-6739402e2038__4</td>\n",
       "      <td>b8c68631-fa42-40a0-93c7-6739402e2038</td>\n",
       "      <td>19</td>\n",
       "      <td>20191213</td>\n",
       "      <td>3</td>\n",
       "      <td>4</td>\n",
       "      <td>Vivian couldn't stop thinking about that man s...</td>\n",
       "      <td>Vivian spent the rest of her life chasing that...</td>\n",
       "      <td>escaped</td>\n",
       "      <td>escaped</td>\n",
       "      <td>...</td>\n",
       "      <td>escaped</td>\n",
       "      <td>escaped</td>\n",
       "      <td>escaped</td>\n",
       "      <td>escaped</td>\n",
       "      <td>escaped</td>\n",
       "      <td>escaped</td>\n",
       "      <td>escaped</td>\n",
       "      <td>escaped</td>\n",
       "      <td>escaped</td>\n",
       "      <td>2</td>\n",
       "    </tr>\n",
       "  </tbody>\n",
       "</table>\n",
       "<p>5 rows × 49 columns</p>\n",
       "</div>"
      ],
      "text/plain": [
       "                             experiment_id  \\\n",
       "0  e56c7c3e-4660-40fb-80d0-052d566d676a__4   \n",
       "1  b03eba12-db74-4fce-a3cc-c743948ef8c2__4   \n",
       "2  7e7aeb03-12d8-4f02-9097-c3273a692f20__3   \n",
       "3  a2bb14bd-9094-4dcc-93a5-bb93b1c308a5__4   \n",
       "4  b8c68631-fa42-40a0-93c7-6739402e2038__4   \n",
       "\n",
       "                               story_id  worker_id  \\\n",
       "0  e56c7c3e-4660-40fb-80d0-052d566d676a         19   \n",
       "1  b03eba12-db74-4fce-a3cc-c743948ef8c2          2   \n",
       "2  7e7aeb03-12d8-4f02-9097-c3273a692f20         60   \n",
       "3  a2bb14bd-9094-4dcc-93a5-bb93b1c308a5        142   \n",
       "4  b8c68631-fa42-40a0-93c7-6739402e2038         19   \n",
       "\n",
       "   submission_time_normalized  worker_quality_rating  selected_sentence_index  \\\n",
       "0                    20190930                      3                        4   \n",
       "1                    20200115                      1                        4   \n",
       "2                    20191230                      1                        3   \n",
       "3                    20191203                      2                        4   \n",
       "4                    20191213                      3                        4   \n",
       "\n",
       "                                               story  \\\n",
       "0  It was bedtime at our house. Two of the three ...   \n",
       "1  Sara was invited to the football game. She sho...   \n",
       "2  Kyle was leaving to pick up his sister from wo...   \n",
       "3  MY DAUGHTER HAD TO DO A SCIENCE PROJECT. SO SH...   \n",
       "4  Vivian couldn't stop thinking about that man s...   \n",
       "\n",
       "                                   selected_sentence  \\\n",
       "0         Finally he becomes tired and falls asleep.   \n",
       "1              At the end of the game, her team won.   \n",
       "2      He decided to check his dirty clothes basket.   \n",
       "3  SO CHEWING GUM CAN HELP WITH YOUR CONCENTRATIO...   \n",
       "4  Vivian spent the rest of her life chasing that...   \n",
       "\n",
       "                                        1_specificNL  \\\n",
       "0  The third kid continues to  get out of bed and...   \n",
       "1  Sara  goes  to  a football game  >Causes/Enabl...   \n",
       "2  Kyle realized his keys were missing >Causes/En...   \n",
       "3  My daughter has  a  science project >Causes/En...   \n",
       "4                                            escaped   \n",
       "\n",
       "                                1_specificStructured  ... 8_generalStructured  \\\n",
       "0  {The third kid}_[subject] {continues}_[verb] {...  ...             escaped   \n",
       "1  {Sara }_[subject] {goes }_[verb] {to }_[prepos...  ...             escaped   \n",
       "2  {Kyle}_[subject] {realized}_[verb] {his keys}_...  ...             escaped   \n",
       "3  {My daughter}_[subject] {has }_[verb] {a }_[pr...  ...             escaped   \n",
       "4                                            escaped  ...             escaped   \n",
       "\n",
       "                                        9_specificNL  \\\n",
       "0                                            escaped   \n",
       "1                                            escaped   \n",
       "2                                            escaped   \n",
       "3  Chewing gum can help with concentration >Resul...   \n",
       "4                                            escaped   \n",
       "\n",
       "                                9_specificStructured  \\\n",
       "0                                            escaped   \n",
       "1                                            escaped   \n",
       "2                                            escaped   \n",
       "3  {Chewing gum}_[subject] {can help}_[verb] {wit...   \n",
       "4                                            escaped   \n",
       "\n",
       "                                         9_generalNL  \\\n",
       "0                                            escaped   \n",
       "1                                            escaped   \n",
       "2                                            escaped   \n",
       "3  Chewing gum can help with concentration >Resul...   \n",
       "4                                            escaped   \n",
       "\n",
       "                                 9_generalStructured  \\\n",
       "0                                            escaped   \n",
       "1                                            escaped   \n",
       "2                                            escaped   \n",
       "3  {Chewing gum}_[subject] {can help}_[verb] {wit...   \n",
       "4                                            escaped   \n",
       "\n",
       "                                       10_specificNL  \\\n",
       "0                                            escaped   \n",
       "1                                            escaped   \n",
       "2  He decided to check his dirty clothes basket f...   \n",
       "3                                            escaped   \n",
       "4                                            escaped   \n",
       "\n",
       "                               10_specificStructured  \\\n",
       "0                                            escaped   \n",
       "1                                            escaped   \n",
       "2  {He}_[subject] {decided to check}_[verb] {his ...   \n",
       "3                                            escaped   \n",
       "4                                            escaped   \n",
       "\n",
       "                                        10_generalNL  \\\n",
       "0                                            escaped   \n",
       "1                                            escaped   \n",
       "2  Someone_A decided to check Something_A (that h...   \n",
       "3                                            escaped   \n",
       "4                                            escaped   \n",
       "\n",
       "                                10_generalStructured number_filled_in  \n",
       "0                                            escaped                2  \n",
       "1                                            escaped                3  \n",
       "2  {Someone_A}_[subject] {decided to check}_[verb...                5  \n",
       "3                                            escaped                7  \n",
       "4                                            escaped                2  \n",
       "\n",
       "[5 rows x 49 columns]"
      ]
     },
     "execution_count": 2,
     "metadata": {},
     "output_type": "execute_result"
    }
   ],
   "source": [
    "glucose.head()"
   ]
  },
  {
   "cell_type": "code",
   "execution_count": 5,
   "metadata": {},
   "outputs": [
    {
     "data": {
      "text/plain": [
       "33073"
      ]
     },
     "execution_count": 5,
     "metadata": {},
     "output_type": "execute_result"
    }
   ],
   "source": [
    "len(glucose.query(\"`1_specificNL` != 'escaped' and `2_specificNL` != 'escaped'\"))"
   ]
  },
  {
   "cell_type": "code",
   "execution_count": 6,
   "metadata": {},
   "outputs": [
    {
     "data": {
      "text/plain": [
       "30461"
      ]
     },
     "execution_count": 6,
     "metadata": {},
     "output_type": "execute_result"
    }
   ],
   "source": [
    "len(glucose.query(\"`6_specificNL` != 'escaped' and `7_specificNL` != 'escaped'\"))"
   ]
  },
  {
   "cell_type": "code",
   "execution_count": 8,
   "metadata": {},
   "outputs": [
    {
     "data": {
      "text/plain": [
       "\"Chewing gum can help with concentration >Causes/Enables> I believe my daughter's hypothesis\""
      ]
     },
     "execution_count": 8,
     "metadata": {},
     "output_type": "execute_result"
    }
   ],
   "source": [
    "glucose.query(\"`6_specificNL` != 'escaped' and `7_specificNL` != 'escaped'\").iloc[0][\"6_specificNL\"]"
   ]
  },
  {
   "cell_type": "code",
   "execution_count": 9,
   "metadata": {},
   "outputs": [
    {
     "data": {
      "text/plain": [
       "'Chewing gum can help with concentration >Causes> I feel(s) proud'"
      ]
     },
     "execution_count": 9,
     "metadata": {},
     "output_type": "execute_result"
    }
   ],
   "source": [
    "glucose.query(\"`6_specificNL` != 'escaped' and `7_specificNL` != 'escaped'\").iloc[0][\"7_specificNL\"]"
   ]
  },
  {
   "cell_type": "code",
   "execution_count": 3,
   "metadata": {},
   "outputs": [
    {
     "data": {
      "text/plain": [
       "Index(['experiment_id', 'story_id', 'worker_id', 'submission_time_normalized',\n",
       "       'worker_quality_rating', 'selected_sentence_index', 'story',\n",
       "       'selected_sentence', '1_specificNL', '1_specificStructured',\n",
       "       '1_generalNL', '1_generalStructured', '2_specificNL',\n",
       "       '2_specificStructured', '2_generalNL', '2_generalStructured',\n",
       "       '3_specificNL', '3_specificStructured', '3_generalNL',\n",
       "       '3_generalStructured', '4_specificNL', '4_specificStructured',\n",
       "       '4_generalNL', '4_generalStructured', '5_specificNL',\n",
       "       '5_specificStructured', '5_generalNL', '5_generalStructured',\n",
       "       '6_specificNL', '6_specificStructured', '6_generalNL',\n",
       "       '6_generalStructured', '7_specificNL', '7_specificStructured',\n",
       "       '7_generalNL', '7_generalStructured', '8_specificNL',\n",
       "       '8_specificStructured', '8_generalNL', '8_generalStructured',\n",
       "       '9_specificNL', '9_specificStructured', '9_generalNL',\n",
       "       '9_generalStructured', '10_specificNL', '10_specificStructured',\n",
       "       '10_generalNL', '10_generalStructured', 'number_filled_in'],\n",
       "      dtype='object')"
      ]
     },
     "execution_count": 3,
     "metadata": {},
     "output_type": "execute_result"
    }
   ],
   "source": [
    "glucose.columns"
   ]
  },
  {
   "cell_type": "code",
   "execution_count": 4,
   "metadata": {},
   "outputs": [],
   "source": [
    "sample = glucose.sample(1)"
   ]
  },
  {
   "cell_type": "code",
   "execution_count": 8,
   "metadata": {},
   "outputs": [
    {
     "data": {
      "text/plain": [
       "'Alex did not like birthday cake. His girlfriend knew that. His favorite sweet was cookies. So she make him a cookie cake. Alex was so surprised and loved it.'"
      ]
     },
     "execution_count": 8,
     "metadata": {},
     "output_type": "execute_result"
    }
   ],
   "source": [
    "sample.story.item()"
   ]
  },
  {
   "cell_type": "code",
   "execution_count": 9,
   "metadata": {},
   "outputs": [
    {
     "data": {
      "text/plain": [
       "'Alex was so surprised and loved it.'"
      ]
     },
     "execution_count": 9,
     "metadata": {},
     "output_type": "execute_result"
    }
   ],
   "source": [
    "sample.selected_sentence.item()"
   ]
  },
  {
   "cell_type": "code",
   "execution_count": 12,
   "metadata": {},
   "outputs": [
    {
     "name": "stdout",
     "output_type": "stream",
     "text": [
      "1_specificNL: Alex gets a cookie cake >Causes/Enables> Alex loves it\n",
      "1_specificStructured: {Alex}_[subject] {gets}_[verb] {a cookie cake}_[object1] >Causes/Enables> {Alex}_[subject] {loves}_[verb] {it}_[object1]\n",
      "1_generalNL: Someone_A gets Something_A >Causes/Enables> Someone_A loves Something_A\n",
      "1_generalStructured: {Someone_A}_[subject] {gets}_[verb] {Something_A}_[object1] >Causes/Enables> {Someone_A}_[subject] {loves}_[verb] {Something_A}_[object1]\n",
      "2_specificNL: escaped\n",
      "2_specificStructured: escaped\n",
      "2_generalNL: escaped\n",
      "2_generalStructured: escaped\n",
      "3_specificNL: escaped\n",
      "3_specificStructured: escaped\n",
      "3_generalNL: escaped\n",
      "3_generalStructured: escaped\n",
      "4_specificNL: Alex possess(es) a cookie cake >Enables> Alex loves the cake\n",
      "4_specificStructured: {Alex}_[subject] {possess(es)}_[verb] {a cookie cake}_[object] >Enables> {Alex}_[subject] {loves}_[verb] {the cake}_[object1]\n",
      "4_generalNL: Someone_A possess(es) Something_A >Enables> Someone_A loves Something_A\n",
      "4_generalStructured: {Someone_A}_[subject] {possess(es)}_[verb] {Something_A}_[object] >Enables> {Someone_A}_[subject] {loves}_[verb] {Something_A}_[object1]\n",
      "5_specificNL: The cookie cake is great >Enables> Alex loves it\n",
      "5_specificStructured: {The cookie cake}_[subject] {is}_[verb] {great}_[object] >Enables> {Alex}_[subject] {loves}_[verb] {it}_[object1]\n",
      "5_generalNL: Something_A is great >Enables> Someone_A loves Something_A\n",
      "5_generalStructured: {Something_A}_[subject] {is}_[verb] {great}_[object] >Enables> {Someone_A}_[subject] {loves}_[verb] {Something_A}_[object1]\n",
      "6_specificNL: Alex loves the cookie cake >Causes/Enables> Alex eats the cookie cake\n",
      "6_specificStructured: {Alex}_[subject] {loves}_[verb] {the cookie cake}_[object1] >Causes/Enables> {Alex}_[subject] {eats}_[verb] {the cookie cake}_[object1]\n",
      "6_generalNL: Someone_A loves Something_A (that is edible) >Causes/Enables> Someone_A eats Something_A\n",
      "6_generalStructured: {Someone_A}_[subject] {loves}_[verb] {Something_A ||that is edible||}_[object1] >Causes/Enables> {Someone_A}_[subject] {eats}_[verb] {Something_A}_[object1]\n",
      "7_specificNL: Alex is surprised >Causes> Alex feel(s) happy\n",
      "7_specificStructured: {Alex}_[subject] {is}_[verb] {surprised}_[object1] >Causes> {Alex}_[subject] {feel(s)}_[verb] {happy}_[object]\n",
      "7_generalNL: Someone_A is pleasantly surprised >Causes> Someone_A feel(s) happy\n",
      "7_generalStructured: {Someone_A}_[subject] {is}_[verb] {pleasantly surprised}_[object1] >Causes> {Someone_A}_[subject] {feel(s)}_[verb] {happy}_[object]\n",
      "8_specificNL: escaped\n",
      "8_specificStructured: escaped\n",
      "8_generalNL: escaped\n",
      "8_generalStructured: escaped\n",
      "9_specificNL: escaped\n",
      "9_specificStructured: escaped\n",
      "9_generalNL: escaped\n",
      "9_generalStructured: escaped\n",
      "10_specificNL: escaped\n",
      "10_specificStructured: escaped\n",
      "10_generalNL: escaped\n",
      "10_generalStructured: escaped\n"
     ]
    }
   ],
   "source": [
    "for col in sample.columns:\n",
    "    if \"specific\" in col or \"general\" in col:\n",
    "        print(f\"{col}: {sample[col].item()}\")"
   ]
  },
  {
   "cell_type": "code",
   "execution_count": 1,
   "metadata": {},
   "outputs": [],
   "source": [
    "import pandas as pd\n",
    "\n",
    "t5_data = pd.read_csv(\"glucose/t5_data/t5_training_data.tsv\", sep=\"\\t\", header=None)"
   ]
  },
  {
   "cell_type": "code",
   "execution_count": 2,
   "metadata": {},
   "outputs": [
    {
     "data": {
      "text/html": [
       "<div>\n",
       "<style scoped>\n",
       "    .dataframe tbody tr th:only-of-type {\n",
       "        vertical-align: middle;\n",
       "    }\n",
       "\n",
       "    .dataframe tbody tr th {\n",
       "        vertical-align: top;\n",
       "    }\n",
       "\n",
       "    .dataframe thead th {\n",
       "        text-align: right;\n",
       "    }\n",
       "</style>\n",
       "<table border=\"1\" class=\"dataframe\">\n",
       "  <thead>\n",
       "    <tr style=\"text-align: right;\">\n",
       "      <th></th>\n",
       "      <th>0</th>\n",
       "      <th>1</th>\n",
       "    </tr>\n",
       "  </thead>\n",
       "  <tbody>\n",
       "    <tr>\n",
       "      <th>0</th>\n",
       "      <td>2: *Tim got a new dog.* He tried to teach it f...</td>\n",
       "      <td>Tim like(s) dogs &gt;Motivates&gt; Tim got a new dog...</td>\n",
       "    </tr>\n",
       "    <tr>\n",
       "      <th>1</th>\n",
       "      <td>6: *Tim got a new dog.* He tried to teach it f...</td>\n",
       "      <td>Tim got a dog &gt;Causes/Enables&gt; Tim tried to te...</td>\n",
       "    </tr>\n",
       "    <tr>\n",
       "      <th>2</th>\n",
       "      <td>9: *Tim got a new dog.* He tried to teach it f...</td>\n",
       "      <td>Tim got a dog &gt;Results in&gt; Tim possess(es) a d...</td>\n",
       "    </tr>\n",
       "    <tr>\n",
       "      <th>3</th>\n",
       "      <td>7: The family hamster had escaped. *They were ...</td>\n",
       "      <td>The family hamster has escaped &gt;Causes&gt; We fee...</td>\n",
       "    </tr>\n",
       "    <tr>\n",
       "      <th>4</th>\n",
       "      <td>1: Kate threw a frisbee to her dog. The dog ca...</td>\n",
       "      <td>Kate's dog caught a frisbee &gt;Causes/Enables&gt; K...</td>\n",
       "    </tr>\n",
       "  </tbody>\n",
       "</table>\n",
       "</div>"
      ],
      "text/plain": [
       "                                                   0  \\\n",
       "0  2: *Tim got a new dog.* He tried to teach it f...   \n",
       "1  6: *Tim got a new dog.* He tried to teach it f...   \n",
       "2  9: *Tim got a new dog.* He tried to teach it f...   \n",
       "3  7: The family hamster had escaped. *They were ...   \n",
       "4  1: Kate threw a frisbee to her dog. The dog ca...   \n",
       "\n",
       "                                                   1  \n",
       "0  Tim like(s) dogs >Motivates> Tim got a new dog...  \n",
       "1  Tim got a dog >Causes/Enables> Tim tried to te...  \n",
       "2  Tim got a dog >Results in> Tim possess(es) a d...  \n",
       "3  The family hamster has escaped >Causes> We fee...  \n",
       "4  Kate's dog caught a frisbee >Causes/Enables> K...  "
      ]
     },
     "execution_count": 2,
     "metadata": {},
     "output_type": "execute_result"
    }
   ],
   "source": [
    "t5_data.head()"
   ]
  },
  {
   "cell_type": "code",
   "execution_count": 5,
   "metadata": {},
   "outputs": [
    {
     "data": {
      "text/plain": [
       "'2: *Tim got a new dog.* He tried to teach it fetch. The dog would not fetch. Tim kept trying for five weeks. Soon, the dog was great at playing fetch.'"
      ]
     },
     "execution_count": 5,
     "metadata": {},
     "output_type": "execute_result"
    }
   ],
   "source": [
    "t5_data.iloc[0][0]"
   ]
  },
  {
   "cell_type": "code",
   "execution_count": 6,
   "metadata": {},
   "outputs": [
    {
     "data": {
      "text/plain": [
       "'Tim like(s) dogs >Motivates> Tim got a new dog ** Someone_A like(s) Something_A >Motivates> Someone_A got Something_A'"
      ]
     },
     "execution_count": 6,
     "metadata": {},
     "output_type": "execute_result"
    }
   ],
   "source": [
    "t5_data.iloc[0][1]"
   ]
  },
  {
   "cell_type": "code",
   "execution_count": 3,
   "metadata": {},
   "outputs": [
    {
     "name": "stderr",
     "output_type": "stream",
     "text": [
      "/Users/mismayil/.pyenv/versions/3.9.7/envs/op/lib/python3.9/site-packages/transformers/models/t5/tokenization_t5.py:164: FutureWarning: This tokenizer was incorrectly instantiated with a model max length of 512 which will be corrected in Transformers v5.\n",
      "For now, this behavior is kept to avoid breaking backwards compatibility when padding/encoding with `truncation is True`.\n",
      "- Be aware that you SHOULD NOT rely on t5-large automatically truncating your input to 512 when padding/encoding.\n",
      "- If you want to encode/pad to sequences longer than 512 you can either instantiate this tokenizer with `model_max_length` or pass `max_length` when encoding/padding.\n",
      "- To avoid this warning, please instantiate this tokenizer with `model_max_length` set to your preferred value.\n",
      "  warnings.warn(\n"
     ]
    }
   ],
   "source": [
    "import pandas as pd\n",
    "from transformers import T5Tokenizer\n",
    "from glucose_t5_utils import GlucoseDataset\n",
    "\n",
    "glucose_t5 = pd.read_csv(\"data/t5_training_data.tsv\", sep=\"\\t\", header=None)\n",
    "glucose_t5_specific = pd.DataFrame()\n",
    "glucose_t5_specific[\"input\"] = glucose_t5.iloc[:, 0]\n",
    "glucose_t5_specific[\"target\"] = glucose_t5.iloc[:, 1].apply(lambda x: x.split(\"**\")[0].strip())\n",
    "tokenizer = T5Tokenizer.from_pretrained(\"t5-large\")\n",
    "ds = GlucoseDataset(glucose_t5_specific, tokenizer)"
   ]
  },
  {
   "cell_type": "code",
   "execution_count": 4,
   "metadata": {},
   "outputs": [
    {
     "data": {
      "text/plain": [
       "{'input_ids': tensor([  204,    10,  1429,   382,   603,   530,     3,     9,   126,  1782,\n",
       "             5,  1935,   216,  1971,    12,  3884,    34, 27109,     5,    37,\n",
       "          1782,   133,    59, 27109,     5,  4485,  2697,  1119,    21,   874,\n",
       "          1274,     5, 14902,     6,     8,  1782,    47,   248,    44,  1556,\n",
       "         27109,     5,     1,     0,     0,     0,     0,     0,     0,     0,\n",
       "             0,     0,     0,     0,     0,     0,     0,     0,     0,     0,\n",
       "             0,     0,     0,     0,     0,     0,     0,     0,     0,     0,\n",
       "             0,     0,     0,     0,     0,     0,     0,     0,     0,     0,\n",
       "             0,     0,     0,     0,     0,     0,     0,     0,     0,     0,\n",
       "             0,     0,     0,     0,     0,     0,     0,     0,     0,     0,\n",
       "             0,     0,     0,     0,     0,     0,     0,     0,     0,     0,\n",
       "             0,     0,     0,     0,     0,     0,     0,     0,     0,     0,\n",
       "             0,     0,     0,     0,     0,     0,     0,     0,     0,     0,\n",
       "             0,     0,     0,     0,     0,     0,     0,     0,     0,     0,\n",
       "             0,     0,     0,     0,     0,     0,     0,     0,     0,     0,\n",
       "             0,     0,     0,     0,     0,     0,     0,     0,     0,     0,\n",
       "             0,     0,     0,     0,     0,     0,     0,     0,     0,     0,\n",
       "             0,     0,     0,     0,     0,     0,     0,     0,     0,     0,\n",
       "             0,     0,     0,     0,     0,     0,     0,     0,     0,     0,\n",
       "             0,     0,     0,     0,     0,     0,     0,     0,     0,     0,\n",
       "             0,     0,     0,     0,     0,     0,     0,     0,     0,     0,\n",
       "             0,     0,     0,     0,     0,     0,     0,     0,     0,     0,\n",
       "             0,     0,     0,     0,     0,     0,     0,     0,     0,     0,\n",
       "             0,     0,     0,     0,     0,     0,     0,     0,     0,     0,\n",
       "             0,     0,     0,     0,     0,     0,     0,     0,     0,     0,\n",
       "             0,     0,     0,     0,     0,     0,     0,     0,     0,     0,\n",
       "             0,     0,     0,     0,     0,     0,     0,     0,     0,     0,\n",
       "             0,     0,     0,     0,     0,     0,     0,     0,     0,     0,\n",
       "             0,     0,     0,     0,     0,     0,     0,     0,     0,     0,\n",
       "             0,     0,     0,     0,     0,     0,     0,     0,     0,     0,\n",
       "             0,     0,     0,     0,     0,     0,     0,     0,     0,     0,\n",
       "             0,     0,     0,     0,     0,     0,     0,     0,     0,     0,\n",
       "             0,     0,     0,     0,     0,     0,     0,     0,     0,     0,\n",
       "             0,     0,     0,     0,     0,     0,     0,     0,     0,     0,\n",
       "             0,     0,     0,     0,     0,     0,     0,     0,     0,     0,\n",
       "             0,     0,     0,     0,     0,     0,     0,     0,     0,     0,\n",
       "             0,     0,     0,     0,     0,     0,     0,     0,     0,     0,\n",
       "             0,     0,     0,     0,     0,     0,     0,     0,     0,     0,\n",
       "             0,     0,     0,     0,     0,     0,     0,     0,     0,     0,\n",
       "             0,     0,     0,     0,     0,     0,     0,     0,     0,     0,\n",
       "             0,     0,     0,     0,     0,     0,     0,     0,     0,     0,\n",
       "             0,     0,     0,     0,     0,     0,     0,     0,     0,     0,\n",
       "             0,     0,     0,     0,     0,     0,     0,     0,     0,     0,\n",
       "             0,     0,     0,     0,     0,     0,     0,     0,     0,     0,\n",
       "             0,     0,     0,     0,     0,     0,     0,     0,     0,     0,\n",
       "             0,     0,     0,     0,     0,     0,     0,     0,     0,     0,\n",
       "             0,     0,     0,     0,     0,     0,     0,     0,     0,     0,\n",
       "             0,     0,     0,     0,     0,     0,     0,     0,     0,     0,\n",
       "             0,     0,     0,     0,     0,     0,     0,     0,     0,     0,\n",
       "             0,     0,     0,     0,     0,     0,     0,     0,     0,     0,\n",
       "             0,     0,     0,     0,     0,     0,     0,     0,     0,     0,\n",
       "             0,     0]),\n",
       " 'attention_mask': tensor([1, 1, 1, 1, 1, 1, 1, 1, 1, 1, 1, 1, 1, 1, 1, 1, 1, 1, 1, 1, 1, 1, 1, 1,\n",
       "         1, 1, 1, 1, 1, 1, 1, 1, 1, 1, 1, 1, 1, 1, 1, 1, 1, 1, 1, 0, 0, 0, 0, 0,\n",
       "         0, 0, 0, 0, 0, 0, 0, 0, 0, 0, 0, 0, 0, 0, 0, 0, 0, 0, 0, 0, 0, 0, 0, 0,\n",
       "         0, 0, 0, 0, 0, 0, 0, 0, 0, 0, 0, 0, 0, 0, 0, 0, 0, 0, 0, 0, 0, 0, 0, 0,\n",
       "         0, 0, 0, 0, 0, 0, 0, 0, 0, 0, 0, 0, 0, 0, 0, 0, 0, 0, 0, 0, 0, 0, 0, 0,\n",
       "         0, 0, 0, 0, 0, 0, 0, 0, 0, 0, 0, 0, 0, 0, 0, 0, 0, 0, 0, 0, 0, 0, 0, 0,\n",
       "         0, 0, 0, 0, 0, 0, 0, 0, 0, 0, 0, 0, 0, 0, 0, 0, 0, 0, 0, 0, 0, 0, 0, 0,\n",
       "         0, 0, 0, 0, 0, 0, 0, 0, 0, 0, 0, 0, 0, 0, 0, 0, 0, 0, 0, 0, 0, 0, 0, 0,\n",
       "         0, 0, 0, 0, 0, 0, 0, 0, 0, 0, 0, 0, 0, 0, 0, 0, 0, 0, 0, 0, 0, 0, 0, 0,\n",
       "         0, 0, 0, 0, 0, 0, 0, 0, 0, 0, 0, 0, 0, 0, 0, 0, 0, 0, 0, 0, 0, 0, 0, 0,\n",
       "         0, 0, 0, 0, 0, 0, 0, 0, 0, 0, 0, 0, 0, 0, 0, 0, 0, 0, 0, 0, 0, 0, 0, 0,\n",
       "         0, 0, 0, 0, 0, 0, 0, 0, 0, 0, 0, 0, 0, 0, 0, 0, 0, 0, 0, 0, 0, 0, 0, 0,\n",
       "         0, 0, 0, 0, 0, 0, 0, 0, 0, 0, 0, 0, 0, 0, 0, 0, 0, 0, 0, 0, 0, 0, 0, 0,\n",
       "         0, 0, 0, 0, 0, 0, 0, 0, 0, 0, 0, 0, 0, 0, 0, 0, 0, 0, 0, 0, 0, 0, 0, 0,\n",
       "         0, 0, 0, 0, 0, 0, 0, 0, 0, 0, 0, 0, 0, 0, 0, 0, 0, 0, 0, 0, 0, 0, 0, 0,\n",
       "         0, 0, 0, 0, 0, 0, 0, 0, 0, 0, 0, 0, 0, 0, 0, 0, 0, 0, 0, 0, 0, 0, 0, 0,\n",
       "         0, 0, 0, 0, 0, 0, 0, 0, 0, 0, 0, 0, 0, 0, 0, 0, 0, 0, 0, 0, 0, 0, 0, 0,\n",
       "         0, 0, 0, 0, 0, 0, 0, 0, 0, 0, 0, 0, 0, 0, 0, 0, 0, 0, 0, 0, 0, 0, 0, 0,\n",
       "         0, 0, 0, 0, 0, 0, 0, 0, 0, 0, 0, 0, 0, 0, 0, 0, 0, 0, 0, 0, 0, 0, 0, 0,\n",
       "         0, 0, 0, 0, 0, 0, 0, 0, 0, 0, 0, 0, 0, 0, 0, 0, 0, 0, 0, 0, 0, 0, 0, 0,\n",
       "         0, 0, 0, 0, 0, 0, 0, 0, 0, 0, 0, 0, 0, 0, 0, 0, 0, 0, 0, 0, 0, 0, 0, 0,\n",
       "         0, 0, 0, 0, 0, 0, 0, 0]),\n",
       " 'labels': tensor([4485,  114,  599,    7,   61, 3887, 2490,  329,   32, 5499, 6203, 3155,\n",
       "         4485,  530,    3,    9,  126, 1782,    1,    0,    0,    0,    0,    0,\n",
       "            0,    0,    0,    0,    0,    0,    0,    0,    0,    0,    0,    0,\n",
       "            0,    0,    0,    0,    0,    0,    0,    0,    0,    0,    0,    0,\n",
       "            0,    0,    0,    0,    0,    0,    0,    0,    0,    0,    0,    0,\n",
       "            0,    0,    0,    0,    0,    0,    0,    0,    0,    0,    0,    0,\n",
       "            0,    0,    0,    0,    0,    0,    0,    0,    0,    0,    0,    0,\n",
       "            0,    0,    0,    0,    0,    0,    0,    0,    0,    0,    0,    0,\n",
       "            0,    0,    0,    0,    0,    0,    0,    0,    0,    0,    0,    0,\n",
       "            0,    0,    0,    0,    0,    0,    0,    0,    0,    0,    0,    0,\n",
       "            0,    0,    0,    0,    0,    0,    0,    0,    0,    0,    0,    0,\n",
       "            0,    0,    0,    0,    0,    0,    0,    0,    0,    0,    0,    0,\n",
       "            0,    0,    0,    0,    0,    0,    0,    0,    0,    0,    0,    0,\n",
       "            0,    0,    0,    0,    0,    0,    0,    0,    0,    0,    0,    0,\n",
       "            0,    0,    0,    0,    0,    0,    0,    0,    0,    0,    0,    0,\n",
       "            0,    0,    0,    0,    0,    0,    0,    0,    0,    0,    0,    0,\n",
       "            0,    0,    0,    0,    0,    0,    0,    0,    0,    0,    0,    0,\n",
       "            0,    0,    0,    0,    0,    0,    0,    0,    0,    0,    0,    0,\n",
       "            0,    0,    0,    0,    0,    0,    0,    0,    0,    0,    0,    0,\n",
       "            0,    0,    0,    0,    0,    0,    0,    0,    0,    0,    0,    0,\n",
       "            0,    0,    0,    0,    0,    0,    0,    0,    0,    0,    0,    0,\n",
       "            0,    0,    0,    0,    0,    0,    0,    0,    0,    0,    0,    0,\n",
       "            0,    0,    0,    0,    0,    0,    0,    0,    0,    0,    0,    0,\n",
       "            0,    0,    0,    0,    0,    0,    0,    0,    0,    0,    0,    0,\n",
       "            0,    0,    0,    0,    0,    0,    0,    0,    0,    0,    0,    0,\n",
       "            0,    0,    0,    0,    0,    0,    0,    0,    0,    0,    0,    0,\n",
       "            0,    0,    0,    0,    0,    0,    0,    0,    0,    0,    0,    0,\n",
       "            0,    0,    0,    0,    0,    0,    0,    0,    0,    0,    0,    0,\n",
       "            0,    0,    0,    0,    0,    0,    0,    0,    0,    0,    0,    0,\n",
       "            0,    0,    0,    0,    0,    0,    0,    0,    0,    0,    0,    0,\n",
       "            0,    0,    0,    0,    0,    0,    0,    0,    0,    0,    0,    0,\n",
       "            0,    0,    0,    0,    0,    0,    0,    0,    0,    0,    0,    0,\n",
       "            0,    0,    0,    0,    0,    0,    0,    0,    0,    0,    0,    0,\n",
       "            0,    0,    0,    0,    0,    0,    0,    0,    0,    0,    0,    0,\n",
       "            0,    0,    0,    0,    0,    0,    0,    0,    0,    0,    0,    0,\n",
       "            0,    0,    0,    0,    0,    0,    0,    0,    0,    0,    0,    0,\n",
       "            0,    0,    0,    0,    0,    0,    0,    0,    0,    0,    0,    0,\n",
       "            0,    0,    0,    0,    0,    0,    0,    0,    0,    0,    0,    0,\n",
       "            0,    0,    0,    0,    0,    0,    0,    0,    0,    0,    0,    0,\n",
       "            0,    0,    0,    0,    0,    0,    0,    0,    0,    0,    0,    0,\n",
       "            0,    0,    0,    0,    0,    0,    0,    0,    0,    0,    0,    0,\n",
       "            0,    0,    0,    0,    0,    0,    0,    0,    0,    0,    0,    0,\n",
       "            0,    0,    0,    0,    0,    0,    0,    0])}"
      ]
     },
     "execution_count": 4,
     "metadata": {},
     "output_type": "execute_result"
    }
   ],
   "source": [
    "ds[0]"
   ]
  },
  {
   "cell_type": "code",
   "execution_count": 1,
   "metadata": {},
   "outputs": [],
   "source": [
    "import pandas as pd\n",
    "\n",
    "glucose_test = pd.read_csv(\"../glucose/test/test_set_answer_key.csv\")"
   ]
  },
  {
   "cell_type": "code",
   "execution_count": 2,
   "metadata": {},
   "outputs": [
    {
     "data": {
      "text/plain": [
       "Index(['unique_id', 'story', 'selected_sentence', 'worker_ids', '1_specificNL',\n",
       "       '1_generalNL', '2_specificNL', '2_generalNL', '3_specificNL',\n",
       "       '3_generalNL', '4_specificNL', '4_generalNL', '5_specificNL',\n",
       "       '5_generalNL', '6_specificNL', '6_generalNL', '7_specificNL',\n",
       "       '7_generalNL', '8_specificNL', '8_generalNL', '9_specificNL',\n",
       "       '9_generalNL', '10_specificNL', '10_generalNL'],\n",
       "      dtype='object')"
      ]
     },
     "execution_count": 2,
     "metadata": {},
     "output_type": "execute_result"
    }
   ],
   "source": [
    "glucose_test.columns"
   ]
  },
  {
   "cell_type": "code",
   "execution_count": 3,
   "metadata": {},
   "outputs": [
    {
     "data": {
      "text/html": [
       "<div>\n",
       "<style scoped>\n",
       "    .dataframe tbody tr th:only-of-type {\n",
       "        vertical-align: middle;\n",
       "    }\n",
       "\n",
       "    .dataframe tbody tr th {\n",
       "        vertical-align: top;\n",
       "    }\n",
       "\n",
       "    .dataframe thead th {\n",
       "        text-align: right;\n",
       "    }\n",
       "</style>\n",
       "<table border=\"1\" class=\"dataframe\">\n",
       "  <thead>\n",
       "    <tr style=\"text-align: right;\">\n",
       "      <th></th>\n",
       "      <th>unique_id</th>\n",
       "      <th>story</th>\n",
       "      <th>selected_sentence</th>\n",
       "      <th>worker_ids</th>\n",
       "      <th>1_specificNL</th>\n",
       "      <th>1_generalNL</th>\n",
       "      <th>2_specificNL</th>\n",
       "      <th>2_generalNL</th>\n",
       "      <th>3_specificNL</th>\n",
       "      <th>3_generalNL</th>\n",
       "      <th>...</th>\n",
       "      <th>6_specificNL</th>\n",
       "      <th>6_generalNL</th>\n",
       "      <th>7_specificNL</th>\n",
       "      <th>7_generalNL</th>\n",
       "      <th>8_specificNL</th>\n",
       "      <th>8_generalNL</th>\n",
       "      <th>9_specificNL</th>\n",
       "      <th>9_generalNL</th>\n",
       "      <th>10_specificNL</th>\n",
       "      <th>10_generalNL</th>\n",
       "    </tr>\n",
       "  </thead>\n",
       "  <tbody>\n",
       "    <tr>\n",
       "      <th>0</th>\n",
       "      <td>00294500-d3fe-4bf5-883f-55118bca417c__3</td>\n",
       "      <td>Meg went shopping.****She found a sweater she ...</td>\n",
       "      <td>Three weeks later the sweater went on sale.</td>\n",
       "      <td>A2MHM7JK1T9XHR****A2CMYWI1J292YJ****AGTKQI9PCODC5</td>\n",
       "      <td>escaped</td>\n",
       "      <td>escaped</td>\n",
       "      <td>escaped</td>\n",
       "      <td>escaped</td>\n",
       "      <td>escaped</td>\n",
       "      <td>escaped</td>\n",
       "      <td>...</td>\n",
       "      <td>The sweater went on  sale &gt;Causes/Enables&gt; Meg...</td>\n",
       "      <td>Something_A goes on  sale &gt;Causes/Enables&gt; Som...</td>\n",
       "      <td>The sweater goes on  sale &gt;Causes&gt; Meg feel(s)...</td>\n",
       "      <td>Something_A goes  on  sale &gt;Causes&gt; Someone_A ...</td>\n",
       "      <td>escaped</td>\n",
       "      <td>escaped</td>\n",
       "      <td>escaped</td>\n",
       "      <td>escaped</td>\n",
       "      <td>escaped</td>\n",
       "      <td>escaped</td>\n",
       "    </tr>\n",
       "    <tr>\n",
       "      <th>1</th>\n",
       "      <td>013fe112-3557-4e5f-8617-cb5eac764df1__1</td>\n",
       "      <td>The football team had worked hard all season.*...</td>\n",
       "      <td>They won regionals and were on the way to the ...</td>\n",
       "      <td>A2NGMLBFZ3YQP5****A2MHM7JK1T9XHR****A33DSCVAUO...</td>\n",
       "      <td>The football team had worked hard all season. ...</td>\n",
       "      <td>Some People_A (who are a team) work hard &gt;Caus...</td>\n",
       "      <td>escaped</td>\n",
       "      <td>escaped</td>\n",
       "      <td>escaped</td>\n",
       "      <td>escaped</td>\n",
       "      <td>...</td>\n",
       "      <td>escaped</td>\n",
       "      <td>escaped</td>\n",
       "      <td>escaped</td>\n",
       "      <td>escaped</td>\n",
       "      <td>escaped</td>\n",
       "      <td>escaped</td>\n",
       "      <td>escaped</td>\n",
       "      <td>escaped</td>\n",
       "      <td>escaped</td>\n",
       "      <td>escaped</td>\n",
       "    </tr>\n",
       "    <tr>\n",
       "      <th>2</th>\n",
       "      <td>013fe112-3557-4e5f-8617-cb5eac764df1__3</td>\n",
       "      <td>The football team had worked hard all season.*...</td>\n",
       "      <td>The team had to use the second string quarterb...</td>\n",
       "      <td>A33DSCVAUOWIQY****A2MHM7JK1T9XHR****A1UYU9PV26...</td>\n",
       "      <td>The quarterback breaks his arm &gt;Causes/Enables...</td>\n",
       "      <td>Someone_A (who is the first choice to play in ...</td>\n",
       "      <td>The team want(s) a quarterback &gt;Motivates&gt; The...</td>\n",
       "      <td>Some People_A want(s) Someone_B (who is on the...</td>\n",
       "      <td>escaped</td>\n",
       "      <td>escaped</td>\n",
       "      <td>...</td>\n",
       "      <td>The team has to use the second string quarterb...</td>\n",
       "      <td>Some People_A (who are a sports team) use Some...</td>\n",
       "      <td>escaped</td>\n",
       "      <td>escaped</td>\n",
       "      <td>escaped</td>\n",
       "      <td>escaped</td>\n",
       "      <td>escaped</td>\n",
       "      <td>escaped</td>\n",
       "      <td>escaped</td>\n",
       "      <td>escaped</td>\n",
       "    </tr>\n",
       "    <tr>\n",
       "      <th>3</th>\n",
       "      <td>01f094f4-e770-42e4-b6cd-6604ac58d810__3</td>\n",
       "      <td>Aaron was coming home from a football game.***...</td>\n",
       "      <td>He pops his hood and smoke flies everywhere.</td>\n",
       "      <td>A1NPSBHME4MVX4****ATR6RB1RULOC0****A33DSCVAUOWIQY</td>\n",
       "      <td>escaped</td>\n",
       "      <td>escaped</td>\n",
       "      <td>escaped</td>\n",
       "      <td>escaped</td>\n",
       "      <td>escaped</td>\n",
       "      <td>escaped</td>\n",
       "      <td>...</td>\n",
       "      <td>escaped</td>\n",
       "      <td>escaped</td>\n",
       "      <td>escaped</td>\n",
       "      <td>escaped</td>\n",
       "      <td>escaped</td>\n",
       "      <td>escaped</td>\n",
       "      <td>escaped</td>\n",
       "      <td>escaped</td>\n",
       "      <td>escaped</td>\n",
       "      <td>escaped</td>\n",
       "    </tr>\n",
       "    <tr>\n",
       "      <th>4</th>\n",
       "      <td>035e99b6-c39f-4fe7-b5ef-a19fdc4f138f__2</td>\n",
       "      <td>Martin heard a noise.****He looked up to see a...</td>\n",
       "      <td>He screamed and ran upstairs.</td>\n",
       "      <td>A3PPLDHC3CG0YN****A3L0I55SEJU1HJ****A39TKG862P...</td>\n",
       "      <td>escaped</td>\n",
       "      <td>escaped</td>\n",
       "      <td>Martin  feel(s) scared &gt;Motivates&gt; Martin scre...</td>\n",
       "      <td>Someone_A feel(s) scared &gt;Motivates&gt; Someone_A...</td>\n",
       "      <td>escaped</td>\n",
       "      <td>escaped</td>\n",
       "      <td>...</td>\n",
       "      <td>escaped</td>\n",
       "      <td>escaped</td>\n",
       "      <td>escaped</td>\n",
       "      <td>escaped</td>\n",
       "      <td>escaped</td>\n",
       "      <td>escaped</td>\n",
       "      <td>escaped</td>\n",
       "      <td>escaped</td>\n",
       "      <td>escaped</td>\n",
       "      <td>escaped</td>\n",
       "    </tr>\n",
       "  </tbody>\n",
       "</table>\n",
       "<p>5 rows × 24 columns</p>\n",
       "</div>"
      ],
      "text/plain": [
       "                                 unique_id  \\\n",
       "0  00294500-d3fe-4bf5-883f-55118bca417c__3   \n",
       "1  013fe112-3557-4e5f-8617-cb5eac764df1__1   \n",
       "2  013fe112-3557-4e5f-8617-cb5eac764df1__3   \n",
       "3  01f094f4-e770-42e4-b6cd-6604ac58d810__3   \n",
       "4  035e99b6-c39f-4fe7-b5ef-a19fdc4f138f__2   \n",
       "\n",
       "                                               story  \\\n",
       "0  Meg went shopping.****She found a sweater she ...   \n",
       "1  The football team had worked hard all season.*...   \n",
       "2  The football team had worked hard all season.*...   \n",
       "3  Aaron was coming home from a football game.***...   \n",
       "4  Martin heard a noise.****He looked up to see a...   \n",
       "\n",
       "                                   selected_sentence  \\\n",
       "0        Three weeks later the sweater went on sale.   \n",
       "1  They won regionals and were on the way to the ...   \n",
       "2  The team had to use the second string quarterb...   \n",
       "3       He pops his hood and smoke flies everywhere.   \n",
       "4                      He screamed and ran upstairs.   \n",
       "\n",
       "                                          worker_ids  \\\n",
       "0  A2MHM7JK1T9XHR****A2CMYWI1J292YJ****AGTKQI9PCODC5   \n",
       "1  A2NGMLBFZ3YQP5****A2MHM7JK1T9XHR****A33DSCVAUO...   \n",
       "2  A33DSCVAUOWIQY****A2MHM7JK1T9XHR****A1UYU9PV26...   \n",
       "3  A1NPSBHME4MVX4****ATR6RB1RULOC0****A33DSCVAUOWIQY   \n",
       "4  A3PPLDHC3CG0YN****A3L0I55SEJU1HJ****A39TKG862P...   \n",
       "\n",
       "                                        1_specificNL  \\\n",
       "0                                            escaped   \n",
       "1  The football team had worked hard all season. ...   \n",
       "2  The quarterback breaks his arm >Causes/Enables...   \n",
       "3                                            escaped   \n",
       "4                                            escaped   \n",
       "\n",
       "                                         1_generalNL  \\\n",
       "0                                            escaped   \n",
       "1  Some People_A (who are a team) work hard >Caus...   \n",
       "2  Someone_A (who is the first choice to play in ...   \n",
       "3                                            escaped   \n",
       "4                                            escaped   \n",
       "\n",
       "                                        2_specificNL  \\\n",
       "0                                            escaped   \n",
       "1                                            escaped   \n",
       "2  The team want(s) a quarterback >Motivates> The...   \n",
       "3                                            escaped   \n",
       "4  Martin  feel(s) scared >Motivates> Martin scre...   \n",
       "\n",
       "                                         2_generalNL 3_specificNL 3_generalNL  \\\n",
       "0                                            escaped      escaped     escaped   \n",
       "1                                            escaped      escaped     escaped   \n",
       "2  Some People_A want(s) Someone_B (who is on the...      escaped     escaped   \n",
       "3                                            escaped      escaped     escaped   \n",
       "4  Someone_A feel(s) scared >Motivates> Someone_A...      escaped     escaped   \n",
       "\n",
       "   ...                                       6_specificNL  \\\n",
       "0  ...  The sweater went on  sale >Causes/Enables> Meg...   \n",
       "1  ...                                            escaped   \n",
       "2  ...  The team has to use the second string quarterb...   \n",
       "3  ...                                            escaped   \n",
       "4  ...                                            escaped   \n",
       "\n",
       "                                         6_generalNL  \\\n",
       "0  Something_A goes on  sale >Causes/Enables> Som...   \n",
       "1                                            escaped   \n",
       "2  Some People_A (who are a sports team) use Some...   \n",
       "3                                            escaped   \n",
       "4                                            escaped   \n",
       "\n",
       "                                        7_specificNL  \\\n",
       "0  The sweater goes on  sale >Causes> Meg feel(s)...   \n",
       "1                                            escaped   \n",
       "2                                            escaped   \n",
       "3                                            escaped   \n",
       "4                                            escaped   \n",
       "\n",
       "                                         7_generalNL 8_specificNL 8_generalNL  \\\n",
       "0  Something_A goes  on  sale >Causes> Someone_A ...      escaped     escaped   \n",
       "1                                            escaped      escaped     escaped   \n",
       "2                                            escaped      escaped     escaped   \n",
       "3                                            escaped      escaped     escaped   \n",
       "4                                            escaped      escaped     escaped   \n",
       "\n",
       "  9_specificNL 9_generalNL 10_specificNL 10_generalNL  \n",
       "0      escaped     escaped       escaped      escaped  \n",
       "1      escaped     escaped       escaped      escaped  \n",
       "2      escaped     escaped       escaped      escaped  \n",
       "3      escaped     escaped       escaped      escaped  \n",
       "4      escaped     escaped       escaped      escaped  \n",
       "\n",
       "[5 rows x 24 columns]"
      ]
     },
     "execution_count": 3,
     "metadata": {},
     "output_type": "execute_result"
    }
   ],
   "source": [
    "glucose_test.head()"
   ]
  },
  {
   "cell_type": "code",
   "execution_count": 4,
   "metadata": {},
   "outputs": [
    {
     "data": {
      "text/plain": [
       "'Meg went shopping.****She found a sweater she really liked.****The sweater was too expensive for Meg to buy.****Three weeks later the sweater went on sale.****Meg was very happy to finally be able to buy the sweater.'"
      ]
     },
     "execution_count": 4,
     "metadata": {},
     "output_type": "execute_result"
    }
   ],
   "source": [
    "glucose_test.iloc[0][\"story\"]"
   ]
  },
  {
   "cell_type": "code",
   "execution_count": 5,
   "metadata": {},
   "outputs": [
    {
     "data": {
      "text/plain": [
       "'1: Meg went shopping. She found a sweater she really liked. The sweater was too expensive for Meg to buy. *Three weeks later the sweater went on sale.* Meg was very happy to finally be able to buy the sweater.'"
      ]
     },
     "execution_count": 5,
     "metadata": {},
     "output_type": "execute_result"
    }
   ],
   "source": [
    "def prepare_glucose_t5_input(glucose_row, dim=1):\n",
    "    story = glucose_row[\"story\"]\n",
    "    selected_sentence = glucose_row[\"selected_sentence\"]\n",
    "    sentences = story.split(\"****\")\n",
    "    story_starred = \" \".join([f\"*{sentence}*\" if sentence.strip() == selected_sentence.strip() else sentence for sentence in sentences])\n",
    "    return f\"{dim}: {story_starred}\"\n",
    "\n",
    "prepare_glucose_t5_input(glucose_test.iloc[0])"
   ]
  },
  {
   "cell_type": "code",
   "execution_count": 7,
   "metadata": {},
   "outputs": [
    {
     "name": "stderr",
     "output_type": "stream",
     "text": [
      "/root/.conda/envs/op/lib/python3.9/site-packages/transformers/models/t5/tokenization_t5.py:164: FutureWarning: This tokenizer was incorrectly instantiated with a model max length of 512 which will be corrected in Transformers v5.\n",
      "For now, this behavior is kept to avoid breaking backwards compatibility when padding/encoding with `truncation is True`.\n",
      "- Be aware that you SHOULD NOT rely on t5-large automatically truncating your input to 512 when padding/encoding.\n",
      "- If you want to encode/pad to sequences longer than 512 you can either instantiate this tokenizer with `model_max_length` or pass `max_length` when encoding/padding.\n",
      "- To avoid this warning, please instantiate this tokenizer with `model_max_length` set to your preferred value.\n",
      "  warnings.warn(\n"
     ]
    },
    {
     "name": "stdout",
     "output_type": "stream",
     "text": [
      "Something_A (that is a sweater ) went on sale >Causes/Enables> Someone_A bought Something_A\n"
     ]
    }
   ],
   "source": [
    "import pandas as pd\n",
    "from transformers import T5Tokenizer, T5ForConditionalGeneration\n",
    "    \n",
    "tokenizer = T5Tokenizer.from_pretrained(\"t5-large\")\n",
    "model = T5ForConditionalGeneration.from_pretrained(\"/scratch/mete/glucose_t5_general_out/checkpoint-147900\")\n",
    "\n",
    "input_ids = tokenizer(prepare_glucose_t5_input(glucose_test.iloc[0], dim=6), return_tensors=\"pt\").input_ids\n",
    "outputs = model.generate(input_ids, max_length=512)\n",
    "print(tokenizer.decode(outputs[0], skip_special_tokens=True))"
   ]
  },
  {
   "cell_type": "code",
   "execution_count": 1,
   "metadata": {},
   "outputs": [],
   "source": [
    "import pandas as pd\n",
    "import sacrebleu\n",
    "\n",
    "eval_data = pd.read_csv(\"glucose_test_general_with_preds.csv\")"
   ]
  },
  {
   "cell_type": "code",
   "execution_count": 2,
   "metadata": {},
   "outputs": [
    {
     "data": {
      "text/html": [
       "<div>\n",
       "<style scoped>\n",
       "    .dataframe tbody tr th:only-of-type {\n",
       "        vertical-align: middle;\n",
       "    }\n",
       "\n",
       "    .dataframe tbody tr th {\n",
       "        vertical-align: top;\n",
       "    }\n",
       "\n",
       "    .dataframe thead th {\n",
       "        text-align: right;\n",
       "    }\n",
       "</style>\n",
       "<table border=\"1\" class=\"dataframe\">\n",
       "  <thead>\n",
       "    <tr style=\"text-align: right;\">\n",
       "      <th></th>\n",
       "      <th>Unnamed: 0</th>\n",
       "      <th>input</th>\n",
       "      <th>references</th>\n",
       "      <th>dimension</th>\n",
       "      <th>prediction</th>\n",
       "    </tr>\n",
       "  </thead>\n",
       "  <tbody>\n",
       "    <tr>\n",
       "      <th>0</th>\n",
       "      <td>0</td>\n",
       "      <td>6: Meg went shopping. She found a sweater she ...</td>\n",
       "      <td>['Something_A goes on  sale &gt;Causes/Enables&gt; S...</td>\n",
       "      <td>6</td>\n",
       "      <td>Something_A (that is a sweater ) went on sale ...</td>\n",
       "    </tr>\n",
       "    <tr>\n",
       "      <th>1</th>\n",
       "      <td>1</td>\n",
       "      <td>7: Meg went shopping. She found a sweater she ...</td>\n",
       "      <td>['Something_A goes  on  sale &gt;Causes&gt; Someone_...</td>\n",
       "      <td>7</td>\n",
       "      <td>Something_A (that is expensive) goes on sale &gt;...</td>\n",
       "    </tr>\n",
       "    <tr>\n",
       "      <th>2</th>\n",
       "      <td>2</td>\n",
       "      <td>1: The football team had worked hard all seaso...</td>\n",
       "      <td>['Some People_A (who are a team) work hard &gt;Ca...</td>\n",
       "      <td>1</td>\n",
       "      <td>Some People_A (who are a sports team) work har...</td>\n",
       "    </tr>\n",
       "    <tr>\n",
       "      <th>3</th>\n",
       "      <td>3</td>\n",
       "      <td>1: The football team had worked hard all seaso...</td>\n",
       "      <td>['Someone_A (who is the first choice to play i...</td>\n",
       "      <td>1</td>\n",
       "      <td>Someone_A breaks Something_A (that is a bone )...</td>\n",
       "    </tr>\n",
       "    <tr>\n",
       "      <th>4</th>\n",
       "      <td>4</td>\n",
       "      <td>2: The football team had worked hard all seaso...</td>\n",
       "      <td>['Some People_A want(s) Someone_B (who is on t...</td>\n",
       "      <td>2</td>\n",
       "      <td>Some People_A (who are a team) want(s) success...</td>\n",
       "    </tr>\n",
       "  </tbody>\n",
       "</table>\n",
       "</div>"
      ],
      "text/plain": [
       "   Unnamed: 0                                              input  \\\n",
       "0           0  6: Meg went shopping. She found a sweater she ...   \n",
       "1           1  7: Meg went shopping. She found a sweater she ...   \n",
       "2           2  1: The football team had worked hard all seaso...   \n",
       "3           3  1: The football team had worked hard all seaso...   \n",
       "4           4  2: The football team had worked hard all seaso...   \n",
       "\n",
       "                                          references  dimension  \\\n",
       "0  ['Something_A goes on  sale >Causes/Enables> S...          6   \n",
       "1  ['Something_A goes  on  sale >Causes> Someone_...          7   \n",
       "2  ['Some People_A (who are a team) work hard >Ca...          1   \n",
       "3  ['Someone_A (who is the first choice to play i...          1   \n",
       "4  ['Some People_A want(s) Someone_B (who is on t...          2   \n",
       "\n",
       "                                          prediction  \n",
       "0  Something_A (that is a sweater ) went on sale ...  \n",
       "1  Something_A (that is expensive) goes on sale >...  \n",
       "2  Some People_A (who are a sports team) work har...  \n",
       "3  Someone_A breaks Something_A (that is a bone )...  \n",
       "4  Some People_A (who are a team) want(s) success...  "
      ]
     },
     "execution_count": 2,
     "metadata": {},
     "output_type": "execute_result"
    }
   ],
   "source": [
    "eval_data.head()"
   ]
  },
  {
   "cell_type": "code",
   "execution_count": 27,
   "metadata": {},
   "outputs": [],
   "source": [
    "bleu_by_dim = {dim: 0 for dim in range(1, 11)}\n",
    "\n",
    "for dim in range(1, 11):\n",
    "    dim_eval_data = eval_data[eval_data.dimension == dim]\n",
    "    references = dim_eval_data.references.apply(lambda r: [s.strip().strip(\"'\") for s in r.rstrip(\"]\").strip(\"[\").split(\",\")]).to_list()\n",
    "    bleu_by_dim[dim] = sacrebleu.corpus_bleu(dim_eval_data.prediction.to_list(), references).score\n",
    "    "
   ]
  },
  {
   "cell_type": "code",
   "execution_count": 28,
   "metadata": {},
   "outputs": [
    {
     "data": {
      "text/plain": [
       "{1: 82.96218383195821,\n",
       " 2: 78.93965232499185,\n",
       " 3: 84.38292578221227,\n",
       " 4: 88.72172295458444,\n",
       " 5: 64.10679160572177,\n",
       " 6: 76.81760537097631,\n",
       " 7: 80.81255195239677,\n",
       " 8: 83.68367983783958,\n",
       " 9: 73.58710426786065,\n",
       " 10: 71.03289184164383}"
      ]
     },
     "execution_count": 28,
     "metadata": {},
     "output_type": "execute_result"
    }
   ],
   "source": [
    "bleu_by_dim"
   ]
  },
  {
   "cell_type": "code",
   "execution_count": 1,
   "metadata": {},
   "outputs": [],
   "source": [
    "import pandas as pd\n",
    "\n",
    "glucose = pd.read_csv(\"data/GLUCOSE_training_data_final.csv\")"
   ]
  },
  {
   "cell_type": "code",
   "execution_count": 57,
   "metadata": {},
   "outputs": [
    {
     "data": {
      "text/html": [
       "<div>\n",
       "<style scoped>\n",
       "    .dataframe tbody tr th:only-of-type {\n",
       "        vertical-align: middle;\n",
       "    }\n",
       "\n",
       "    .dataframe tbody tr th {\n",
       "        vertical-align: top;\n",
       "    }\n",
       "\n",
       "    .dataframe thead th {\n",
       "        text-align: right;\n",
       "    }\n",
       "</style>\n",
       "<table border=\"1\" class=\"dataframe\">\n",
       "  <thead>\n",
       "    <tr style=\"text-align: right;\">\n",
       "      <th></th>\n",
       "      <th>experiment_id</th>\n",
       "      <th>story_id</th>\n",
       "      <th>worker_id</th>\n",
       "      <th>submission_time_normalized</th>\n",
       "      <th>worker_quality_rating</th>\n",
       "      <th>selected_sentence_index</th>\n",
       "      <th>story</th>\n",
       "      <th>selected_sentence</th>\n",
       "      <th>1_specificNL</th>\n",
       "      <th>1_specificStructured</th>\n",
       "      <th>...</th>\n",
       "      <th>8_generalStructured</th>\n",
       "      <th>9_specificNL</th>\n",
       "      <th>9_specificStructured</th>\n",
       "      <th>9_generalNL</th>\n",
       "      <th>9_generalStructured</th>\n",
       "      <th>10_specificNL</th>\n",
       "      <th>10_specificStructured</th>\n",
       "      <th>10_generalNL</th>\n",
       "      <th>10_generalStructured</th>\n",
       "      <th>number_filled_in</th>\n",
       "    </tr>\n",
       "  </thead>\n",
       "  <tbody>\n",
       "    <tr>\n",
       "      <th>0</th>\n",
       "      <td>e56c7c3e-4660-40fb-80d0-052d566d676a__4</td>\n",
       "      <td>e56c7c3e-4660-40fb-80d0-052d566d676a</td>\n",
       "      <td>19</td>\n",
       "      <td>20190930</td>\n",
       "      <td>3</td>\n",
       "      <td>4</td>\n",
       "      <td>It was bedtime at our house. Two of the three ...</td>\n",
       "      <td>Finally he becomes tired and falls asleep.</td>\n",
       "      <td>The third kid continues to  get out of bed and...</td>\n",
       "      <td>{The third kid}_[subject] {continues}_[verb] {...</td>\n",
       "      <td>...</td>\n",
       "      <td>escaped</td>\n",
       "      <td>escaped</td>\n",
       "      <td>escaped</td>\n",
       "      <td>escaped</td>\n",
       "      <td>escaped</td>\n",
       "      <td>escaped</td>\n",
       "      <td>escaped</td>\n",
       "      <td>escaped</td>\n",
       "      <td>escaped</td>\n",
       "      <td>2</td>\n",
       "    </tr>\n",
       "    <tr>\n",
       "      <th>1</th>\n",
       "      <td>b03eba12-db74-4fce-a3cc-c743948ef8c2__4</td>\n",
       "      <td>b03eba12-db74-4fce-a3cc-c743948ef8c2</td>\n",
       "      <td>2</td>\n",
       "      <td>20200115</td>\n",
       "      <td>1</td>\n",
       "      <td>4</td>\n",
       "      <td>Sara was invited to the football game. She sho...</td>\n",
       "      <td>At the end of the game, her team won.</td>\n",
       "      <td>Sara  goes  to  a football game  &gt;Causes/Enabl...</td>\n",
       "      <td>{Sara }_[subject] {goes }_[verb] {to }_[prepos...</td>\n",
       "      <td>...</td>\n",
       "      <td>escaped</td>\n",
       "      <td>escaped</td>\n",
       "      <td>escaped</td>\n",
       "      <td>escaped</td>\n",
       "      <td>escaped</td>\n",
       "      <td>escaped</td>\n",
       "      <td>escaped</td>\n",
       "      <td>escaped</td>\n",
       "      <td>escaped</td>\n",
       "      <td>3</td>\n",
       "    </tr>\n",
       "    <tr>\n",
       "      <th>2</th>\n",
       "      <td>7e7aeb03-12d8-4f02-9097-c3273a692f20__3</td>\n",
       "      <td>7e7aeb03-12d8-4f02-9097-c3273a692f20</td>\n",
       "      <td>60</td>\n",
       "      <td>20191230</td>\n",
       "      <td>1</td>\n",
       "      <td>3</td>\n",
       "      <td>Kyle was leaving to pick up his sister from wo...</td>\n",
       "      <td>He decided to check his dirty clothes basket.</td>\n",
       "      <td>Kyle realized his keys were missing &gt;Causes/En...</td>\n",
       "      <td>{Kyle}_[subject] {realized}_[verb] {his keys}_...</td>\n",
       "      <td>...</td>\n",
       "      <td>escaped</td>\n",
       "      <td>escaped</td>\n",
       "      <td>escaped</td>\n",
       "      <td>escaped</td>\n",
       "      <td>escaped</td>\n",
       "      <td>He decided to check his dirty clothes basket f...</td>\n",
       "      <td>{He}_[subject] {decided to check}_[verb] {his ...</td>\n",
       "      <td>Someone_A decided to check Something_A (that h...</td>\n",
       "      <td>{Someone_A}_[subject] {decided to check}_[verb...</td>\n",
       "      <td>5</td>\n",
       "    </tr>\n",
       "    <tr>\n",
       "      <th>3</th>\n",
       "      <td>a2bb14bd-9094-4dcc-93a5-bb93b1c308a5__4</td>\n",
       "      <td>a2bb14bd-9094-4dcc-93a5-bb93b1c308a5</td>\n",
       "      <td>142</td>\n",
       "      <td>20191203</td>\n",
       "      <td>2</td>\n",
       "      <td>4</td>\n",
       "      <td>MY DAUGHTER HAD TO DO A SCIENCE PROJECT. SO SH...</td>\n",
       "      <td>SO CHEWING GUM CAN HELP WITH YOUR CONCENTRATIO...</td>\n",
       "      <td>My daughter has  a  science project &gt;Causes/En...</td>\n",
       "      <td>{My daughter}_[subject] {has }_[verb] {a }_[pr...</td>\n",
       "      <td>...</td>\n",
       "      <td>escaped</td>\n",
       "      <td>Chewing gum can help with concentration &gt;Resul...</td>\n",
       "      <td>{Chewing gum}_[subject] {can help}_[verb] {wit...</td>\n",
       "      <td>Chewing gum can help with concentration &gt;Resul...</td>\n",
       "      <td>{Chewing gum}_[subject] {can help}_[verb] {wit...</td>\n",
       "      <td>escaped</td>\n",
       "      <td>escaped</td>\n",
       "      <td>escaped</td>\n",
       "      <td>escaped</td>\n",
       "      <td>7</td>\n",
       "    </tr>\n",
       "    <tr>\n",
       "      <th>4</th>\n",
       "      <td>b8c68631-fa42-40a0-93c7-6739402e2038__4</td>\n",
       "      <td>b8c68631-fa42-40a0-93c7-6739402e2038</td>\n",
       "      <td>19</td>\n",
       "      <td>20191213</td>\n",
       "      <td>3</td>\n",
       "      <td>4</td>\n",
       "      <td>Vivian couldn't stop thinking about that man s...</td>\n",
       "      <td>Vivian spent the rest of her life chasing that...</td>\n",
       "      <td>escaped</td>\n",
       "      <td>escaped</td>\n",
       "      <td>...</td>\n",
       "      <td>escaped</td>\n",
       "      <td>escaped</td>\n",
       "      <td>escaped</td>\n",
       "      <td>escaped</td>\n",
       "      <td>escaped</td>\n",
       "      <td>escaped</td>\n",
       "      <td>escaped</td>\n",
       "      <td>escaped</td>\n",
       "      <td>escaped</td>\n",
       "      <td>2</td>\n",
       "    </tr>\n",
       "  </tbody>\n",
       "</table>\n",
       "<p>5 rows × 49 columns</p>\n",
       "</div>"
      ],
      "text/plain": [
       "                             experiment_id  \\\n",
       "0  e56c7c3e-4660-40fb-80d0-052d566d676a__4   \n",
       "1  b03eba12-db74-4fce-a3cc-c743948ef8c2__4   \n",
       "2  7e7aeb03-12d8-4f02-9097-c3273a692f20__3   \n",
       "3  a2bb14bd-9094-4dcc-93a5-bb93b1c308a5__4   \n",
       "4  b8c68631-fa42-40a0-93c7-6739402e2038__4   \n",
       "\n",
       "                               story_id  worker_id  \\\n",
       "0  e56c7c3e-4660-40fb-80d0-052d566d676a         19   \n",
       "1  b03eba12-db74-4fce-a3cc-c743948ef8c2          2   \n",
       "2  7e7aeb03-12d8-4f02-9097-c3273a692f20         60   \n",
       "3  a2bb14bd-9094-4dcc-93a5-bb93b1c308a5        142   \n",
       "4  b8c68631-fa42-40a0-93c7-6739402e2038         19   \n",
       "\n",
       "   submission_time_normalized  worker_quality_rating  selected_sentence_index  \\\n",
       "0                    20190930                      3                        4   \n",
       "1                    20200115                      1                        4   \n",
       "2                    20191230                      1                        3   \n",
       "3                    20191203                      2                        4   \n",
       "4                    20191213                      3                        4   \n",
       "\n",
       "                                               story  \\\n",
       "0  It was bedtime at our house. Two of the three ...   \n",
       "1  Sara was invited to the football game. She sho...   \n",
       "2  Kyle was leaving to pick up his sister from wo...   \n",
       "3  MY DAUGHTER HAD TO DO A SCIENCE PROJECT. SO SH...   \n",
       "4  Vivian couldn't stop thinking about that man s...   \n",
       "\n",
       "                                   selected_sentence  \\\n",
       "0         Finally he becomes tired and falls asleep.   \n",
       "1              At the end of the game, her team won.   \n",
       "2      He decided to check his dirty clothes basket.   \n",
       "3  SO CHEWING GUM CAN HELP WITH YOUR CONCENTRATIO...   \n",
       "4  Vivian spent the rest of her life chasing that...   \n",
       "\n",
       "                                        1_specificNL  \\\n",
       "0  The third kid continues to  get out of bed and...   \n",
       "1  Sara  goes  to  a football game  >Causes/Enabl...   \n",
       "2  Kyle realized his keys were missing >Causes/En...   \n",
       "3  My daughter has  a  science project >Causes/En...   \n",
       "4                                            escaped   \n",
       "\n",
       "                                1_specificStructured  ... 8_generalStructured  \\\n",
       "0  {The third kid}_[subject] {continues}_[verb] {...  ...             escaped   \n",
       "1  {Sara }_[subject] {goes }_[verb] {to }_[prepos...  ...             escaped   \n",
       "2  {Kyle}_[subject] {realized}_[verb] {his keys}_...  ...             escaped   \n",
       "3  {My daughter}_[subject] {has }_[verb] {a }_[pr...  ...             escaped   \n",
       "4                                            escaped  ...             escaped   \n",
       "\n",
       "                                        9_specificNL  \\\n",
       "0                                            escaped   \n",
       "1                                            escaped   \n",
       "2                                            escaped   \n",
       "3  Chewing gum can help with concentration >Resul...   \n",
       "4                                            escaped   \n",
       "\n",
       "                                9_specificStructured  \\\n",
       "0                                            escaped   \n",
       "1                                            escaped   \n",
       "2                                            escaped   \n",
       "3  {Chewing gum}_[subject] {can help}_[verb] {wit...   \n",
       "4                                            escaped   \n",
       "\n",
       "                                         9_generalNL  \\\n",
       "0                                            escaped   \n",
       "1                                            escaped   \n",
       "2                                            escaped   \n",
       "3  Chewing gum can help with concentration >Resul...   \n",
       "4                                            escaped   \n",
       "\n",
       "                                 9_generalStructured  \\\n",
       "0                                            escaped   \n",
       "1                                            escaped   \n",
       "2                                            escaped   \n",
       "3  {Chewing gum}_[subject] {can help}_[verb] {wit...   \n",
       "4                                            escaped   \n",
       "\n",
       "                                       10_specificNL  \\\n",
       "0                                            escaped   \n",
       "1                                            escaped   \n",
       "2  He decided to check his dirty clothes basket f...   \n",
       "3                                            escaped   \n",
       "4                                            escaped   \n",
       "\n",
       "                               10_specificStructured  \\\n",
       "0                                            escaped   \n",
       "1                                            escaped   \n",
       "2  {He}_[subject] {decided to check}_[verb] {his ...   \n",
       "3                                            escaped   \n",
       "4                                            escaped   \n",
       "\n",
       "                                        10_generalNL  \\\n",
       "0                                            escaped   \n",
       "1                                            escaped   \n",
       "2  Someone_A decided to check Something_A (that h...   \n",
       "3                                            escaped   \n",
       "4                                            escaped   \n",
       "\n",
       "                                10_generalStructured number_filled_in  \n",
       "0                                            escaped                2  \n",
       "1                                            escaped                3  \n",
       "2  {Someone_A}_[subject] {decided to check}_[verb...                5  \n",
       "3                                            escaped                7  \n",
       "4                                            escaped                2  \n",
       "\n",
       "[5 rows x 49 columns]"
      ]
     },
     "execution_count": 57,
     "metadata": {},
     "output_type": "execute_result"
    }
   ],
   "source": [
    "glucose.head()"
   ]
  },
  {
   "cell_type": "code",
   "execution_count": 13,
   "metadata": {},
   "outputs": [
    {
     "data": {
      "text/plain": [
       "'We bought a vcr in 2014. I did not want to pay $10 a month for a dvr. The vcr did not record properly and we returned it. We ended up getting a dvr in 2015. The dvr is much better than a vcr.'"
      ]
     },
     "execution_count": 13,
     "metadata": {},
     "output_type": "execute_result"
    }
   ],
   "source": [
    "glucose.iloc[2502].story"
   ]
  },
  {
   "cell_type": "code",
   "execution_count": 7,
   "metadata": {},
   "outputs": [
    {
     "data": {
      "text/plain": [
       "4"
      ]
     },
     "execution_count": 7,
     "metadata": {},
     "output_type": "execute_result"
    }
   ],
   "source": [
    "glucose.iloc[3].selected_sentence_index"
   ]
  },
  {
   "cell_type": "code",
   "execution_count": 14,
   "metadata": {},
   "outputs": [
    {
     "data": {
      "text/plain": [
       "'I did not want to pay $10 a month for a dvr.'"
      ]
     },
     "execution_count": 14,
     "metadata": {},
     "output_type": "execute_result"
    }
   ],
   "source": [
    "glucose.iloc[2502].selected_sentence"
   ]
  },
  {
   "cell_type": "code",
   "execution_count": 12,
   "metadata": {},
   "outputs": [
    {
     "data": {
      "text/plain": [
       "['We bought a vcr in 2014.',\n",
       " 'I did not want to pay $10 a month for a dvr.',\n",
       " 'The vcr did not record properly and we returned it.',\n",
       " 'We ended up getting a dvr in 2015.',\n",
       " 'The dvr is much better than a vcr.']"
      ]
     },
     "execution_count": 12,
     "metadata": {},
     "output_type": "execute_result"
    }
   ],
   "source": [
    "from utils import get_sents\n",
    "\n",
    "get_sents(glucose.iloc[2502].story)"
   ]
  },
  {
   "cell_type": "code",
   "execution_count": 16,
   "metadata": {},
   "outputs": [
    {
     "data": {
      "text/plain": [
       "['We bought a vcr in 2014. ',\n",
       " ' The vcr did not record properly and we returned it. We ended up getting a dvr in 2015. The dvr is much better than a vcr.']"
      ]
     },
     "execution_count": 16,
     "metadata": {},
     "output_type": "execute_result"
    }
   ],
   "source": [
    "import re\n",
    "re.split(re.escape(glucose.iloc[2502].selected_sentence), glucose.iloc[2502].story)"
   ]
  },
  {
   "cell_type": "code",
   "execution_count": 8,
   "metadata": {},
   "outputs": [
    {
     "data": {
      "text/plain": [
       "'My daughter has  a  science project >Causes/Enables> Chewing gum  can help  with  concentration'"
      ]
     },
     "execution_count": 8,
     "metadata": {},
     "output_type": "execute_result"
    }
   ],
   "source": [
    "glucose.iloc[3][\"1_specificNL\"]"
   ]
  },
  {
   "cell_type": "code",
   "execution_count": 3,
   "metadata": {},
   "outputs": [],
   "source": [
    "glucose.sample(10).to_csv(\"outputs/glucose_train_samples.csv\")"
   ]
  },
  {
   "cell_type": "code",
   "execution_count": 27,
   "metadata": {},
   "outputs": [],
   "source": [
    "import pandas as pd\n",
    "\n",
    "overlap_df = pd.read_csv(\"outputs/glucose_train_samples_with_overlap_0.0_dim_16_story_dbo.csv\")"
   ]
  },
  {
   "cell_type": "code",
   "execution_count": 28,
   "metadata": {},
   "outputs": [
    {
     "data": {
      "text/html": [
       "<div>\n",
       "<style scoped>\n",
       "    .dataframe tbody tr th:only-of-type {\n",
       "        vertical-align: middle;\n",
       "    }\n",
       "\n",
       "    .dataframe tbody tr th {\n",
       "        vertical-align: top;\n",
       "    }\n",
       "\n",
       "    .dataframe thead th {\n",
       "        text-align: right;\n",
       "    }\n",
       "</style>\n",
       "<table border=\"1\" class=\"dataframe\">\n",
       "  <thead>\n",
       "    <tr style=\"text-align: right;\">\n",
       "      <th></th>\n",
       "      <th>Unnamed: 0.1</th>\n",
       "      <th>Unnamed: 0</th>\n",
       "      <th>experiment_id</th>\n",
       "      <th>story_id</th>\n",
       "      <th>worker_id</th>\n",
       "      <th>submission_time_normalized</th>\n",
       "      <th>worker_quality_rating</th>\n",
       "      <th>selected_sentence_index</th>\n",
       "      <th>story</th>\n",
       "      <th>selected_sentence</th>\n",
       "      <th>...</th>\n",
       "      <th>9_specificStructured</th>\n",
       "      <th>9_generalNL</th>\n",
       "      <th>9_generalStructured</th>\n",
       "      <th>10_specificNL</th>\n",
       "      <th>10_specificStructured</th>\n",
       "      <th>10_generalNL</th>\n",
       "      <th>10_generalStructured</th>\n",
       "      <th>number_filled_in</th>\n",
       "      <th>1_story_overlap_0.0</th>\n",
       "      <th>6_story_overlap_0.0</th>\n",
       "    </tr>\n",
       "  </thead>\n",
       "  <tbody>\n",
       "    <tr>\n",
       "      <th>0</th>\n",
       "      <td>0</td>\n",
       "      <td>49881</td>\n",
       "      <td>1c2e442d-45ba-46e8-b5f2-aae9064cbf2e__1</td>\n",
       "      <td>1c2e442d-45ba-46e8-b5f2-aae9064cbf2e</td>\n",
       "      <td>224</td>\n",
       "      <td>20191219</td>\n",
       "      <td>2</td>\n",
       "      <td>1</td>\n",
       "      <td>I told Frankie to go to the store and get groc...</td>\n",
       "      <td>He put on his jacket and went on his way.</td>\n",
       "      <td>...</td>\n",
       "      <td>escaped</td>\n",
       "      <td>escaped</td>\n",
       "      <td>escaped</td>\n",
       "      <td>escaped</td>\n",
       "      <td>escaped</td>\n",
       "      <td>escaped</td>\n",
       "      <td>escaped</td>\n",
       "      <td>8</td>\n",
       "      <td>[True, False]</td>\n",
       "      <td>[False, False]</td>\n",
       "    </tr>\n",
       "    <tr>\n",
       "      <th>1</th>\n",
       "      <td>1</td>\n",
       "      <td>3022</td>\n",
       "      <td>210c7b15-4ffc-49b2-b18c-b3cfe08ac7d1__3</td>\n",
       "      <td>210c7b15-4ffc-49b2-b18c-b3cfe08ac7d1</td>\n",
       "      <td>101</td>\n",
       "      <td>20200102</td>\n",
       "      <td>1</td>\n",
       "      <td>3</td>\n",
       "      <td>Max loved to cook. He spent all day looking fo...</td>\n",
       "      <td>He presented the meal to his girlfriend.</td>\n",
       "      <td>...</td>\n",
       "      <td>{Max}_[subject] {gave }_[verb] {the meal }_[ob...</td>\n",
       "      <td>Someone_A gave  Something_A (that is the meal ...</td>\n",
       "      <td>{Someone_A}_[subject] {gave }_[verb] {Somethin...</td>\n",
       "      <td>escaped</td>\n",
       "      <td>escaped</td>\n",
       "      <td>escaped</td>\n",
       "      <td>escaped</td>\n",
       "      <td>8</td>\n",
       "      <td>[False, False]</td>\n",
       "      <td>[True, True]</td>\n",
       "    </tr>\n",
       "    <tr>\n",
       "      <th>2</th>\n",
       "      <td>2</td>\n",
       "      <td>53061</td>\n",
       "      <td>6a6a51a9-2c09-40f4-b1cb-e059fb21642e__3</td>\n",
       "      <td>6a6a51a9-2c09-40f4-b1cb-e059fb21642e</td>\n",
       "      <td>1</td>\n",
       "      <td>20191012</td>\n",
       "      <td>2</td>\n",
       "      <td>3</td>\n",
       "      <td>The man got a flat. He stopped to change his t...</td>\n",
       "      <td>A car didn't see him there working.</td>\n",
       "      <td>...</td>\n",
       "      <td>escaped</td>\n",
       "      <td>escaped</td>\n",
       "      <td>escaped</td>\n",
       "      <td>The driver of the approaching car didn't see t...</td>\n",
       "      <td>{The driver of the approaching car}_[subject] ...</td>\n",
       "      <td>The driver of the approaching car didn't see S...</td>\n",
       "      <td>{The driver of the approaching car}_[subject] ...</td>\n",
       "      <td>7</td>\n",
       "      <td>[False, False]</td>\n",
       "      <td>[True, True]</td>\n",
       "    </tr>\n",
       "    <tr>\n",
       "      <th>3</th>\n",
       "      <td>3</td>\n",
       "      <td>27140</td>\n",
       "      <td>b7af2d6c-44a5-48b9-a42b-71de7de8d37d__2</td>\n",
       "      <td>b7af2d6c-44a5-48b9-a42b-71de7de8d37d</td>\n",
       "      <td>14</td>\n",
       "      <td>20191026</td>\n",
       "      <td>2</td>\n",
       "      <td>2</td>\n",
       "      <td>Megan decided to cook mashed potatoes. She had...</td>\n",
       "      <td>She bought all the ingredients.</td>\n",
       "      <td>...</td>\n",
       "      <td>{Megan}_[subject] {buys}_[verb] {the ingredien...</td>\n",
       "      <td>Someone_A buys Something_A &gt;Results in&gt; Someon...</td>\n",
       "      <td>{Someone_A}_[subject] {buys}_[verb] {Something...</td>\n",
       "      <td>escaped</td>\n",
       "      <td>escaped</td>\n",
       "      <td>escaped</td>\n",
       "      <td>escaped</td>\n",
       "      <td>5</td>\n",
       "      <td>[False, False]</td>\n",
       "      <td>[True, True]</td>\n",
       "    </tr>\n",
       "    <tr>\n",
       "      <th>4</th>\n",
       "      <td>4</td>\n",
       "      <td>49471</td>\n",
       "      <td>e2acb784-376b-4eb6-b78b-3a23dbe43222__4</td>\n",
       "      <td>e2acb784-376b-4eb6-b78b-3a23dbe43222</td>\n",
       "      <td>19</td>\n",
       "      <td>20191204</td>\n",
       "      <td>3</td>\n",
       "      <td>4</td>\n",
       "      <td>Andrew's dad woke Andrew up early to rake the ...</td>\n",
       "      <td>Him and his dad went to the movies after.</td>\n",
       "      <td>...</td>\n",
       "      <td>escaped</td>\n",
       "      <td>escaped</td>\n",
       "      <td>escaped</td>\n",
       "      <td>escaped</td>\n",
       "      <td>escaped</td>\n",
       "      <td>escaped</td>\n",
       "      <td>escaped</td>\n",
       "      <td>6</td>\n",
       "      <td>[True, False]</td>\n",
       "      <td>[False, False]</td>\n",
       "    </tr>\n",
       "    <tr>\n",
       "      <th>5</th>\n",
       "      <td>5</td>\n",
       "      <td>8130</td>\n",
       "      <td>6930c038-b0c0-44ee-b02b-d72e4fca9a0d__2</td>\n",
       "      <td>6930c038-b0c0-44ee-b02b-d72e4fca9a0d</td>\n",
       "      <td>101</td>\n",
       "      <td>20191109</td>\n",
       "      <td>1</td>\n",
       "      <td>2</td>\n",
       "      <td>Harry made some food. He put it in the oven to...</td>\n",
       "      <td>He went outside to work.</td>\n",
       "      <td>...</td>\n",
       "      <td>escaped</td>\n",
       "      <td>escaped</td>\n",
       "      <td>escaped</td>\n",
       "      <td>escaped</td>\n",
       "      <td>escaped</td>\n",
       "      <td>escaped</td>\n",
       "      <td>escaped</td>\n",
       "      <td>7</td>\n",
       "      <td>[False, False]</td>\n",
       "      <td>[True, True]</td>\n",
       "    </tr>\n",
       "    <tr>\n",
       "      <th>6</th>\n",
       "      <td>6</td>\n",
       "      <td>15675</td>\n",
       "      <td>9cb68f62-3fa7-4afa-839e-f7c09c28bce1__1</td>\n",
       "      <td>9cb68f62-3fa7-4afa-839e-f7c09c28bce1</td>\n",
       "      <td>267</td>\n",
       "      <td>20190912</td>\n",
       "      <td>1</td>\n",
       "      <td>1</td>\n",
       "      <td>Once I went to a hockey game. All the beer the...</td>\n",
       "      <td>All the beer there was very expensive.</td>\n",
       "      <td>...</td>\n",
       "      <td>escaped</td>\n",
       "      <td>escaped</td>\n",
       "      <td>escaped</td>\n",
       "      <td>escaped</td>\n",
       "      <td>escaped</td>\n",
       "      <td>escaped</td>\n",
       "      <td>escaped</td>\n",
       "      <td>2</td>\n",
       "      <td>[False, False]</td>\n",
       "      <td>[None, None]</td>\n",
       "    </tr>\n",
       "    <tr>\n",
       "      <th>7</th>\n",
       "      <td>7</td>\n",
       "      <td>45921</td>\n",
       "      <td>da6c152a-80cf-43a2-97ce-3f2f1427cd3c__0</td>\n",
       "      <td>da6c152a-80cf-43a2-97ce-3f2f1427cd3c</td>\n",
       "      <td>2</td>\n",
       "      <td>20191106</td>\n",
       "      <td>1</td>\n",
       "      <td>0</td>\n",
       "      <td>On my birthday my friend gave me a present. Th...</td>\n",
       "      <td>On my birthday my friend gave me a present.</td>\n",
       "      <td>...</td>\n",
       "      <td>{My friend }_[subject] {gives}_[verb] {me }_[o...</td>\n",
       "      <td>Someone_A gives  Someone_B Something_A (that i...</td>\n",
       "      <td>{Someone_A}_[subject] {gives }_[verb] {Someone...</td>\n",
       "      <td>escaped</td>\n",
       "      <td>escaped</td>\n",
       "      <td>escaped</td>\n",
       "      <td>escaped</td>\n",
       "      <td>6</td>\n",
       "      <td>[False, False]</td>\n",
       "      <td>[False, False]</td>\n",
       "    </tr>\n",
       "    <tr>\n",
       "      <th>8</th>\n",
       "      <td>8</td>\n",
       "      <td>6784</td>\n",
       "      <td>bdf7c00b-6b28-4ec6-9710-d909a66e7ddd__4</td>\n",
       "      <td>bdf7c00b-6b28-4ec6-9710-d909a66e7ddd</td>\n",
       "      <td>2</td>\n",
       "      <td>20200129</td>\n",
       "      <td>1</td>\n",
       "      <td>4</td>\n",
       "      <td>Arlene still felt weak from a previous illness...</td>\n",
       "      <td>Arlene ended up competing in the match and had...</td>\n",
       "      <td>...</td>\n",
       "      <td>escaped</td>\n",
       "      <td>escaped</td>\n",
       "      <td>escaped</td>\n",
       "      <td>escaped</td>\n",
       "      <td>escaped</td>\n",
       "      <td>escaped</td>\n",
       "      <td>escaped</td>\n",
       "      <td>2</td>\n",
       "      <td>[False, False]</td>\n",
       "      <td>[False, False]</td>\n",
       "    </tr>\n",
       "    <tr>\n",
       "      <th>9</th>\n",
       "      <td>9</td>\n",
       "      <td>43889</td>\n",
       "      <td>9004bd4d-186c-4755-9bf0-6eee2329d3db__0</td>\n",
       "      <td>9004bd4d-186c-4755-9bf0-6eee2329d3db</td>\n",
       "      <td>142</td>\n",
       "      <td>20191224</td>\n",
       "      <td>2</td>\n",
       "      <td>0</td>\n",
       "      <td>It was hot and David wanted a treat. He heard ...</td>\n",
       "      <td>It was hot and David wanted a treat.</td>\n",
       "      <td>...</td>\n",
       "      <td>{Today}_[subject] {is}_[verb] {hot and David w...</td>\n",
       "      <td>Today is hot and Someone_A wants a treat &gt;Resu...</td>\n",
       "      <td>{Today}_[subject] {is}_[verb] {hot and Someone...</td>\n",
       "      <td>Today  is hot and David wants a treat &gt;Results...</td>\n",
       "      <td>{Today }_[subject] {is}_[verb] {hot and David ...</td>\n",
       "      <td>Today is hot and Someone_A wants a treat &gt;Resu...</td>\n",
       "      <td>{Today}_[subject] {is}_[verb] {hot and Someone...</td>\n",
       "      <td>9</td>\n",
       "      <td>[False, False]</td>\n",
       "      <td>[False, False]</td>\n",
       "    </tr>\n",
       "  </tbody>\n",
       "</table>\n",
       "<p>10 rows × 53 columns</p>\n",
       "</div>"
      ],
      "text/plain": [
       "   Unnamed: 0.1  Unnamed: 0                            experiment_id  \\\n",
       "0             0       49881  1c2e442d-45ba-46e8-b5f2-aae9064cbf2e__1   \n",
       "1             1        3022  210c7b15-4ffc-49b2-b18c-b3cfe08ac7d1__3   \n",
       "2             2       53061  6a6a51a9-2c09-40f4-b1cb-e059fb21642e__3   \n",
       "3             3       27140  b7af2d6c-44a5-48b9-a42b-71de7de8d37d__2   \n",
       "4             4       49471  e2acb784-376b-4eb6-b78b-3a23dbe43222__4   \n",
       "5             5        8130  6930c038-b0c0-44ee-b02b-d72e4fca9a0d__2   \n",
       "6             6       15675  9cb68f62-3fa7-4afa-839e-f7c09c28bce1__1   \n",
       "7             7       45921  da6c152a-80cf-43a2-97ce-3f2f1427cd3c__0   \n",
       "8             8        6784  bdf7c00b-6b28-4ec6-9710-d909a66e7ddd__4   \n",
       "9             9       43889  9004bd4d-186c-4755-9bf0-6eee2329d3db__0   \n",
       "\n",
       "                               story_id  worker_id  \\\n",
       "0  1c2e442d-45ba-46e8-b5f2-aae9064cbf2e        224   \n",
       "1  210c7b15-4ffc-49b2-b18c-b3cfe08ac7d1        101   \n",
       "2  6a6a51a9-2c09-40f4-b1cb-e059fb21642e          1   \n",
       "3  b7af2d6c-44a5-48b9-a42b-71de7de8d37d         14   \n",
       "4  e2acb784-376b-4eb6-b78b-3a23dbe43222         19   \n",
       "5  6930c038-b0c0-44ee-b02b-d72e4fca9a0d        101   \n",
       "6  9cb68f62-3fa7-4afa-839e-f7c09c28bce1        267   \n",
       "7  da6c152a-80cf-43a2-97ce-3f2f1427cd3c          2   \n",
       "8  bdf7c00b-6b28-4ec6-9710-d909a66e7ddd          2   \n",
       "9  9004bd4d-186c-4755-9bf0-6eee2329d3db        142   \n",
       "\n",
       "   submission_time_normalized  worker_quality_rating  selected_sentence_index  \\\n",
       "0                    20191219                      2                        1   \n",
       "1                    20200102                      1                        3   \n",
       "2                    20191012                      2                        3   \n",
       "3                    20191026                      2                        2   \n",
       "4                    20191204                      3                        4   \n",
       "5                    20191109                      1                        2   \n",
       "6                    20190912                      1                        1   \n",
       "7                    20191106                      1                        0   \n",
       "8                    20200129                      1                        4   \n",
       "9                    20191224                      2                        0   \n",
       "\n",
       "                                               story  \\\n",
       "0  I told Frankie to go to the store and get groc...   \n",
       "1  Max loved to cook. He spent all day looking fo...   \n",
       "2  The man got a flat. He stopped to change his t...   \n",
       "3  Megan decided to cook mashed potatoes. She had...   \n",
       "4  Andrew's dad woke Andrew up early to rake the ...   \n",
       "5  Harry made some food. He put it in the oven to...   \n",
       "6  Once I went to a hockey game. All the beer the...   \n",
       "7  On my birthday my friend gave me a present. Th...   \n",
       "8  Arlene still felt weak from a previous illness...   \n",
       "9  It was hot and David wanted a treat. He heard ...   \n",
       "\n",
       "                                   selected_sentence  ...  \\\n",
       "0          He put on his jacket and went on his way.  ...   \n",
       "1           He presented the meal to his girlfriend.  ...   \n",
       "2                A car didn't see him there working.  ...   \n",
       "3                    She bought all the ingredients.  ...   \n",
       "4          Him and his dad went to the movies after.  ...   \n",
       "5                           He went outside to work.  ...   \n",
       "6             All the beer there was very expensive.  ...   \n",
       "7        On my birthday my friend gave me a present.  ...   \n",
       "8  Arlene ended up competing in the match and had...  ...   \n",
       "9               It was hot and David wanted a treat.  ...   \n",
       "\n",
       "                                9_specificStructured  \\\n",
       "0                                            escaped   \n",
       "1  {Max}_[subject] {gave }_[verb] {the meal }_[ob...   \n",
       "2                                            escaped   \n",
       "3  {Megan}_[subject] {buys}_[verb] {the ingredien...   \n",
       "4                                            escaped   \n",
       "5                                            escaped   \n",
       "6                                            escaped   \n",
       "7  {My friend }_[subject] {gives}_[verb] {me }_[o...   \n",
       "8                                            escaped   \n",
       "9  {Today}_[subject] {is}_[verb] {hot and David w...   \n",
       "\n",
       "                                         9_generalNL  \\\n",
       "0                                            escaped   \n",
       "1  Someone_A gave  Something_A (that is the meal ...   \n",
       "2                                            escaped   \n",
       "3  Someone_A buys Something_A >Results in> Someon...   \n",
       "4                                            escaped   \n",
       "5                                            escaped   \n",
       "6                                            escaped   \n",
       "7  Someone_A gives  Someone_B Something_A (that i...   \n",
       "8                                            escaped   \n",
       "9  Today is hot and Someone_A wants a treat >Resu...   \n",
       "\n",
       "                                 9_generalStructured  \\\n",
       "0                                            escaped   \n",
       "1  {Someone_A}_[subject] {gave }_[verb] {Somethin...   \n",
       "2                                            escaped   \n",
       "3  {Someone_A}_[subject] {buys}_[verb] {Something...   \n",
       "4                                            escaped   \n",
       "5                                            escaped   \n",
       "6                                            escaped   \n",
       "7  {Someone_A}_[subject] {gives }_[verb] {Someone...   \n",
       "8                                            escaped   \n",
       "9  {Today}_[subject] {is}_[verb] {hot and Someone...   \n",
       "\n",
       "                                       10_specificNL  \\\n",
       "0                                            escaped   \n",
       "1                                            escaped   \n",
       "2  The driver of the approaching car didn't see t...   \n",
       "3                                            escaped   \n",
       "4                                            escaped   \n",
       "5                                            escaped   \n",
       "6                                            escaped   \n",
       "7                                            escaped   \n",
       "8                                            escaped   \n",
       "9  Today  is hot and David wants a treat >Results...   \n",
       "\n",
       "                               10_specificStructured  \\\n",
       "0                                            escaped   \n",
       "1                                            escaped   \n",
       "2  {The driver of the approaching car}_[subject] ...   \n",
       "3                                            escaped   \n",
       "4                                            escaped   \n",
       "5                                            escaped   \n",
       "6                                            escaped   \n",
       "7                                            escaped   \n",
       "8                                            escaped   \n",
       "9  {Today }_[subject] {is}_[verb] {hot and David ...   \n",
       "\n",
       "                                        10_generalNL  \\\n",
       "0                                            escaped   \n",
       "1                                            escaped   \n",
       "2  The driver of the approaching car didn't see S...   \n",
       "3                                            escaped   \n",
       "4                                            escaped   \n",
       "5                                            escaped   \n",
       "6                                            escaped   \n",
       "7                                            escaped   \n",
       "8                                            escaped   \n",
       "9  Today is hot and Someone_A wants a treat >Resu...   \n",
       "\n",
       "                                10_generalStructured number_filled_in  \\\n",
       "0                                            escaped                8   \n",
       "1                                            escaped                8   \n",
       "2  {The driver of the approaching car}_[subject] ...                7   \n",
       "3                                            escaped                5   \n",
       "4                                            escaped                6   \n",
       "5                                            escaped                7   \n",
       "6                                            escaped                2   \n",
       "7                                            escaped                6   \n",
       "8                                            escaped                2   \n",
       "9  {Today}_[subject] {is}_[verb] {hot and Someone...                9   \n",
       "\n",
       "  1_story_overlap_0.0 6_story_overlap_0.0  \n",
       "0       [True, False]      [False, False]  \n",
       "1      [False, False]        [True, True]  \n",
       "2      [False, False]        [True, True]  \n",
       "3      [False, False]        [True, True]  \n",
       "4       [True, False]      [False, False]  \n",
       "5      [False, False]        [True, True]  \n",
       "6      [False, False]        [None, None]  \n",
       "7      [False, False]      [False, False]  \n",
       "8      [False, False]      [False, False]  \n",
       "9      [False, False]      [False, False]  \n",
       "\n",
       "[10 rows x 53 columns]"
      ]
     },
     "execution_count": 28,
     "metadata": {},
     "output_type": "execute_result"
    }
   ],
   "source": [
    "overlap_df"
   ]
  },
  {
   "cell_type": "code",
   "execution_count": 47,
   "metadata": {},
   "outputs": [
    {
     "data": {
      "text/plain": [
       "\"Andrew's dad woke Andrew up early to rake the backyard. Andrew was sleepy and hated to do this. But his dad promised him they would go to the movies if he did it. So Andrew got it done in an hour. Him and his dad went to the movies after.\""
      ]
     },
     "execution_count": 47,
     "metadata": {},
     "output_type": "execute_result"
    }
   ],
   "source": [
    "overlap_df.iloc[4][\"story\"]"
   ]
  },
  {
   "cell_type": "code",
   "execution_count": 48,
   "metadata": {},
   "outputs": [
    {
     "data": {
      "text/plain": [
       "'Him and his dad went to the movies after.'"
      ]
     },
     "execution_count": 48,
     "metadata": {},
     "output_type": "execute_result"
    }
   ],
   "source": [
    "overlap_df.iloc[4][\"selected_sentence\"]"
   ]
  },
  {
   "cell_type": "code",
   "execution_count": 49,
   "metadata": {},
   "outputs": [
    {
     "data": {
      "text/plain": [
       "\"Andrew's dad promises they would go to  the movies >Causes/Enables> Andrew and his dad go to  the movies\""
      ]
     },
     "execution_count": 49,
     "metadata": {},
     "output_type": "execute_result"
    }
   ],
   "source": [
    "overlap_df.iloc[4][\"1_specificNL\"]"
   ]
  },
  {
   "cell_type": "code",
   "execution_count": 50,
   "metadata": {},
   "outputs": [
    {
     "data": {
      "text/plain": [
       "'Someone_A promises Someone_B they would do Something_A >Causes/Enables> Someone_A and Someone_B do Something_A'"
      ]
     },
     "execution_count": 50,
     "metadata": {},
     "output_type": "execute_result"
    }
   ],
   "source": [
    "overlap_df.iloc[4][\"1_generalNL\"]"
   ]
  },
  {
   "cell_type": "code",
   "execution_count": 51,
   "metadata": {},
   "outputs": [
    {
     "data": {
      "text/plain": [
       "'[True, False]'"
      ]
     },
     "execution_count": 51,
     "metadata": {},
     "output_type": "execute_result"
    }
   ],
   "source": [
    "overlap_df.iloc[4][\"1_story_overlap_0.0\"]"
   ]
  },
  {
   "cell_type": "code",
   "execution_count": 52,
   "metadata": {},
   "outputs": [
    {
     "data": {
      "text/plain": [
       "'Andrew and his dad go to  the movies >Causes/Enables> Andrew and his dad watch the movie'"
      ]
     },
     "execution_count": 52,
     "metadata": {},
     "output_type": "execute_result"
    }
   ],
   "source": [
    "overlap_df.iloc[4][\"6_specificNL\"]"
   ]
  },
  {
   "cell_type": "code",
   "execution_count": 53,
   "metadata": {},
   "outputs": [
    {
     "data": {
      "text/plain": [
       "'Someone_A and Someone_B go to  the movies >Causes/Enables> Someone_A and Someone_B watch the movie'"
      ]
     },
     "execution_count": 53,
     "metadata": {},
     "output_type": "execute_result"
    }
   ],
   "source": [
    "overlap_df.iloc[4][\"6_generalNL\"]"
   ]
  },
  {
   "cell_type": "code",
   "execution_count": 55,
   "metadata": {},
   "outputs": [
    {
     "data": {
      "text/plain": [
       "'[False, False]'"
      ]
     },
     "execution_count": 55,
     "metadata": {},
     "output_type": "execute_result"
    }
   ],
   "source": [
    "overlap_df.iloc[4][\"6_story_overlap_0.0\"]"
   ]
  },
  {
   "cell_type": "code",
   "execution_count": 27,
   "metadata": {},
   "outputs": [],
   "source": [
    "import pandas as pd\n",
    "\n",
    "overlap_df = pd.read_csv(\"large_outputs/GLUCOSE_training_data_final_with_overlap_0.0_dim_16_s_dbo.csv\")"
   ]
  },
  {
   "cell_type": "code",
   "execution_count": 28,
   "metadata": {},
   "outputs": [],
   "source": [
    "test_sample = overlap_df[overlap_df[\"1_story_overlap_0.0\"] == \"[False, False]\"].sample(1)"
   ]
  },
  {
   "cell_type": "code",
   "execution_count": 29,
   "metadata": {},
   "outputs": [
    {
     "name": "stdout",
     "output_type": "stream",
     "text": [
      "I just moved into a new apartment. Now I need to put up all of my wall decorations. I have nails and screws, but no tools. I am using a roll of quarters as a hammer. It is not working too well, and I will have to seek tools.\n",
      "\n",
      "Now I need to put up all of my wall decorations.\n",
      "\n",
      "I move into  a new apartment >Causes/Enables> I need to  put up  wall decorations\n",
      "\n",
      "Someone_A moves into  a new home >Causes/Enables> Someone_A needs to  put up  Something_A\n",
      "\n"
     ]
    }
   ],
   "source": [
    "for col in [\"story\", \"selected_sentence\", \"1_specificNL\", \"1_generalNL\"]:\n",
    "    print(test_sample.iloc[0][col], end=\"\\n\\n\")"
   ]
  },
  {
   "cell_type": "code",
   "execution_count": 22,
   "metadata": {},
   "outputs": [
    {
     "name": "stdout",
     "output_type": "stream",
     "text": [
      "I brought home a girl from the bar last night. In the middle of the night I woke up to her staring at me. I asked her why she was staring at me, but no answer. I shined my phone light in her eyes and all I saw were whites. This girl slept with her eyes opened, and I never called her again.\n",
      "\n",
      "In the middle of the night I woke up to her staring at me.\n",
      "\n",
      "I brought home a girl from a bar last night >Causes/Enables> I woke up  to her staring at me\n",
      "\n",
      "Someone_A brings home Someone_B from Somewhere_A >Causes/Enables> Someone_A wakes up to Someone_B (staring) at Someone_A\n",
      "\n"
     ]
    }
   ],
   "source": [
    "for col in [\"story\", \"selected_sentence\", \"1_specificNL\", \"1_generalNL\"]:\n",
    "    print(test_sample.iloc[0][col], end=\"\\n\\n\")"
   ]
  },
  {
   "cell_type": "code",
   "execution_count": 1,
   "metadata": {},
   "outputs": [
    {
     "name": "stderr",
     "output_type": "stream",
     "text": [
      "/Users/mismayil/.pyenv/versions/3.9.7/envs/op/lib/python3.9/site-packages/tqdm/auto.py:22: TqdmWarning: IProgress not found. Please update jupyter and ipywidgets. See https://ipywidgets.readthedocs.io/en/stable/user_install.html\n",
      "  from .autonotebook import tqdm as notebook_tqdm\n"
     ]
    },
    {
     "data": {
      "text/plain": [
       "({'stare', 'wake'}, {'middle', 'night', 'stare', 'wake'})"
      ]
     },
     "execution_count": 1,
     "metadata": {},
     "output_type": "execute_result"
    }
   ],
   "source": [
    "from utils import get_words\n",
    "words = get_words(\"I woke up  to her staring at me\")\n",
    "context_words = get_words(\"In the middle of the night I woke up to her staring at me.\")\n",
    "words, context_words"
   ]
  },
  {
   "cell_type": "code",
   "execution_count": 23,
   "metadata": {},
   "outputs": [],
   "source": [
    "test_sample = overlap_df[overlap_df[\"1_story_overlap_0.0\"] == \"[True, True]\"].sample(1)"
   ]
  },
  {
   "cell_type": "code",
   "execution_count": 24,
   "metadata": {},
   "outputs": [
    {
     "name": "stdout",
     "output_type": "stream",
     "text": [
      "Sam had to go grocery shopping. He left the grocery list that his wife had written for him. He ended up forgetting a lot of the items he needed. He had to return to the store again to get the things he forgot. He never forgot his list again.\n",
      "\n",
      "He left the grocery list that his wife had written for him.\n",
      "\n",
      "Sam goes shopping >Causes/Enables> Sam forgets his list\n",
      "\n",
      "Someone_A goes Somewhere_A (that is a shop) >Causes/Enables> Someone_A forgots Something_A (that is Someone_A's shopping list)\n",
      "\n"
     ]
    }
   ],
   "source": [
    "for col in [\"story\", \"selected_sentence\", \"1_specificNL\", \"1_generalNL\"]:\n",
    "    print(test_sample.iloc[0][col], end=\"\\n\\n\")"
   ]
  },
  {
   "cell_type": "code",
   "execution_count": 29,
   "metadata": {},
   "outputs": [
    {
     "name": "stdout",
     "output_type": "stream",
     "text": [
      "0\n",
      "0\n",
      "0\n",
      "0\n"
     ]
    }
   ],
   "source": [
    "import spacy\n",
    "\n",
    "nlp = spacy.load(\"en_core_web_sm\")\n",
    "doc = nlp(\"Sam forgets his list\")\n",
    "\n",
    "for token in doc:\n",
    "    print(token.ent_id)"
   ]
  },
  {
   "cell_type": "code",
   "execution_count": 30,
   "metadata": {},
   "outputs": [],
   "source": [
    "import pandas as pd\n",
    "\n",
    "overlap_df = pd.read_csv(\"outputs/glucose_train_samples_with_overlap_0.1_dim_16_s.csv\")"
   ]
  },
  {
   "cell_type": "code",
   "execution_count": 32,
   "metadata": {},
   "outputs": [
    {
     "name": "stdout",
     "output_type": "stream",
     "text": [
      "I told Frankie to go to the store and get groceries. He put on his jacket and went on his way. After fifteen minutes I heard a knock on the door. I wasn't expecting Frankie for another hour but there he was. When I asked him how he came and went so fast he said he ran!\n",
      "\n",
      "He put on his jacket and went on his way.\n",
      "\n",
      "I ask Frankie an errand >Causes/Enables> Frankie goes on  his way to  the grocery store\n",
      "\n",
      "Someone_A asks Someone_B an errand >Causes/Enables> Someone_B goes to  Somewhere_A with Someone_B's jacket\n",
      "\n",
      "True\n",
      "\n",
      "False\n",
      "\n",
      "\n",
      "Max loved to cook. He spent all day looking for recipes. He slaved over the stove for hours. He presented the meal to his girlfriend. She loved it.\n",
      "\n",
      "He presented the meal to his girlfriend.\n",
      "\n",
      "Max cooked a meal  for  his girlfriend  >Causes/Enables> Max gave  the meal  to  his girlfriend\n",
      "\n",
      "Someone_A cooked  Something_A (that is a meal ) for  Someone_B (who is Someone_A's girlfriend) >Causes/Enables> Someone_A gave  Something_A to  Someone_B\n",
      "\n",
      "True\n",
      "\n",
      "True\n",
      "\n",
      "\n",
      "The man got a flat. He stopped to change his tire. He had the tire removed. A car didn't see him there working. The car accidentally hit the man.\n",
      "\n",
      "A car didn't see him there working.\n",
      "\n",
      "The man was changing his tire on the road. >Causes/Enables> An approaching car didn't see him working.\n",
      "\n",
      "Someone_A was changing his tire on the road. >Causes/Enables> The driver of an approaching car didn't see him working.\n",
      "\n",
      "True\n",
      "\n",
      "True\n",
      "\n",
      "\n",
      "Megan decided to cook mashed potatoes. She had never made them before. She bought all the ingredients. She cooked the potatoes and mashed them. They were delicious.\n",
      "\n",
      "She bought all the ingredients.\n",
      "\n",
      "Megan decides to make mashed potatoes >Causes/Enables> Megan buys the ingredients for mashed potatoes\n",
      "\n",
      "Someone_A decides to make Something_A (that is food) >Causes/Enables> Someone_A buys ingredients for Something_A\n",
      "\n",
      "True\n",
      "\n",
      "True\n",
      "\n",
      "\n",
      "Andrew's dad woke Andrew up early to rake the backyard. Andrew was sleepy and hated to do this. But his dad promised him they would go to the movies if he did it. So Andrew got it done in an hour. Him and his dad went to the movies after.\n",
      "\n",
      "Him and his dad went to the movies after.\n",
      "\n",
      "Andrew's dad promises they would go to  the movies >Causes/Enables> Andrew and his dad go to  the movies\n",
      "\n",
      "Someone_A promises Someone_B they would do Something_A >Causes/Enables> Someone_A and Someone_B do Something_A\n",
      "\n",
      "False\n",
      "\n",
      "True\n",
      "\n",
      "\n",
      "Harry made some food. He put it in the oven to cook. He went outside to work. He smelled some smoke. He ran inside to stop the fire.\n",
      "\n",
      "He went outside to work.\n",
      "\n",
      "Harry put  the food in  the oven  >Causes/Enables> Harry went outside  to  work \n",
      "\n",
      "Someone_A put  Something_A (that is food) in  Something_B (that is the oven ) >Causes/Enables> Someone_A went outside  to  work \n",
      "\n",
      "True\n",
      "\n",
      "True\n",
      "\n",
      "\n",
      "Once I went to a hockey game. All the beer there was very expensive. I got lucky and found a $50 on the ground! Once I had the money, I bought more beer. I drank the beer and was very happy.\n",
      "\n",
      "All the beer there was very expensive.\n",
      "\n",
      "I  went to  a hockey game >Causes/Enables> All the beer was expensive\n",
      "\n",
      "Someone_A went to Something_A >Causes/Enables> Something_B was expensive\n",
      "\n",
      "True\n",
      "\n",
      "True\n",
      "\n",
      "\n",
      "On my birthday my friend gave me a present. The present was a ring. I lost the ring today. We looked everywhere for the ring. We couldn't find the ring.\n",
      "\n",
      "On my birthday my friend gave me a present.\n",
      "\n",
      "It  is  my birthday  >Causes/Enables> My friend  gave me  a gift \n",
      "\n",
      "It  is  Someone_A's birthday  >Causes/Enables> Someone_B gives  Someone_A Something_A (that is a gift )\n",
      "\n",
      "False\n",
      "\n",
      "False\n",
      "\n",
      "\n",
      "Arlene still felt weak from a previous illness. The volleyball match was only a few days away. She still could not breathe too well or practice. Her coach came up with a home remedy to help her get better. Arlene ended up competing in the match and had a good game.\n",
      "\n",
      "Arlene ended up competing in the match and had a good game.\n",
      "\n",
      "She  feel better  >Causes/Enables> She  competes  in  the match \n",
      "\n",
      "Someone_A feels better  >Causes/Enables> Someone_A competes  in  Something_A (that is a sport )\n",
      "\n",
      "True\n",
      "\n",
      "True\n",
      "\n",
      "\n",
      "It was hot and David wanted a treat. He heard Turkey in the Straw playing. There was an icecream truck. David bought a chocolate cone. The double scoops melted quickly and fell onto the pavement.\n",
      "\n",
      "It was hot and David wanted a treat.\n",
      "\n",
      "David is sweating >Causes/Enables> Today is hot and Someone_A wants a treat\n",
      "\n",
      "Someone_A is sweating >Causes/Enables> Today is hot and David wants a treat\n",
      "\n",
      "False\n",
      "\n",
      "False\n",
      "\n",
      "\n"
     ]
    }
   ],
   "source": [
    "for i, row in overlap_df.iterrows():\n",
    "    for col in [\"story\", \"selected_sentence\", \"1_specificNL\", \"1_generalNL\", \"1_story_spec_overlap_0.1\", \"1_story_gen_overlap_0.1\"]:\n",
    "        print(row[col], end=\"\\n\\n\")\n",
    "    print()"
   ]
  },
  {
   "cell_type": "code",
   "execution_count": 10,
   "metadata": {},
   "outputs": [
    {
     "name": "stdout",
     "output_type": "stream",
     "text": [
      "I told Frankie to go to the store and get groceries. He put on his jacket and went on his way. After fifteen minutes I heard a knock on the door. I wasn't expecting Frankie for another hour but there he was. When I asked him how he came and went so fast he said he ran!\n",
      "\n",
      "He put on his jacket and went on his way.\n",
      "\n",
      "Frankie  goes on  his way >Causes/Enables> Frankie  runs to  the store\n",
      "\n",
      "Someone_A goes on  his way for  an errand >Causes/Enables> Someone_A runs  to  Somewhere_A\n",
      "\n",
      "[False, 'none', False, 'none']\n",
      "\n"
     ]
    }
   ],
   "source": [
    "for col in [\"story\", \"selected_sentence\", \"6_specificNL\", \"6_generalNL\", \"6_story_copy_overlap_0.8\"]:\n",
    "    print(overlap_df.iloc[0][col], end=\"\\n\\n\")"
   ]
  },
  {
   "cell_type": "code",
   "execution_count": 33,
   "metadata": {},
   "outputs": [],
   "source": [
    "import pandas as pd\n",
    "\n",
    "overlap_df = pd.read_csv(\"outputs/GLUCOSE_training_data_final_with_overlap_0.2_dim_16_s.csv\")"
   ]
  },
  {
   "cell_type": "code",
   "execution_count": 34,
   "metadata": {},
   "outputs": [
    {
     "data": {
      "text/plain": [
       "Index(['Unnamed: 0', 'experiment_id', 'story_id', 'worker_id',\n",
       "       'submission_time_normalized', 'worker_quality_rating',\n",
       "       'selected_sentence_index', 'story', 'selected_sentence', '1_specificNL',\n",
       "       '1_specificStructured', '1_generalNL', '1_generalStructured',\n",
       "       '2_specificNL', '2_specificStructured', '2_generalNL',\n",
       "       '2_generalStructured', '3_specificNL', '3_specificStructured',\n",
       "       '3_generalNL', '3_generalStructured', '4_specificNL',\n",
       "       '4_specificStructured', '4_generalNL', '4_generalStructured',\n",
       "       '5_specificNL', '5_specificStructured', '5_generalNL',\n",
       "       '5_generalStructured', '6_specificNL', '6_specificStructured',\n",
       "       '6_generalNL', '6_generalStructured', '7_specificNL',\n",
       "       '7_specificStructured', '7_generalNL', '7_generalStructured',\n",
       "       '8_specificNL', '8_specificStructured', '8_generalNL',\n",
       "       '8_generalStructured', '9_specificNL', '9_specificStructured',\n",
       "       '9_generalNL', '9_generalStructured', '10_specificNL',\n",
       "       '10_specificStructured', '10_generalNL', '10_generalStructured',\n",
       "       'number_filled_in', '1_story_spec_overlap_0.2',\n",
       "       '1_story_gen_overlap_0.2', '6_story_spec_overlap_0.2',\n",
       "       '6_story_gen_overlap_0.2'],\n",
       "      dtype='object')"
      ]
     },
     "execution_count": 34,
     "metadata": {},
     "output_type": "execute_result"
    }
   ],
   "source": [
    "overlap_df.columns"
   ]
  },
  {
   "cell_type": "code",
   "execution_count": 38,
   "metadata": {},
   "outputs": [],
   "source": [
    "test_sample = overlap_df.query(\"`1_story_spec_overlap_0.2` == False and `1_story_gen_overlap_0.2` == False\")"
   ]
  },
  {
   "cell_type": "code",
   "execution_count": 39,
   "metadata": {},
   "outputs": [
    {
     "name": "stdout",
     "output_type": "stream",
     "text": [
      "Sara was invited to the football game. She showed up at the gates early. Then, she went inside. She spent most of the game wandering around. At the end of the game, her team won.\n",
      "\n",
      "At the end of the game, her team won.\n",
      "\n",
      "Sara  goes  to  a football game  >Causes/Enables> Her team  wins \n",
      "\n",
      "Someone_A goes  to  a sport's game  >Causes/Enables> Someone_A's team  wins \n",
      "\n"
     ]
    }
   ],
   "source": [
    "for col in [\"story\", \"selected_sentence\", \"1_specificNL\", \"1_generalNL\"]:\n",
    "    print(test_sample.iloc[0][col], end=\"\\n\\n\")"
   ]
  },
  {
   "cell_type": "code",
   "execution_count": 40,
   "metadata": {},
   "outputs": [],
   "source": [
    "test_sample = overlap_df.query(\"`6_story_spec_overlap_0.2` == False and `6_story_gen_overlap_0.2` == False\")"
   ]
  },
  {
   "cell_type": "code",
   "execution_count": 42,
   "metadata": {},
   "outputs": [
    {
     "name": "stdout",
     "output_type": "stream",
     "text": [
      "Kyle was leaving to pick up his sister from work. When he got to the car he realized he was missing his keys. He looked through every room in his house but still couldn't find it. He decided to check his dirty clothes basket. He found his keys in the pocket of the pants he wore yesterday.\n",
      "\n",
      "He decided to check his dirty clothes basket.\n",
      "\n",
      "He decided to check his dirty clothes basket for his keys >Causes/Enables> He found his keys in his dirty clothes basket\n",
      "\n",
      "Someone_A decided to check Something_A (that has dirty clothes) for Something_B >Causes/Enables> Someone_A found Something_B in Something_A (that has dirty clothes)\n",
      "\n",
      "False\n",
      "\n"
     ]
    }
   ],
   "source": [
    "for col in [\"story\", \"selected_sentence\", \"6_specificNL\", \"6_generalNL\"]:\n",
    "    print(test_sample.iloc[0][col], end=\"\\n\\n\")"
   ]
  },
  {
   "cell_type": "code",
   "execution_count": 1,
   "metadata": {},
   "outputs": [
    {
     "name": "stderr",
     "output_type": "stream",
     "text": [
      "/Users/mismayil/.pyenv/versions/3.9.7/envs/op/lib/python3.9/site-packages/tqdm/auto.py:22: TqdmWarning: IProgress not found. Please update jupyter and ipywidgets. See https://ipywidgets.readthedocs.io/en/stable/user_install.html\n",
      "  from .autonotebook import tqdm as notebook_tqdm\n"
     ]
    },
    {
     "data": {
      "text/plain": [
       "True"
      ]
     },
     "execution_count": 1,
     "metadata": {},
     "output_type": "execute_result"
    }
   ],
   "source": [
    "from utils import has_overlap, has_story_overlap\n",
    "story = \"Kyle was leaving to pick up his sister from work. When he got to the car he realized he was missing his keys. He looked through every room in his house but still couldn't find it. He decided to check his dirty clothes basket. He found his keys in the pocket of the pants he wore yesterday.\"\n",
    "\n",
    "has_story_overlap(\"He decided to check his dirty clothes basket for his keys\", \"He found his keys in the pocket of the pants he wore yesterday.\", story, 0.2, \"He decided to check his dirty clothes basket.\", 6)"
   ]
  },
  {
   "cell_type": "code",
   "execution_count": 3,
   "metadata": {},
   "outputs": [
    {
     "data": {
      "text/plain": [
       "{'find',\n",
       " 'he',\n",
       " 'his',\n",
       " 'in',\n",
       " 'key',\n",
       " 'of',\n",
       " 'pant',\n",
       " 'pocket',\n",
       " 'the',\n",
       " 'wear',\n",
       " 'yesterday'}"
      ]
     },
     "execution_count": 3,
     "metadata": {},
     "output_type": "execute_result"
    }
   ],
   "source": [
    "from utils import get_sents, get_words\n",
    "\n",
    "get_words(\" He found his keys in the pocket of the pants he wore yesterday.\")"
   ]
  },
  {
   "cell_type": "code",
   "execution_count": 1,
   "metadata": {},
   "outputs": [],
   "source": [
    "import json\n",
    "\n",
    "with open(\"data/glucose_cross_dim_data.json\") as f:\n",
    "    glucose = json.load(f)"
   ]
  },
  {
   "cell_type": "code",
   "execution_count": 2,
   "metadata": {},
   "outputs": [
    {
     "data": {
      "text/plain": [
       "63534"
      ]
     },
     "execution_count": 2,
     "metadata": {},
     "output_type": "execute_result"
    }
   ],
   "source": [
    "len(glucose)"
   ]
  },
  {
   "cell_type": "code",
   "execution_count": 7,
   "metadata": {},
   "outputs": [],
   "source": [
    "import numpy as np\n",
    "\n",
    "train_indices = np.random.choice(len(glucose), size=60000, replace=False)"
   ]
  },
  {
   "cell_type": "code",
   "execution_count": 9,
   "metadata": {},
   "outputs": [],
   "source": [
    "train_data = [d for i, d in enumerate(glucose) if i in train_indices]\n",
    "val_data = [d for i, d in enumerate(glucose) if i not in train_indices]"
   ]
  },
  {
   "cell_type": "code",
   "execution_count": 10,
   "metadata": {},
   "outputs": [
    {
     "data": {
      "text/plain": [
       "(60000, 3534)"
      ]
     },
     "execution_count": 10,
     "metadata": {},
     "output_type": "execute_result"
    }
   ],
   "source": [
    "len(train_data), len(val_data)"
   ]
  },
  {
   "cell_type": "code",
   "execution_count": 11,
   "metadata": {},
   "outputs": [],
   "source": [
    "with open(\"data/glucose_cross_dim_train_data.json\", \"w\") as f:\n",
    "    json.dump(train_data, f, indent=2)\n",
    "\n",
    "with open(\"data/glucose_cross_dim_val_data.json\", \"w\") as f:\n",
    "    json.dump(val_data, f, indent=2)"
   ]
  },
  {
   "cell_type": "code",
   "execution_count": 12,
   "metadata": {},
   "outputs": [],
   "source": [
    "def dim_dist(data):\n",
    "    dim12 = len([d for d in data if d[\"model_dim\"] == 1])\n",
    "    dim67 = len([d for d in data if d[\"model_dim\"] == 6])\n",
    "\n",
    "    return dim12 / len(data), dim67 / len(data)"
   ]
  },
  {
   "cell_type": "code",
   "execution_count": 13,
   "metadata": {},
   "outputs": [
    {
     "data": {
      "text/plain": [
       "(0.5202166666666667, 0.47978333333333334)"
      ]
     },
     "execution_count": 13,
     "metadata": {},
     "output_type": "execute_result"
    }
   ],
   "source": [
    "dim_dist(train_data)"
   ]
  },
  {
   "cell_type": "code",
   "execution_count": 14,
   "metadata": {},
   "outputs": [
    {
     "data": {
      "text/plain": [
       "(0.5263157894736842, 0.47368421052631576)"
      ]
     },
     "execution_count": 14,
     "metadata": {},
     "output_type": "execute_result"
    }
   ],
   "source": [
    "dim_dist(val_data)"
   ]
  },
  {
   "cell_type": "code",
   "execution_count": 2,
   "metadata": {},
   "outputs": [],
   "source": [
    "import json\n",
    "with open(\"data/glucose_cross_dim_train_data.json\") as f:\n",
    "    train_data = json.load(f)\n",
    "\n",
    "with open(\"data/glucose_cross_dim_val_data.json\") as f:\n",
    "    val_data = json.load(f)"
   ]
  },
  {
   "cell_type": "code",
   "execution_count": 22,
   "metadata": {},
   "outputs": [
    {
     "ename": "TokenError",
     "evalue": "('EOF in multi-line statement', (2, 0))",
     "output_type": "error",
     "traceback": [
      "\u001b[0;31m---------------------------------------------------------------------------\u001b[0m",
      "\u001b[0;31mTokenError\u001b[0m                                Traceback (most recent call last)",
      "Cell \u001b[0;32mIn [22], line 6\u001b[0m\n\u001b[1;32m      3\u001b[0m \u001b[39mfrom\u001b[39;00m \u001b[39mt5_experiments\u001b[39;00m\u001b[39m.\u001b[39;00m\u001b[39mdata_processing\u001b[39;00m\u001b[39m.\u001b[39;00m\u001b[39mutils\u001b[39;00m \u001b[39mimport\u001b[39;00m get_encoded_code_tokens\n\u001b[1;32m      5\u001b[0m d \u001b[39m=\u001b[39m \u001b[39m\"\u001b[39m\u001b[39mSome People_A (who are Someone_A\u001b[39m\u001b[39m'\u001b[39m\u001b[39ms friends and family) attend Someone_A\u001b[39m\u001b[39m'\u001b[39m\u001b[39ms party >Causes Someone_A feel(s) happy\u001b[39m\u001b[39m\"\u001b[39m\n\u001b[0;32m----> 6\u001b[0m get_encoded_code_tokens(d)\n",
      "File \u001b[0;32m~/Desktop/EPFL/F2022/OP/optional-project/t5_experiments/data_processing/utils.py:22\u001b[0m, in \u001b[0;36mget_encoded_code_tokens\u001b[0;34m(code)\u001b[0m\n\u001b[1;32m     19\u001b[0m indent_level \u001b[39m=\u001b[39m \u001b[39m0\u001b[39m\n\u001b[1;32m     20\u001b[0m new_line \u001b[39m=\u001b[39m \u001b[39mFalse\u001b[39;00m\n\u001b[0;32m---> 22\u001b[0m \u001b[39mfor\u001b[39;00m toknum, tokval, (srow, scol), (erow, ecol), _ \u001b[39min\u001b[39;00m token_stream:\n\u001b[1;32m     23\u001b[0m     \u001b[39mif\u001b[39;00m toknum \u001b[39m==\u001b[39m tk\u001b[39m.\u001b[39mNEWLINE:\n\u001b[1;32m     24\u001b[0m         tokens\u001b[39m.\u001b[39mappend(\u001b[39m'\u001b[39m\u001b[39m \u001b[39m\u001b[39m'\u001b[39m)\n",
      "File \u001b[0;32m~/.pyenv/versions/3.9.7/lib/python3.9/tokenize.py:521\u001b[0m, in \u001b[0;36m_tokenize\u001b[0;34m(readline, encoding)\u001b[0m\n\u001b[1;32m    519\u001b[0m \u001b[39melse\u001b[39;00m:                                  \u001b[39m# continued statement\u001b[39;00m\n\u001b[1;32m    520\u001b[0m     \u001b[39mif\u001b[39;00m \u001b[39mnot\u001b[39;00m line:\n\u001b[0;32m--> 521\u001b[0m         \u001b[39mraise\u001b[39;00m TokenError(\u001b[39m\"\u001b[39m\u001b[39mEOF in multi-line statement\u001b[39m\u001b[39m\"\u001b[39m, (lnum, \u001b[39m0\u001b[39m))\n\u001b[1;32m    522\u001b[0m     continued \u001b[39m=\u001b[39m \u001b[39m0\u001b[39m\n\u001b[1;32m    524\u001b[0m \u001b[39mwhile\u001b[39;00m pos \u001b[39m<\u001b[39m \u001b[39mmax\u001b[39m:\n",
      "\u001b[0;31mTokenError\u001b[0m: ('EOF in multi-line statement', (2, 0))"
     ]
    }
   ],
   "source": [
    "from tokenize import generate_tokens\n",
    "from io import StringIO\n",
    "from t5_experiments.data_processing.utils import get_encoded_code_tokens\n",
    "\n",
    "d = \"Some People_A (who are Someone_A's friends and family) attend Someone_A's party >Causes> Someone_A feel(s) happy\"\n",
    "get_encoded_code_tokens(d)"
   ]
  },
  {
   "cell_type": "code",
   "execution_count": 1,
   "metadata": {},
   "outputs": [],
   "source": [
    "from utils import read_json, write_json\n",
    "\n",
    "test_glucose = read_json(\"data/glucose_cross_dim_test_data.json\")"
   ]
  },
  {
   "cell_type": "code",
   "execution_count": 2,
   "metadata": {},
   "outputs": [],
   "source": [
    "test_glucose_cause = [d for d in test_glucose if d[\"model_dim\"] == 1]\n",
    "test_glucose_effect = [d for d in test_glucose if d[\"model_dim\"] == 6]"
   ]
  },
  {
   "cell_type": "code",
   "execution_count": 3,
   "metadata": {},
   "outputs": [
    {
     "data": {
      "text/plain": [
       "(41, 62)"
      ]
     },
     "execution_count": 3,
     "metadata": {},
     "output_type": "execute_result"
    }
   ],
   "source": [
    "len(test_glucose_cause), len(test_glucose_effect)"
   ]
  },
  {
   "cell_type": "code",
   "execution_count": null,
   "metadata": {},
   "outputs": [],
   "source": [
    "write_json(test_glucose_cause, \"data/glucose_cross_dim_test_cause_data.json\")\n",
    "write_json(test_glucose_effect, \"data/glucose_cross_dim_test_effect_data.json\")"
   ]
  },
  {
   "cell_type": "code",
   "execution_count": 10,
   "metadata": {},
   "outputs": [
    {
     "data": {
      "text/plain": [
       "['They played together.',\n",
       " 'Sally got sick from Ann.',\n",
       " 'Now Ann comes to visit Sally.',\n",
       " 'Her friend Sally came to visit.',\n",
       " '*Ann was at home sick.*',\n",
       " '<MASK>']"
      ]
     },
     "execution_count": 10,
     "metadata": {},
     "output_type": "execute_result"
    }
   ],
   "source": [
    "from generate_neg_glucose_cross_dim import generate_negative_context\n",
    "\n",
    "sample =   {\n",
    "    \"context\": [\n",
    "      \"They played together.\",\n",
    "      \"Sally got sick from Ann.\",\n",
    "      \"Now Ann comes to visit Sally.\",\n",
    "      \"<MASK>\",\n",
    "      \"*Ann was at home sick.*\",\n",
    "    ],\n",
    "    \"actor_output\": \"Ann is  at  home >Causes/Enables> Sally visits Ann\",\n",
    "    \"critic_hint\": \"Someone_A (who is sick) is at  home >Causes> Someone_A feel(s) sad\",\n",
    "    \"masked_sentence\": \"Her friend Sally came to visit.\",\n",
    "    \"selected_sentence\": \"Ann was at home sick.\",\n",
    "    \"actor_dim\": 1,\n",
    "    \"critic_dim\": 2,\n",
    "    \"neg_actor_outputs\": [\n",
    "      \"Ann was at home sick >Causes/Enables> Sally came to visit Ann\",\n",
    "      \"Ann is at home sick >Causes/Enables> Sally visits Ann\",\n",
    "      \"Ann is sick >Causes/Enables> Sally visits Ann\"\n",
    "    ]\n",
    "  }\n",
    "generate_negative_context(sample)"
   ]
  },
  {
   "cell_type": "code",
   "execution_count": 1,
   "metadata": {},
   "outputs": [
    {
     "name": "stderr",
     "output_type": "stream",
     "text": [
      "/Users/mismayil/.pyenv/versions/3.9.7/envs/op/lib/python3.9/site-packages/tqdm/auto.py:22: TqdmWarning: IProgress not found. Please update jupyter and ipywidgets. See https://ipywidgets.readthedocs.io/en/stable/user_install.html\n",
      "  from .autonotebook import tqdm as notebook_tqdm\n"
     ]
    }
   ],
   "source": [
    "from utils import read_json, write_json\n",
    "\n",
    "glucose = read_json(\"data/critic_glucose_cross_dim_train_data_with_neg.json\")"
   ]
  },
  {
   "cell_type": "code",
   "execution_count": 2,
   "metadata": {},
   "outputs": [
    {
     "data": {
      "text/plain": [
       "240000"
      ]
     },
     "execution_count": 2,
     "metadata": {},
     "output_type": "execute_result"
    }
   ],
   "source": [
    "len(glucose)"
   ]
  },
  {
   "cell_type": "code",
   "execution_count": 15,
   "metadata": {},
   "outputs": [],
   "source": [
    "import pandas as pd\n",
    "\n",
    "anlg_source = pd.read_csv(\"../multigen-data/anlg/test/source.csv\", header=None)\n",
    "anlg_target = pd.read_csv(\"../multigen-data/anlg/test/target.csv\", header=None)\n",
    "\n",
    "with open(\"../multigen/results/grf-anlg.txt\") as f:\n",
    "    multigen = f.readlines()"
   ]
  },
  {
   "cell_type": "code",
   "execution_count": 16,
   "metadata": {},
   "outputs": [
    {
     "data": {
      "text/html": [
       "<div>\n",
       "<style scoped>\n",
       "    .dataframe tbody tr th:only-of-type {\n",
       "        vertical-align: middle;\n",
       "    }\n",
       "\n",
       "    .dataframe tbody tr th {\n",
       "        vertical-align: top;\n",
       "    }\n",
       "\n",
       "    .dataframe thead th {\n",
       "        text-align: right;\n",
       "    }\n",
       "</style>\n",
       "<table border=\"1\" class=\"dataframe\">\n",
       "  <thead>\n",
       "    <tr style=\"text-align: right;\">\n",
       "      <th></th>\n",
       "      <th>0</th>\n",
       "      <th>1</th>\n",
       "      <th>2</th>\n",
       "    </tr>\n",
       "  </thead>\n",
       "  <tbody>\n",
       "    <tr>\n",
       "      <th>0</th>\n",
       "      <td>0</td>\n",
       "      <td>The Smiths were having holidays done of the ch...</td>\n",
       "      <td>Ty's face lit up as he ran to the new toy, hap...</td>\n",
       "    </tr>\n",
       "    <tr>\n",
       "      <th>1</th>\n",
       "      <td>1</td>\n",
       "      <td>The Smiths were having holidays done of the ch...</td>\n",
       "      <td>Ty's face lit up as he ran to the new toy, hap...</td>\n",
       "    </tr>\n",
       "    <tr>\n",
       "      <th>2</th>\n",
       "      <td>2</td>\n",
       "      <td>The Smiths were having holidays done of the ch...</td>\n",
       "      <td>Ty's face lit up as he ran to the new toy, hap...</td>\n",
       "    </tr>\n",
       "    <tr>\n",
       "      <th>3</th>\n",
       "      <td>3</td>\n",
       "      <td>The Smiths were having holidays done of the ch...</td>\n",
       "      <td>Ty's face lit up as he ran to the new toy, hap...</td>\n",
       "    </tr>\n",
       "    <tr>\n",
       "      <th>4</th>\n",
       "      <td>4</td>\n",
       "      <td>The Smiths were having holidays done of the ch...</td>\n",
       "      <td>Ty's face lit up as he ran to the new toy, hap...</td>\n",
       "    </tr>\n",
       "  </tbody>\n",
       "</table>\n",
       "</div>"
      ],
      "text/plain": [
       "   0                                                  1  \\\n",
       "0  0  The Smiths were having holidays done of the ch...   \n",
       "1  1  The Smiths were having holidays done of the ch...   \n",
       "2  2  The Smiths were having holidays done of the ch...   \n",
       "3  3  The Smiths were having holidays done of the ch...   \n",
       "4  4  The Smiths were having holidays done of the ch...   \n",
       "\n",
       "                                                   2  \n",
       "0  Ty's face lit up as he ran to the new toy, hap...  \n",
       "1  Ty's face lit up as he ran to the new toy, hap...  \n",
       "2  Ty's face lit up as he ran to the new toy, hap...  \n",
       "3  Ty's face lit up as he ran to the new toy, hap...  \n",
       "4  Ty's face lit up as he ran to the new toy, hap...  "
      ]
     },
     "execution_count": 16,
     "metadata": {},
     "output_type": "execute_result"
    }
   ],
   "source": [
    "anlg_source.head()"
   ]
  },
  {
   "cell_type": "code",
   "execution_count": 17,
   "metadata": {},
   "outputs": [
    {
     "data": {
      "text/html": [
       "<div>\n",
       "<style scoped>\n",
       "    .dataframe tbody tr th:only-of-type {\n",
       "        vertical-align: middle;\n",
       "    }\n",
       "\n",
       "    .dataframe tbody tr th {\n",
       "        vertical-align: top;\n",
       "    }\n",
       "\n",
       "    .dataframe thead th {\n",
       "        text-align: right;\n",
       "    }\n",
       "</style>\n",
       "<table border=\"1\" class=\"dataframe\">\n",
       "  <thead>\n",
       "    <tr style=\"text-align: right;\">\n",
       "      <th></th>\n",
       "      <th>0</th>\n",
       "      <th>1</th>\n",
       "    </tr>\n",
       "  </thead>\n",
       "  <tbody>\n",
       "    <tr>\n",
       "      <th>0</th>\n",
       "      <td>0</td>\n",
       "      <td>The Smiths bought toys for the kids.</td>\n",
       "    </tr>\n",
       "    <tr>\n",
       "      <th>1</th>\n",
       "      <td>1</td>\n",
       "      <td>The Smiths had bought a lot of presents.</td>\n",
       "    </tr>\n",
       "    <tr>\n",
       "      <th>2</th>\n",
       "      <td>2</td>\n",
       "      <td>The smiths gave gifts.</td>\n",
       "    </tr>\n",
       "    <tr>\n",
       "      <th>3</th>\n",
       "      <td>3</td>\n",
       "      <td>They included some toys in the photos.</td>\n",
       "    </tr>\n",
       "    <tr>\n",
       "      <th>4</th>\n",
       "      <td>4</td>\n",
       "      <td>Their children came to their home.</td>\n",
       "    </tr>\n",
       "  </tbody>\n",
       "</table>\n",
       "</div>"
      ],
      "text/plain": [
       "   0                                         1\n",
       "0  0      The Smiths bought toys for the kids.\n",
       "1  1  The Smiths had bought a lot of presents.\n",
       "2  2                    The smiths gave gifts.\n",
       "3  3    They included some toys in the photos.\n",
       "4  4        Their children came to their home."
      ]
     },
     "execution_count": 17,
     "metadata": {},
     "output_type": "execute_result"
    }
   ],
   "source": [
    "anlg_target.head()"
   ]
  },
  {
   "cell_type": "code",
   "execution_count": 93,
   "metadata": {},
   "outputs": [],
   "source": [
    "i = 0"
   ]
  },
  {
   "cell_type": "code",
   "execution_count": 133,
   "metadata": {},
   "outputs": [
    {
     "name": "stdout",
     "output_type": "stream",
     "text": [
      "O1: \t\tIt was my birthday.\n",
      "O2: \t\tWhen I got home the party was set up for my brother.\n",
      "\n",
      "Gold H: \tEveryone got the date wrong.\n",
      "Gold H: \tMy friends were going to surprise me with a party.\n",
      "Gold H: \ti was so excited.\n",
      "Gold H: \tIt was also my brothers.\n",
      "\n",
      "Multigen H: \tI decided to invite my brother over.\n"
     ]
    }
   ],
   "source": [
    "o1 = anlg_source.iloc[i, 1].strip()\n",
    "o2 = anlg_source.iloc[i, 2].strip()\n",
    "print(f\"O1: \\t\\t{o1}\")\n",
    "print(f\"O2: \\t\\t{o2}\")\n",
    "print()\n",
    "\n",
    "while True:\n",
    "    new_o1 = anlg_source.iloc[i, 1].strip()\n",
    "    new_o2 = anlg_source.iloc[i, 2].strip()\n",
    "    if o1 == new_o1 and o2 == new_o2:\n",
    "        print(f\"Gold H: \\t{anlg_target.iloc[i, 1]}\")\n",
    "    else:\n",
    "        break\n",
    "    i += 1\n",
    "\n",
    "print()\n",
    "print(f\"Multigen H: \\t{multigen[i-1].strip()}\")"
   ]
  },
  {
   "cell_type": "code",
   "execution_count": 17,
   "metadata": {},
   "outputs": [],
   "source": [
    "from utils import read_json\n",
    "\n",
    "data = read_json(\"data/moral_stories/norm-actions+context+consequences/norm_distance/critic_dev_prep_vp.json\")\n",
    "\n",
    "deg_cases = []\n",
    "\n",
    "for d in data:\n",
    "    if not d[\"norm_concepts\"]:\n",
    "        deg_cases.append(d)\n",
    "        "
   ]
  },
  {
   "cell_type": "code",
   "execution_count": 18,
   "metadata": {},
   "outputs": [
    {
     "data": {
      "text/plain": [
       "22"
      ]
     },
     "execution_count": 18,
     "metadata": {},
     "output_type": "execute_result"
    }
   ],
   "source": [
    "len(deg_cases)"
   ]
  },
  {
   "cell_type": "code",
   "execution_count": 19,
   "metadata": {},
   "outputs": [],
   "source": [
    "import json\n",
    "\n",
    "with open(\"deg_cases.json\", \"w\") as f:\n",
    "    json.dump(deg_cases, f, indent=2)    "
   ]
  },
  {
   "cell_type": "code",
   "execution_count": 20,
   "metadata": {},
   "outputs": [
    {
     "name": "stdout",
     "output_type": "stream",
     "text": [
      "You shouldn't call Asians Nazi's.\n",
      "Continuing to work when sick might make you sicker.\n",
      "Roommates should respect each other.\n",
      "You should always get your school work done.\n",
      "Mental health issues must be addressed directly and not avoided.\n",
      "It's expected that you write thank you notes\n",
      "People might get annoyed if you practice singing too loud.\n",
      "Smoking cigarettes is considered an unhealthy habit.\n",
      "You should try to make your parents proud.\n",
      "You shouldn't call online dating gross.\n",
      "Neighbors are expected not to disturb each other.\n",
      "Neighbors are expected not to spy on one another.\n",
      "You should show your parents grace.\n",
      "It's expected that family should openly communicate.\n",
      "It's expected that you'll move away from your parents.\n",
      "You shouldn't make a party unhappy for your guests.\n",
      "You should make your friends a priority.\n",
      "You shouldn't laugh when people die.\n",
      "You should not spend more than you make.\n",
      "You shouldn't buy more than your budget can take.\n",
      "You should not expect someone to do more than you.\n",
      "People shouldn't take more than they need.\n"
     ]
    }
   ],
   "source": [
    "for case in deg_cases:\n",
    "    print(case[\"norm\"])"
   ]
  },
  {
   "cell_type": "code",
   "execution_count": 24,
   "metadata": {},
   "outputs": [
    {
     "data": {
      "text/html": [
       "<span class=\"tex2jax_ignore\"><svg xmlns=\"http://www.w3.org/2000/svg\" xmlns:xlink=\"http://www.w3.org/1999/xlink\" xml:lang=\"en\" id=\"270f3b51fba248eeb396b4f9668b8ffb-0\" class=\"displacy\" width=\"4600\" height=\"574.5\" direction=\"ltr\" style=\"max-width: none; height: 574.5px; color: #000000; background: #ffffff; font-family: Arial; direction: ltr\">\n",
       "<text class=\"displacy-token\" fill=\"currentColor\" text-anchor=\"middle\" y=\"484.5\">\n",
       "    <tspan class=\"displacy-word\" fill=\"currentColor\" x=\"50\">Lana</tspan>\n",
       "    <tspan class=\"displacy-tag\" dy=\"2em\" fill=\"currentColor\" x=\"50\">PROPN</tspan>\n",
       "</text>\n",
       "\n",
       "<text class=\"displacy-token\" fill=\"currentColor\" text-anchor=\"middle\" y=\"484.5\">\n",
       "    <tspan class=\"displacy-word\" fill=\"currentColor\" x=\"225\">tells</tspan>\n",
       "    <tspan class=\"displacy-tag\" dy=\"2em\" fill=\"currentColor\" x=\"225\">VERB</tspan>\n",
       "</text>\n",
       "\n",
       "<text class=\"displacy-token\" fill=\"currentColor\" text-anchor=\"middle\" y=\"484.5\">\n",
       "    <tspan class=\"displacy-word\" fill=\"currentColor\" x=\"400\">her</tspan>\n",
       "    <tspan class=\"displacy-tag\" dy=\"2em\" fill=\"currentColor\" x=\"400\">PRON</tspan>\n",
       "</text>\n",
       "\n",
       "<text class=\"displacy-token\" fill=\"currentColor\" text-anchor=\"middle\" y=\"484.5\">\n",
       "    <tspan class=\"displacy-word\" fill=\"currentColor\" x=\"575\">friends</tspan>\n",
       "    <tspan class=\"displacy-tag\" dy=\"2em\" fill=\"currentColor\" x=\"575\">NOUN</tspan>\n",
       "</text>\n",
       "\n",
       "<text class=\"displacy-token\" fill=\"currentColor\" text-anchor=\"middle\" y=\"484.5\">\n",
       "    <tspan class=\"displacy-word\" fill=\"currentColor\" x=\"750\">what</tspan>\n",
       "    <tspan class=\"displacy-tag\" dy=\"2em\" fill=\"currentColor\" x=\"750\">PRON</tspan>\n",
       "</text>\n",
       "\n",
       "<text class=\"displacy-token\" fill=\"currentColor\" text-anchor=\"middle\" y=\"484.5\">\n",
       "    <tspan class=\"displacy-word\" fill=\"currentColor\" x=\"925\">happened</tspan>\n",
       "    <tspan class=\"displacy-tag\" dy=\"2em\" fill=\"currentColor\" x=\"925\">VERB</tspan>\n",
       "</text>\n",
       "\n",
       "<text class=\"displacy-token\" fill=\"currentColor\" text-anchor=\"middle\" y=\"484.5\">\n",
       "    <tspan class=\"displacy-word\" fill=\"currentColor\" x=\"1100\">to</tspan>\n",
       "    <tspan class=\"displacy-tag\" dy=\"2em\" fill=\"currentColor\" x=\"1100\">ADP</tspan>\n",
       "</text>\n",
       "\n",
       "<text class=\"displacy-token\" fill=\"currentColor\" text-anchor=\"middle\" y=\"484.5\">\n",
       "    <tspan class=\"displacy-word\" fill=\"currentColor\" x=\"1275\">her,</tspan>\n",
       "    <tspan class=\"displacy-tag\" dy=\"2em\" fill=\"currentColor\" x=\"1275\">PRON</tspan>\n",
       "</text>\n",
       "\n",
       "<text class=\"displacy-token\" fill=\"currentColor\" text-anchor=\"middle\" y=\"484.5\">\n",
       "    <tspan class=\"displacy-word\" fill=\"currentColor\" x=\"1450\">they</tspan>\n",
       "    <tspan class=\"displacy-tag\" dy=\"2em\" fill=\"currentColor\" x=\"1450\">PRON</tspan>\n",
       "</text>\n",
       "\n",
       "<text class=\"displacy-token\" fill=\"currentColor\" text-anchor=\"middle\" y=\"484.5\">\n",
       "    <tspan class=\"displacy-word\" fill=\"currentColor\" x=\"1625\">spread</tspan>\n",
       "    <tspan class=\"displacy-tag\" dy=\"2em\" fill=\"currentColor\" x=\"1625\">VERB</tspan>\n",
       "</text>\n",
       "\n",
       "<text class=\"displacy-token\" fill=\"currentColor\" text-anchor=\"middle\" y=\"484.5\">\n",
       "    <tspan class=\"displacy-word\" fill=\"currentColor\" x=\"1800\">the</tspan>\n",
       "    <tspan class=\"displacy-tag\" dy=\"2em\" fill=\"currentColor\" x=\"1800\">DET</tspan>\n",
       "</text>\n",
       "\n",
       "<text class=\"displacy-token\" fill=\"currentColor\" text-anchor=\"middle\" y=\"484.5\">\n",
       "    <tspan class=\"displacy-word\" fill=\"currentColor\" x=\"1975\">word</tspan>\n",
       "    <tspan class=\"displacy-tag\" dy=\"2em\" fill=\"currentColor\" x=\"1975\">NOUN</tspan>\n",
       "</text>\n",
       "\n",
       "<text class=\"displacy-token\" fill=\"currentColor\" text-anchor=\"middle\" y=\"484.5\">\n",
       "    <tspan class=\"displacy-word\" fill=\"currentColor\" x=\"2150\">that</tspan>\n",
       "    <tspan class=\"displacy-tag\" dy=\"2em\" fill=\"currentColor\" x=\"2150\">PRON</tspan>\n",
       "</text>\n",
       "\n",
       "<text class=\"displacy-token\" fill=\"currentColor\" text-anchor=\"middle\" y=\"484.5\">\n",
       "    <tspan class=\"displacy-word\" fill=\"currentColor\" x=\"2325\">Clark</tspan>\n",
       "    <tspan class=\"displacy-tag\" dy=\"2em\" fill=\"currentColor\" x=\"2325\">PROPN</tspan>\n",
       "</text>\n",
       "\n",
       "<text class=\"displacy-token\" fill=\"currentColor\" text-anchor=\"middle\" y=\"484.5\">\n",
       "    <tspan class=\"displacy-word\" fill=\"currentColor\" x=\"2500\">is</tspan>\n",
       "    <tspan class=\"displacy-tag\" dy=\"2em\" fill=\"currentColor\" x=\"2500\">AUX</tspan>\n",
       "</text>\n",
       "\n",
       "<text class=\"displacy-token\" fill=\"currentColor\" text-anchor=\"middle\" y=\"484.5\">\n",
       "    <tspan class=\"displacy-word\" fill=\"currentColor\" x=\"2675\">a</tspan>\n",
       "    <tspan class=\"displacy-tag\" dy=\"2em\" fill=\"currentColor\" x=\"2675\">DET</tspan>\n",
       "</text>\n",
       "\n",
       "<text class=\"displacy-token\" fill=\"currentColor\" text-anchor=\"middle\" y=\"484.5\">\n",
       "    <tspan class=\"displacy-word\" fill=\"currentColor\" x=\"2850\">creep,</tspan>\n",
       "    <tspan class=\"displacy-tag\" dy=\"2em\" fill=\"currentColor\" x=\"2850\">ADJ</tspan>\n",
       "</text>\n",
       "\n",
       "<text class=\"displacy-token\" fill=\"currentColor\" text-anchor=\"middle\" y=\"484.5\">\n",
       "    <tspan class=\"displacy-word\" fill=\"currentColor\" x=\"3025\">and</tspan>\n",
       "    <tspan class=\"displacy-tag\" dy=\"2em\" fill=\"currentColor\" x=\"3025\">CCONJ</tspan>\n",
       "</text>\n",
       "\n",
       "<text class=\"displacy-token\" fill=\"currentColor\" text-anchor=\"middle\" y=\"484.5\">\n",
       "    <tspan class=\"displacy-word\" fill=\"currentColor\" x=\"3200\">he</tspan>\n",
       "    <tspan class=\"displacy-tag\" dy=\"2em\" fill=\"currentColor\" x=\"3200\">PRON</tspan>\n",
       "</text>\n",
       "\n",
       "<text class=\"displacy-token\" fill=\"currentColor\" text-anchor=\"middle\" y=\"484.5\">\n",
       "    <tspan class=\"displacy-word\" fill=\"currentColor\" x=\"3375\">'s</tspan>\n",
       "    <tspan class=\"displacy-tag\" dy=\"2em\" fill=\"currentColor\" x=\"3375\">AUX</tspan>\n",
       "</text>\n",
       "\n",
       "<text class=\"displacy-token\" fill=\"currentColor\" text-anchor=\"middle\" y=\"484.5\">\n",
       "    <tspan class=\"displacy-word\" fill=\"currentColor\" x=\"3550\">not</tspan>\n",
       "    <tspan class=\"displacy-tag\" dy=\"2em\" fill=\"currentColor\" x=\"3550\">PART</tspan>\n",
       "</text>\n",
       "\n",
       "<text class=\"displacy-token\" fill=\"currentColor\" text-anchor=\"middle\" y=\"484.5\">\n",
       "    <tspan class=\"displacy-word\" fill=\"currentColor\" x=\"3725\">invited</tspan>\n",
       "    <tspan class=\"displacy-tag\" dy=\"2em\" fill=\"currentColor\" x=\"3725\">VERB</tspan>\n",
       "</text>\n",
       "\n",
       "<text class=\"displacy-token\" fill=\"currentColor\" text-anchor=\"middle\" y=\"484.5\">\n",
       "    <tspan class=\"displacy-word\" fill=\"currentColor\" x=\"3900\">to</tspan>\n",
       "    <tspan class=\"displacy-tag\" dy=\"2em\" fill=\"currentColor\" x=\"3900\">ADP</tspan>\n",
       "</text>\n",
       "\n",
       "<text class=\"displacy-token\" fill=\"currentColor\" text-anchor=\"middle\" y=\"484.5\">\n",
       "    <tspan class=\"displacy-word\" fill=\"currentColor\" x=\"4075\">any</tspan>\n",
       "    <tspan class=\"displacy-tag\" dy=\"2em\" fill=\"currentColor\" x=\"4075\">DET</tspan>\n",
       "</text>\n",
       "\n",
       "<text class=\"displacy-token\" fill=\"currentColor\" text-anchor=\"middle\" y=\"484.5\">\n",
       "    <tspan class=\"displacy-word\" fill=\"currentColor\" x=\"4250\">more</tspan>\n",
       "    <tspan class=\"displacy-tag\" dy=\"2em\" fill=\"currentColor\" x=\"4250\">ADJ</tspan>\n",
       "</text>\n",
       "\n",
       "<text class=\"displacy-token\" fill=\"currentColor\" text-anchor=\"middle\" y=\"484.5\">\n",
       "    <tspan class=\"displacy-word\" fill=\"currentColor\" x=\"4425\">parties.</tspan>\n",
       "    <tspan class=\"displacy-tag\" dy=\"2em\" fill=\"currentColor\" x=\"4425\">NOUN</tspan>\n",
       "</text>\n",
       "\n",
       "<g class=\"displacy-arrow\">\n",
       "    <path class=\"displacy-arc\" id=\"arrow-270f3b51fba248eeb396b4f9668b8ffb-0-0\" stroke-width=\"2px\" d=\"M70,439.5 C70,352.0 205.0,352.0 205.0,439.5\" fill=\"none\" stroke=\"currentColor\"/>\n",
       "    <text dy=\"1.25em\" style=\"font-size: 0.8em; letter-spacing: 1px\">\n",
       "        <textPath xlink:href=\"#arrow-270f3b51fba248eeb396b4f9668b8ffb-0-0\" class=\"displacy-label\" startOffset=\"50%\" side=\"left\" fill=\"currentColor\" text-anchor=\"middle\">nsubj</textPath>\n",
       "    </text>\n",
       "    <path class=\"displacy-arrowhead\" d=\"M70,441.5 L62,429.5 78,429.5\" fill=\"currentColor\"/>\n",
       "</g>\n",
       "\n",
       "<g class=\"displacy-arrow\">\n",
       "    <path class=\"displacy-arc\" id=\"arrow-270f3b51fba248eeb396b4f9668b8ffb-0-1\" stroke-width=\"2px\" d=\"M245,439.5 C245,89.5 1620.0,89.5 1620.0,439.5\" fill=\"none\" stroke=\"currentColor\"/>\n",
       "    <text dy=\"1.25em\" style=\"font-size: 0.8em; letter-spacing: 1px\">\n",
       "        <textPath xlink:href=\"#arrow-270f3b51fba248eeb396b4f9668b8ffb-0-1\" class=\"displacy-label\" startOffset=\"50%\" side=\"left\" fill=\"currentColor\" text-anchor=\"middle\">ccomp</textPath>\n",
       "    </text>\n",
       "    <path class=\"displacy-arrowhead\" d=\"M245,441.5 L237,429.5 253,429.5\" fill=\"currentColor\"/>\n",
       "</g>\n",
       "\n",
       "<g class=\"displacy-arrow\">\n",
       "    <path class=\"displacy-arc\" id=\"arrow-270f3b51fba248eeb396b4f9668b8ffb-0-2\" stroke-width=\"2px\" d=\"M420,439.5 C420,352.0 555.0,352.0 555.0,439.5\" fill=\"none\" stroke=\"currentColor\"/>\n",
       "    <text dy=\"1.25em\" style=\"font-size: 0.8em; letter-spacing: 1px\">\n",
       "        <textPath xlink:href=\"#arrow-270f3b51fba248eeb396b4f9668b8ffb-0-2\" class=\"displacy-label\" startOffset=\"50%\" side=\"left\" fill=\"currentColor\" text-anchor=\"middle\">poss</textPath>\n",
       "    </text>\n",
       "    <path class=\"displacy-arrowhead\" d=\"M420,441.5 L412,429.5 428,429.5\" fill=\"currentColor\"/>\n",
       "</g>\n",
       "\n",
       "<g class=\"displacy-arrow\">\n",
       "    <path class=\"displacy-arc\" id=\"arrow-270f3b51fba248eeb396b4f9668b8ffb-0-3\" stroke-width=\"2px\" d=\"M245,439.5 C245,264.5 560.0,264.5 560.0,439.5\" fill=\"none\" stroke=\"currentColor\"/>\n",
       "    <text dy=\"1.25em\" style=\"font-size: 0.8em; letter-spacing: 1px\">\n",
       "        <textPath xlink:href=\"#arrow-270f3b51fba248eeb396b4f9668b8ffb-0-3\" class=\"displacy-label\" startOffset=\"50%\" side=\"left\" fill=\"currentColor\" text-anchor=\"middle\">dobj</textPath>\n",
       "    </text>\n",
       "    <path class=\"displacy-arrowhead\" d=\"M560.0,441.5 L568.0,429.5 552.0,429.5\" fill=\"currentColor\"/>\n",
       "</g>\n",
       "\n",
       "<g class=\"displacy-arrow\">\n",
       "    <path class=\"displacy-arc\" id=\"arrow-270f3b51fba248eeb396b4f9668b8ffb-0-4\" stroke-width=\"2px\" d=\"M770,439.5 C770,352.0 905.0,352.0 905.0,439.5\" fill=\"none\" stroke=\"currentColor\"/>\n",
       "    <text dy=\"1.25em\" style=\"font-size: 0.8em; letter-spacing: 1px\">\n",
       "        <textPath xlink:href=\"#arrow-270f3b51fba248eeb396b4f9668b8ffb-0-4\" class=\"displacy-label\" startOffset=\"50%\" side=\"left\" fill=\"currentColor\" text-anchor=\"middle\">nsubj</textPath>\n",
       "    </text>\n",
       "    <path class=\"displacy-arrowhead\" d=\"M770,441.5 L762,429.5 778,429.5\" fill=\"currentColor\"/>\n",
       "</g>\n",
       "\n",
       "<g class=\"displacy-arrow\">\n",
       "    <path class=\"displacy-arc\" id=\"arrow-270f3b51fba248eeb396b4f9668b8ffb-0-5\" stroke-width=\"2px\" d=\"M245,439.5 C245,177.0 915.0,177.0 915.0,439.5\" fill=\"none\" stroke=\"currentColor\"/>\n",
       "    <text dy=\"1.25em\" style=\"font-size: 0.8em; letter-spacing: 1px\">\n",
       "        <textPath xlink:href=\"#arrow-270f3b51fba248eeb396b4f9668b8ffb-0-5\" class=\"displacy-label\" startOffset=\"50%\" side=\"left\" fill=\"currentColor\" text-anchor=\"middle\">ccomp</textPath>\n",
       "    </text>\n",
       "    <path class=\"displacy-arrowhead\" d=\"M915.0,441.5 L923.0,429.5 907.0,429.5\" fill=\"currentColor\"/>\n",
       "</g>\n",
       "\n",
       "<g class=\"displacy-arrow\">\n",
       "    <path class=\"displacy-arc\" id=\"arrow-270f3b51fba248eeb396b4f9668b8ffb-0-6\" stroke-width=\"2px\" d=\"M945,439.5 C945,352.0 1080.0,352.0 1080.0,439.5\" fill=\"none\" stroke=\"currentColor\"/>\n",
       "    <text dy=\"1.25em\" style=\"font-size: 0.8em; letter-spacing: 1px\">\n",
       "        <textPath xlink:href=\"#arrow-270f3b51fba248eeb396b4f9668b8ffb-0-6\" class=\"displacy-label\" startOffset=\"50%\" side=\"left\" fill=\"currentColor\" text-anchor=\"middle\">prep</textPath>\n",
       "    </text>\n",
       "    <path class=\"displacy-arrowhead\" d=\"M1080.0,441.5 L1088.0,429.5 1072.0,429.5\" fill=\"currentColor\"/>\n",
       "</g>\n",
       "\n",
       "<g class=\"displacy-arrow\">\n",
       "    <path class=\"displacy-arc\" id=\"arrow-270f3b51fba248eeb396b4f9668b8ffb-0-7\" stroke-width=\"2px\" d=\"M1120,439.5 C1120,352.0 1255.0,352.0 1255.0,439.5\" fill=\"none\" stroke=\"currentColor\"/>\n",
       "    <text dy=\"1.25em\" style=\"font-size: 0.8em; letter-spacing: 1px\">\n",
       "        <textPath xlink:href=\"#arrow-270f3b51fba248eeb396b4f9668b8ffb-0-7\" class=\"displacy-label\" startOffset=\"50%\" side=\"left\" fill=\"currentColor\" text-anchor=\"middle\">pobj</textPath>\n",
       "    </text>\n",
       "    <path class=\"displacy-arrowhead\" d=\"M1255.0,441.5 L1263.0,429.5 1247.0,429.5\" fill=\"currentColor\"/>\n",
       "</g>\n",
       "\n",
       "<g class=\"displacy-arrow\">\n",
       "    <path class=\"displacy-arc\" id=\"arrow-270f3b51fba248eeb396b4f9668b8ffb-0-8\" stroke-width=\"2px\" d=\"M1470,439.5 C1470,352.0 1605.0,352.0 1605.0,439.5\" fill=\"none\" stroke=\"currentColor\"/>\n",
       "    <text dy=\"1.25em\" style=\"font-size: 0.8em; letter-spacing: 1px\">\n",
       "        <textPath xlink:href=\"#arrow-270f3b51fba248eeb396b4f9668b8ffb-0-8\" class=\"displacy-label\" startOffset=\"50%\" side=\"left\" fill=\"currentColor\" text-anchor=\"middle\">nsubj</textPath>\n",
       "    </text>\n",
       "    <path class=\"displacy-arrowhead\" d=\"M1470,441.5 L1462,429.5 1478,429.5\" fill=\"currentColor\"/>\n",
       "</g>\n",
       "\n",
       "<g class=\"displacy-arrow\">\n",
       "    <path class=\"displacy-arc\" id=\"arrow-270f3b51fba248eeb396b4f9668b8ffb-0-9\" stroke-width=\"2px\" d=\"M1820,439.5 C1820,352.0 1955.0,352.0 1955.0,439.5\" fill=\"none\" stroke=\"currentColor\"/>\n",
       "    <text dy=\"1.25em\" style=\"font-size: 0.8em; letter-spacing: 1px\">\n",
       "        <textPath xlink:href=\"#arrow-270f3b51fba248eeb396b4f9668b8ffb-0-9\" class=\"displacy-label\" startOffset=\"50%\" side=\"left\" fill=\"currentColor\" text-anchor=\"middle\">det</textPath>\n",
       "    </text>\n",
       "    <path class=\"displacy-arrowhead\" d=\"M1820,441.5 L1812,429.5 1828,429.5\" fill=\"currentColor\"/>\n",
       "</g>\n",
       "\n",
       "<g class=\"displacy-arrow\">\n",
       "    <path class=\"displacy-arc\" id=\"arrow-270f3b51fba248eeb396b4f9668b8ffb-0-10\" stroke-width=\"2px\" d=\"M1645,439.5 C1645,264.5 1960.0,264.5 1960.0,439.5\" fill=\"none\" stroke=\"currentColor\"/>\n",
       "    <text dy=\"1.25em\" style=\"font-size: 0.8em; letter-spacing: 1px\">\n",
       "        <textPath xlink:href=\"#arrow-270f3b51fba248eeb396b4f9668b8ffb-0-10\" class=\"displacy-label\" startOffset=\"50%\" side=\"left\" fill=\"currentColor\" text-anchor=\"middle\">dobj</textPath>\n",
       "    </text>\n",
       "    <path class=\"displacy-arrowhead\" d=\"M1960.0,441.5 L1968.0,429.5 1952.0,429.5\" fill=\"currentColor\"/>\n",
       "</g>\n",
       "\n",
       "<g class=\"displacy-arrow\">\n",
       "    <path class=\"displacy-arc\" id=\"arrow-270f3b51fba248eeb396b4f9668b8ffb-0-11\" stroke-width=\"2px\" d=\"M2170,439.5 C2170,264.5 2485.0,264.5 2485.0,439.5\" fill=\"none\" stroke=\"currentColor\"/>\n",
       "    <text dy=\"1.25em\" style=\"font-size: 0.8em; letter-spacing: 1px\">\n",
       "        <textPath xlink:href=\"#arrow-270f3b51fba248eeb396b4f9668b8ffb-0-11\" class=\"displacy-label\" startOffset=\"50%\" side=\"left\" fill=\"currentColor\" text-anchor=\"middle\">mark</textPath>\n",
       "    </text>\n",
       "    <path class=\"displacy-arrowhead\" d=\"M2170,441.5 L2162,429.5 2178,429.5\" fill=\"currentColor\"/>\n",
       "</g>\n",
       "\n",
       "<g class=\"displacy-arrow\">\n",
       "    <path class=\"displacy-arc\" id=\"arrow-270f3b51fba248eeb396b4f9668b8ffb-0-12\" stroke-width=\"2px\" d=\"M2345,439.5 C2345,352.0 2480.0,352.0 2480.0,439.5\" fill=\"none\" stroke=\"currentColor\"/>\n",
       "    <text dy=\"1.25em\" style=\"font-size: 0.8em; letter-spacing: 1px\">\n",
       "        <textPath xlink:href=\"#arrow-270f3b51fba248eeb396b4f9668b8ffb-0-12\" class=\"displacy-label\" startOffset=\"50%\" side=\"left\" fill=\"currentColor\" text-anchor=\"middle\">nsubj</textPath>\n",
       "    </text>\n",
       "    <path class=\"displacy-arrowhead\" d=\"M2345,441.5 L2337,429.5 2353,429.5\" fill=\"currentColor\"/>\n",
       "</g>\n",
       "\n",
       "<g class=\"displacy-arrow\">\n",
       "    <path class=\"displacy-arc\" id=\"arrow-270f3b51fba248eeb396b4f9668b8ffb-0-13\" stroke-width=\"2px\" d=\"M1995,439.5 C1995,177.0 2490.0,177.0 2490.0,439.5\" fill=\"none\" stroke=\"currentColor\"/>\n",
       "    <text dy=\"1.25em\" style=\"font-size: 0.8em; letter-spacing: 1px\">\n",
       "        <textPath xlink:href=\"#arrow-270f3b51fba248eeb396b4f9668b8ffb-0-13\" class=\"displacy-label\" startOffset=\"50%\" side=\"left\" fill=\"currentColor\" text-anchor=\"middle\">acl</textPath>\n",
       "    </text>\n",
       "    <path class=\"displacy-arrowhead\" d=\"M2490.0,441.5 L2498.0,429.5 2482.0,429.5\" fill=\"currentColor\"/>\n",
       "</g>\n",
       "\n",
       "<g class=\"displacy-arrow\">\n",
       "    <path class=\"displacy-arc\" id=\"arrow-270f3b51fba248eeb396b4f9668b8ffb-0-14\" stroke-width=\"2px\" d=\"M2695,439.5 C2695,352.0 2830.0,352.0 2830.0,439.5\" fill=\"none\" stroke=\"currentColor\"/>\n",
       "    <text dy=\"1.25em\" style=\"font-size: 0.8em; letter-spacing: 1px\">\n",
       "        <textPath xlink:href=\"#arrow-270f3b51fba248eeb396b4f9668b8ffb-0-14\" class=\"displacy-label\" startOffset=\"50%\" side=\"left\" fill=\"currentColor\" text-anchor=\"middle\">det</textPath>\n",
       "    </text>\n",
       "    <path class=\"displacy-arrowhead\" d=\"M2695,441.5 L2687,429.5 2703,429.5\" fill=\"currentColor\"/>\n",
       "</g>\n",
       "\n",
       "<g class=\"displacy-arrow\">\n",
       "    <path class=\"displacy-arc\" id=\"arrow-270f3b51fba248eeb396b4f9668b8ffb-0-15\" stroke-width=\"2px\" d=\"M2520,439.5 C2520,264.5 2835.0,264.5 2835.0,439.5\" fill=\"none\" stroke=\"currentColor\"/>\n",
       "    <text dy=\"1.25em\" style=\"font-size: 0.8em; letter-spacing: 1px\">\n",
       "        <textPath xlink:href=\"#arrow-270f3b51fba248eeb396b4f9668b8ffb-0-15\" class=\"displacy-label\" startOffset=\"50%\" side=\"left\" fill=\"currentColor\" text-anchor=\"middle\">attr</textPath>\n",
       "    </text>\n",
       "    <path class=\"displacy-arrowhead\" d=\"M2835.0,441.5 L2843.0,429.5 2827.0,429.5\" fill=\"currentColor\"/>\n",
       "</g>\n",
       "\n",
       "<g class=\"displacy-arrow\">\n",
       "    <path class=\"displacy-arc\" id=\"arrow-270f3b51fba248eeb396b4f9668b8ffb-0-16\" stroke-width=\"2px\" d=\"M1645,439.5 C1645,89.5 3020.0,89.5 3020.0,439.5\" fill=\"none\" stroke=\"currentColor\"/>\n",
       "    <text dy=\"1.25em\" style=\"font-size: 0.8em; letter-spacing: 1px\">\n",
       "        <textPath xlink:href=\"#arrow-270f3b51fba248eeb396b4f9668b8ffb-0-16\" class=\"displacy-label\" startOffset=\"50%\" side=\"left\" fill=\"currentColor\" text-anchor=\"middle\">cc</textPath>\n",
       "    </text>\n",
       "    <path class=\"displacy-arrowhead\" d=\"M3020.0,441.5 L3028.0,429.5 3012.0,429.5\" fill=\"currentColor\"/>\n",
       "</g>\n",
       "\n",
       "<g class=\"displacy-arrow\">\n",
       "    <path class=\"displacy-arc\" id=\"arrow-270f3b51fba248eeb396b4f9668b8ffb-0-17\" stroke-width=\"2px\" d=\"M3220,439.5 C3220,177.0 3715.0,177.0 3715.0,439.5\" fill=\"none\" stroke=\"currentColor\"/>\n",
       "    <text dy=\"1.25em\" style=\"font-size: 0.8em; letter-spacing: 1px\">\n",
       "        <textPath xlink:href=\"#arrow-270f3b51fba248eeb396b4f9668b8ffb-0-17\" class=\"displacy-label\" startOffset=\"50%\" side=\"left\" fill=\"currentColor\" text-anchor=\"middle\">nsubjpass</textPath>\n",
       "    </text>\n",
       "    <path class=\"displacy-arrowhead\" d=\"M3220,441.5 L3212,429.5 3228,429.5\" fill=\"currentColor\"/>\n",
       "</g>\n",
       "\n",
       "<g class=\"displacy-arrow\">\n",
       "    <path class=\"displacy-arc\" id=\"arrow-270f3b51fba248eeb396b4f9668b8ffb-0-18\" stroke-width=\"2px\" d=\"M3395,439.5 C3395,264.5 3710.0,264.5 3710.0,439.5\" fill=\"none\" stroke=\"currentColor\"/>\n",
       "    <text dy=\"1.25em\" style=\"font-size: 0.8em; letter-spacing: 1px\">\n",
       "        <textPath xlink:href=\"#arrow-270f3b51fba248eeb396b4f9668b8ffb-0-18\" class=\"displacy-label\" startOffset=\"50%\" side=\"left\" fill=\"currentColor\" text-anchor=\"middle\">auxpass</textPath>\n",
       "    </text>\n",
       "    <path class=\"displacy-arrowhead\" d=\"M3395,441.5 L3387,429.5 3403,429.5\" fill=\"currentColor\"/>\n",
       "</g>\n",
       "\n",
       "<g class=\"displacy-arrow\">\n",
       "    <path class=\"displacy-arc\" id=\"arrow-270f3b51fba248eeb396b4f9668b8ffb-0-19\" stroke-width=\"2px\" d=\"M3570,439.5 C3570,352.0 3705.0,352.0 3705.0,439.5\" fill=\"none\" stroke=\"currentColor\"/>\n",
       "    <text dy=\"1.25em\" style=\"font-size: 0.8em; letter-spacing: 1px\">\n",
       "        <textPath xlink:href=\"#arrow-270f3b51fba248eeb396b4f9668b8ffb-0-19\" class=\"displacy-label\" startOffset=\"50%\" side=\"left\" fill=\"currentColor\" text-anchor=\"middle\">neg</textPath>\n",
       "    </text>\n",
       "    <path class=\"displacy-arrowhead\" d=\"M3570,441.5 L3562,429.5 3578,429.5\" fill=\"currentColor\"/>\n",
       "</g>\n",
       "\n",
       "<g class=\"displacy-arrow\">\n",
       "    <path class=\"displacy-arc\" id=\"arrow-270f3b51fba248eeb396b4f9668b8ffb-0-20\" stroke-width=\"2px\" d=\"M1645,439.5 C1645,2.0 3725.0,2.0 3725.0,439.5\" fill=\"none\" stroke=\"currentColor\"/>\n",
       "    <text dy=\"1.25em\" style=\"font-size: 0.8em; letter-spacing: 1px\">\n",
       "        <textPath xlink:href=\"#arrow-270f3b51fba248eeb396b4f9668b8ffb-0-20\" class=\"displacy-label\" startOffset=\"50%\" side=\"left\" fill=\"currentColor\" text-anchor=\"middle\">conj</textPath>\n",
       "    </text>\n",
       "    <path class=\"displacy-arrowhead\" d=\"M3725.0,441.5 L3733.0,429.5 3717.0,429.5\" fill=\"currentColor\"/>\n",
       "</g>\n",
       "\n",
       "<g class=\"displacy-arrow\">\n",
       "    <path class=\"displacy-arc\" id=\"arrow-270f3b51fba248eeb396b4f9668b8ffb-0-21\" stroke-width=\"2px\" d=\"M3745,439.5 C3745,352.0 3880.0,352.0 3880.0,439.5\" fill=\"none\" stroke=\"currentColor\"/>\n",
       "    <text dy=\"1.25em\" style=\"font-size: 0.8em; letter-spacing: 1px\">\n",
       "        <textPath xlink:href=\"#arrow-270f3b51fba248eeb396b4f9668b8ffb-0-21\" class=\"displacy-label\" startOffset=\"50%\" side=\"left\" fill=\"currentColor\" text-anchor=\"middle\">prep</textPath>\n",
       "    </text>\n",
       "    <path class=\"displacy-arrowhead\" d=\"M3880.0,441.5 L3888.0,429.5 3872.0,429.5\" fill=\"currentColor\"/>\n",
       "</g>\n",
       "\n",
       "<g class=\"displacy-arrow\">\n",
       "    <path class=\"displacy-arc\" id=\"arrow-270f3b51fba248eeb396b4f9668b8ffb-0-22\" stroke-width=\"2px\" d=\"M4095,439.5 C4095,264.5 4410.0,264.5 4410.0,439.5\" fill=\"none\" stroke=\"currentColor\"/>\n",
       "    <text dy=\"1.25em\" style=\"font-size: 0.8em; letter-spacing: 1px\">\n",
       "        <textPath xlink:href=\"#arrow-270f3b51fba248eeb396b4f9668b8ffb-0-22\" class=\"displacy-label\" startOffset=\"50%\" side=\"left\" fill=\"currentColor\" text-anchor=\"middle\">det</textPath>\n",
       "    </text>\n",
       "    <path class=\"displacy-arrowhead\" d=\"M4095,441.5 L4087,429.5 4103,429.5\" fill=\"currentColor\"/>\n",
       "</g>\n",
       "\n",
       "<g class=\"displacy-arrow\">\n",
       "    <path class=\"displacy-arc\" id=\"arrow-270f3b51fba248eeb396b4f9668b8ffb-0-23\" stroke-width=\"2px\" d=\"M4270,439.5 C4270,352.0 4405.0,352.0 4405.0,439.5\" fill=\"none\" stroke=\"currentColor\"/>\n",
       "    <text dy=\"1.25em\" style=\"font-size: 0.8em; letter-spacing: 1px\">\n",
       "        <textPath xlink:href=\"#arrow-270f3b51fba248eeb396b4f9668b8ffb-0-23\" class=\"displacy-label\" startOffset=\"50%\" side=\"left\" fill=\"currentColor\" text-anchor=\"middle\">amod</textPath>\n",
       "    </text>\n",
       "    <path class=\"displacy-arrowhead\" d=\"M4270,441.5 L4262,429.5 4278,429.5\" fill=\"currentColor\"/>\n",
       "</g>\n",
       "\n",
       "<g class=\"displacy-arrow\">\n",
       "    <path class=\"displacy-arc\" id=\"arrow-270f3b51fba248eeb396b4f9668b8ffb-0-24\" stroke-width=\"2px\" d=\"M3920,439.5 C3920,177.0 4415.0,177.0 4415.0,439.5\" fill=\"none\" stroke=\"currentColor\"/>\n",
       "    <text dy=\"1.25em\" style=\"font-size: 0.8em; letter-spacing: 1px\">\n",
       "        <textPath xlink:href=\"#arrow-270f3b51fba248eeb396b4f9668b8ffb-0-24\" class=\"displacy-label\" startOffset=\"50%\" side=\"left\" fill=\"currentColor\" text-anchor=\"middle\">pobj</textPath>\n",
       "    </text>\n",
       "    <path class=\"displacy-arrowhead\" d=\"M4415.0,441.5 L4423.0,429.5 4407.0,429.5\" fill=\"currentColor\"/>\n",
       "</g>\n",
       "</svg></span>"
      ],
      "text/plain": [
       "<IPython.core.display.HTML object>"
      ]
     },
     "metadata": {},
     "output_type": "display_data"
    }
   ],
   "source": [
    "import spacy\n",
    "from spacy import displacy\n",
    "\n",
    "nlp = spacy.load(\"en_core_web_sm\")\n",
    "doc = nlp(\"Lana tells her friends what happened to her, they spread the word that Clark is a creep, and he's not invited to any more parties.\")\n",
    "displacy.render(doc, style='dep')\n",
    "# for token in doc:\n",
    "#     if token.pos_ == \"NOUN\":\n",
    "#         print(f\"noun={token.text}\")\n",
    "#         for child in token.children:\n",
    "#             print(child.text, child.dep_)"
   ]
  },
  {
   "cell_type": "code",
   "execution_count": 1,
   "metadata": {},
   "outputs": [
    {
     "name": "stderr",
     "output_type": "stream",
     "text": [
      "/Users/mismayil/.pyenv/versions/3.9.7/envs/op/lib/python3.9/site-packages/tqdm/auto.py:22: TqdmWarning: IProgress not found. Please update jupyter and ipywidgets. See https://ipywidgets.readthedocs.io/en/stable/user_install.html\n",
      "  from .autonotebook import tqdm as notebook_tqdm\n"
     ]
    },
    {
     "name": "stdout",
     "output_type": "stream",
     "text": [
      "['danger', 'others']\n"
     ]
    }
   ],
   "source": [
    "from utils import get_phrases\n",
    "\n",
    "print(get_phrases(\"You should help others when they're in danger.\", \"np\"))"
   ]
  },
  {
   "cell_type": "code",
   "execution_count": 1,
   "metadata": {},
   "outputs": [
    {
     "name": "stderr",
     "output_type": "stream",
     "text": [
      "/Users/mismayil/.pyenv/versions/3.9.7/envs/op/lib/python3.9/site-packages/tqdm/auto.py:22: TqdmWarning: IProgress not found. Please update jupyter and ipywidgets. See https://ipywidgets.readthedocs.io/en/stable/user_install.html\n",
      "  from .autonotebook import tqdm as notebook_tqdm\n"
     ]
    },
    {
     "ename": "ImportError",
     "evalue": "cannot import name 'get_noun_phrases' from 'utils' (/Users/mismayil/Desktop/EPFL/F2022/OP/optional-project/utils.py)",
     "output_type": "error",
     "traceback": [
      "\u001b[0;31m---------------------------------------------------------------------------\u001b[0m",
      "\u001b[0;31mImportError\u001b[0m                               Traceback (most recent call last)",
      "Cell \u001b[0;32mIn [1], line 2\u001b[0m\n\u001b[1;32m      1\u001b[0m \u001b[39mimport\u001b[39;00m \u001b[39mspacy\u001b[39;00m\n\u001b[0;32m----> 2\u001b[0m \u001b[39mfrom\u001b[39;00m \u001b[39mutils\u001b[39;00m \u001b[39mimport\u001b[39;00m get_noun_phrases\n\u001b[1;32m      4\u001b[0m nlp \u001b[39m=\u001b[39m spacy\u001b[39m.\u001b[39mload(\u001b[39m\"\u001b[39m\u001b[39men_core_web_sm\u001b[39m\u001b[39m\"\u001b[39m)\n\u001b[1;32m      5\u001b[0m doc \u001b[39m=\u001b[39m nlp(\u001b[39m\"\u001b[39m\u001b[39mYou should help others when they\u001b[39m\u001b[39m'\u001b[39m\u001b[39mre in danger.\u001b[39m\u001b[39m\"\u001b[39m)\n",
      "\u001b[0;31mImportError\u001b[0m: cannot import name 'get_noun_phrases' from 'utils' (/Users/mismayil/Desktop/EPFL/F2022/OP/optional-project/utils.py)"
     ]
    }
   ],
   "source": [
    "import spacy\n",
    "from utils import get_phrases\n",
    "\n",
    "nlp = spacy.load(\"en_core_web_sm\")\n",
    "doc = nlp(\"You should help others when they're in danger.\")\n",
    "\n",
    "for token in doc:\n",
    "    print(get_phrases(token))"
   ]
  },
  {
   "cell_type": "code",
   "execution_count": 4,
   "metadata": {},
   "outputs": [],
   "source": [
    "from utils import read_jsonl\n",
    "\n",
    "data = read_jsonl(\"data/contrastive_moral_stories/anti-ms-with-prefix/train.jsonl\")"
   ]
  },
  {
   "cell_type": "code",
   "execution_count": 5,
   "metadata": {},
   "outputs": [],
   "source": [
    "from collections import Counter\n",
    "\n",
    "prefix_counter = Counter()\n",
    "\n",
    "for sample in data:\n",
    "    prefix_counter[sample[\"rot-judgment\"]] += 1"
   ]
  },
  {
   "cell_type": "code",
   "execution_count": 8,
   "metadata": {},
   "outputs": [
    {
     "data": {
      "text/plain": [
       "[(\"shouldn't\", 1924),\n",
       " (\"It's wrong\", 1776),\n",
       " (\"You shouldn't\", 1564),\n",
       " (\"It's good\", 1310),\n",
       " (\"it's wrong\", 1272),\n",
       " (\"It's bad\", 978),\n",
       " (\"It's rude\", 862),\n",
       " (\"it's good\", 730),\n",
       " (\"it's rude\", 582),\n",
       " (\"it's bad\", 494),\n",
       " (\"you shouldn't\", 426),\n",
       " (\"It's not okay\", 342),\n",
       " ('It is wrong', 322),\n",
       " ('It is rude', 264),\n",
       " ('wrong', 262),\n",
       " ('should', 254),\n",
       " ('It is good', 222),\n",
       " ('You should', 202),\n",
       " ('It is bad', 200),\n",
       " ('good', 184)]"
      ]
     },
     "execution_count": 8,
     "metadata": {},
     "output_type": "execute_result"
    }
   ],
   "source": [
    "prefix_counter.most_common(20)"
   ]
  },
  {
   "cell_type": "code",
   "execution_count": 4,
   "metadata": {},
   "outputs": [
    {
     "data": {
      "text/plain": [
       "(['sort', 'form', 'variety', 'genial', 'tolerant'], ['unkind'])"
      ]
     },
     "execution_count": 4,
     "metadata": {},
     "output_type": "execute_result"
    }
   ],
   "source": [
    "from utils import get_synonyms_antonyms\n",
    "\n",
    "get_synonyms_antonyms(\"kind\", top=10)"
   ]
  },
  {
   "cell_type": "code",
   "execution_count": 6,
   "metadata": {},
   "outputs": [
    {
     "name": "stdout",
     "output_type": "stream",
     "text": [
      "You\n",
      "should\n",
      "n't\n",
      "say\n",
      "bad\n",
      "things\n",
      "about\n",
      "Jews\n",
      ".\n"
     ]
    }
   ],
   "source": [
    "import spacy\n",
    "\n",
    "nlp = spacy.load(\"en_core_web_sm\")\n",
    "doc = nlp(\"You shouldn't say bad things about Jews.\")\n",
    "\n",
    "for token in doc:\n",
    "    print(token.text)"
   ]
  },
  {
   "cell_type": "code",
   "execution_count": 20,
   "metadata": {},
   "outputs": [],
   "source": [
    "from utils import read_json\n",
    "from collections import Counter\n",
    "\n",
    "dev = read_json(\"data/moral_stories/norm-actions+context+consequences/norm_distance/critic_train_prep.json\")\n",
    "prefixes = Counter()\n",
    "\n",
    "for s in dev:\n",
    "    pred = s[\"norm\"].lower()\n",
    "    if pred.startswith(\"it's\"):\n",
    "        prefixes[\" \".join(pred.split(\" \")[:2])] += 1\n",
    "    else:\n",
    "        prefixes[\" \".join(pred.split(\" \")[:3])] += 1"
   ]
  },
  {
   "cell_type": "code",
   "execution_count": 21,
   "metadata": {},
   "outputs": [
    {
     "data": {
      "text/plain": [
       "[(\"it's wrong\", 1564),\n",
       " (\"it's good\", 1082),\n",
       " (\"it's bad\", 763),\n",
       " (\"it's rude\", 735),\n",
       " (\"it's not\", 364),\n",
       " ('it is wrong', 338),\n",
       " ('it is rude', 272),\n",
       " ('you should not', 222),\n",
       " ('it is good', 220),\n",
       " ('it is bad', 196),\n",
       " (\"it's nice\", 121),\n",
       " (\"you shouldn't be\", 114),\n",
       " ('you should be', 71),\n",
       " (\"it's hurtful\", 68),\n",
       " (\"you shouldn't make\", 64),\n",
       " (\"you shouldn't let\", 64),\n",
       " (\"it's frowned\", 61),\n",
       " (\"it's kind\", 57),\n",
       " (\"you shouldn't get\", 56),\n",
       " (\"you shouldn't take\", 55)]"
      ]
     },
     "execution_count": 21,
     "metadata": {},
     "output_type": "execute_result"
    }
   ],
   "source": [
    "prefixes.most_common(20)"
   ]
  }
 ],
 "metadata": {
  "kernelspec": {
   "display_name": "op",
   "language": "python",
   "name": "python3"
  },
  "language_info": {
   "codemirror_mode": {
    "name": "ipython",
    "version": 3
   },
   "file_extension": ".py",
   "mimetype": "text/x-python",
   "name": "python",
   "nbconvert_exporter": "python",
   "pygments_lexer": "ipython3",
   "version": "3.10.8"
  },
  "orig_nbformat": 4,
  "vscode": {
   "interpreter": {
    "hash": "50e11841bc3a56215f9c52886f51cf1ab4e96b3e21aa6f4b4ad781001416d5b4"
   }
  }
 },
 "nbformat": 4,
 "nbformat_minor": 2
}
