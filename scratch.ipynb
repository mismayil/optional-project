{
 "cells": [
  {
   "cell_type": "code",
   "execution_count": 1,
   "metadata": {},
   "outputs": [],
   "source": [
    "import pandas as pd\n",
    "\n",
    "glucose = pd.read_csv(\"GLUCOSE_training_data_final.csv\")"
   ]
  },
  {
   "cell_type": "code",
   "execution_count": 2,
   "metadata": {},
   "outputs": [
    {
     "data": {
      "text/html": [
       "<div>\n",
       "<style scoped>\n",
       "    .dataframe tbody tr th:only-of-type {\n",
       "        vertical-align: middle;\n",
       "    }\n",
       "\n",
       "    .dataframe tbody tr th {\n",
       "        vertical-align: top;\n",
       "    }\n",
       "\n",
       "    .dataframe thead th {\n",
       "        text-align: right;\n",
       "    }\n",
       "</style>\n",
       "<table border=\"1\" class=\"dataframe\">\n",
       "  <thead>\n",
       "    <tr style=\"text-align: right;\">\n",
       "      <th></th>\n",
       "      <th>experiment_id</th>\n",
       "      <th>story_id</th>\n",
       "      <th>worker_id</th>\n",
       "      <th>submission_time_normalized</th>\n",
       "      <th>worker_quality_rating</th>\n",
       "      <th>selected_sentence_index</th>\n",
       "      <th>story</th>\n",
       "      <th>selected_sentence</th>\n",
       "      <th>1_specificNL</th>\n",
       "      <th>1_specificStructured</th>\n",
       "      <th>...</th>\n",
       "      <th>8_generalStructured</th>\n",
       "      <th>9_specificNL</th>\n",
       "      <th>9_specificStructured</th>\n",
       "      <th>9_generalNL</th>\n",
       "      <th>9_generalStructured</th>\n",
       "      <th>10_specificNL</th>\n",
       "      <th>10_specificStructured</th>\n",
       "      <th>10_generalNL</th>\n",
       "      <th>10_generalStructured</th>\n",
       "      <th>number_filled_in</th>\n",
       "    </tr>\n",
       "  </thead>\n",
       "  <tbody>\n",
       "    <tr>\n",
       "      <th>0</th>\n",
       "      <td>e56c7c3e-4660-40fb-80d0-052d566d676a__4</td>\n",
       "      <td>e56c7c3e-4660-40fb-80d0-052d566d676a</td>\n",
       "      <td>19</td>\n",
       "      <td>20190930</td>\n",
       "      <td>3</td>\n",
       "      <td>4</td>\n",
       "      <td>It was bedtime at our house. Two of the three ...</td>\n",
       "      <td>Finally he becomes tired and falls asleep.</td>\n",
       "      <td>The third kid continues to  get out of bed and...</td>\n",
       "      <td>{The third kid}_[subject] {continues}_[verb] {...</td>\n",
       "      <td>...</td>\n",
       "      <td>escaped</td>\n",
       "      <td>escaped</td>\n",
       "      <td>escaped</td>\n",
       "      <td>escaped</td>\n",
       "      <td>escaped</td>\n",
       "      <td>escaped</td>\n",
       "      <td>escaped</td>\n",
       "      <td>escaped</td>\n",
       "      <td>escaped</td>\n",
       "      <td>2</td>\n",
       "    </tr>\n",
       "    <tr>\n",
       "      <th>1</th>\n",
       "      <td>b03eba12-db74-4fce-a3cc-c743948ef8c2__4</td>\n",
       "      <td>b03eba12-db74-4fce-a3cc-c743948ef8c2</td>\n",
       "      <td>2</td>\n",
       "      <td>20200115</td>\n",
       "      <td>1</td>\n",
       "      <td>4</td>\n",
       "      <td>Sara was invited to the football game. She sho...</td>\n",
       "      <td>At the end of the game, her team won.</td>\n",
       "      <td>Sara  goes  to  a football game  &gt;Causes/Enabl...</td>\n",
       "      <td>{Sara }_[subject] {goes }_[verb] {to }_[prepos...</td>\n",
       "      <td>...</td>\n",
       "      <td>escaped</td>\n",
       "      <td>escaped</td>\n",
       "      <td>escaped</td>\n",
       "      <td>escaped</td>\n",
       "      <td>escaped</td>\n",
       "      <td>escaped</td>\n",
       "      <td>escaped</td>\n",
       "      <td>escaped</td>\n",
       "      <td>escaped</td>\n",
       "      <td>3</td>\n",
       "    </tr>\n",
       "    <tr>\n",
       "      <th>2</th>\n",
       "      <td>7e7aeb03-12d8-4f02-9097-c3273a692f20__3</td>\n",
       "      <td>7e7aeb03-12d8-4f02-9097-c3273a692f20</td>\n",
       "      <td>60</td>\n",
       "      <td>20191230</td>\n",
       "      <td>1</td>\n",
       "      <td>3</td>\n",
       "      <td>Kyle was leaving to pick up his sister from wo...</td>\n",
       "      <td>He decided to check his dirty clothes basket.</td>\n",
       "      <td>Kyle realized his keys were missing &gt;Causes/En...</td>\n",
       "      <td>{Kyle}_[subject] {realized}_[verb] {his keys}_...</td>\n",
       "      <td>...</td>\n",
       "      <td>escaped</td>\n",
       "      <td>escaped</td>\n",
       "      <td>escaped</td>\n",
       "      <td>escaped</td>\n",
       "      <td>escaped</td>\n",
       "      <td>He decided to check his dirty clothes basket f...</td>\n",
       "      <td>{He}_[subject] {decided to check}_[verb] {his ...</td>\n",
       "      <td>Someone_A decided to check Something_A (that h...</td>\n",
       "      <td>{Someone_A}_[subject] {decided to check}_[verb...</td>\n",
       "      <td>5</td>\n",
       "    </tr>\n",
       "    <tr>\n",
       "      <th>3</th>\n",
       "      <td>a2bb14bd-9094-4dcc-93a5-bb93b1c308a5__4</td>\n",
       "      <td>a2bb14bd-9094-4dcc-93a5-bb93b1c308a5</td>\n",
       "      <td>142</td>\n",
       "      <td>20191203</td>\n",
       "      <td>2</td>\n",
       "      <td>4</td>\n",
       "      <td>MY DAUGHTER HAD TO DO A SCIENCE PROJECT. SO SH...</td>\n",
       "      <td>SO CHEWING GUM CAN HELP WITH YOUR CONCENTRATIO...</td>\n",
       "      <td>My daughter has  a  science project &gt;Causes/En...</td>\n",
       "      <td>{My daughter}_[subject] {has }_[verb] {a }_[pr...</td>\n",
       "      <td>...</td>\n",
       "      <td>escaped</td>\n",
       "      <td>Chewing gum can help with concentration &gt;Resul...</td>\n",
       "      <td>{Chewing gum}_[subject] {can help}_[verb] {wit...</td>\n",
       "      <td>Chewing gum can help with concentration &gt;Resul...</td>\n",
       "      <td>{Chewing gum}_[subject] {can help}_[verb] {wit...</td>\n",
       "      <td>escaped</td>\n",
       "      <td>escaped</td>\n",
       "      <td>escaped</td>\n",
       "      <td>escaped</td>\n",
       "      <td>7</td>\n",
       "    </tr>\n",
       "    <tr>\n",
       "      <th>4</th>\n",
       "      <td>b8c68631-fa42-40a0-93c7-6739402e2038__4</td>\n",
       "      <td>b8c68631-fa42-40a0-93c7-6739402e2038</td>\n",
       "      <td>19</td>\n",
       "      <td>20191213</td>\n",
       "      <td>3</td>\n",
       "      <td>4</td>\n",
       "      <td>Vivian couldn't stop thinking about that man s...</td>\n",
       "      <td>Vivian spent the rest of her life chasing that...</td>\n",
       "      <td>escaped</td>\n",
       "      <td>escaped</td>\n",
       "      <td>...</td>\n",
       "      <td>escaped</td>\n",
       "      <td>escaped</td>\n",
       "      <td>escaped</td>\n",
       "      <td>escaped</td>\n",
       "      <td>escaped</td>\n",
       "      <td>escaped</td>\n",
       "      <td>escaped</td>\n",
       "      <td>escaped</td>\n",
       "      <td>escaped</td>\n",
       "      <td>2</td>\n",
       "    </tr>\n",
       "  </tbody>\n",
       "</table>\n",
       "<p>5 rows × 49 columns</p>\n",
       "</div>"
      ],
      "text/plain": [
       "                             experiment_id  \\\n",
       "0  e56c7c3e-4660-40fb-80d0-052d566d676a__4   \n",
       "1  b03eba12-db74-4fce-a3cc-c743948ef8c2__4   \n",
       "2  7e7aeb03-12d8-4f02-9097-c3273a692f20__3   \n",
       "3  a2bb14bd-9094-4dcc-93a5-bb93b1c308a5__4   \n",
       "4  b8c68631-fa42-40a0-93c7-6739402e2038__4   \n",
       "\n",
       "                               story_id  worker_id  \\\n",
       "0  e56c7c3e-4660-40fb-80d0-052d566d676a         19   \n",
       "1  b03eba12-db74-4fce-a3cc-c743948ef8c2          2   \n",
       "2  7e7aeb03-12d8-4f02-9097-c3273a692f20         60   \n",
       "3  a2bb14bd-9094-4dcc-93a5-bb93b1c308a5        142   \n",
       "4  b8c68631-fa42-40a0-93c7-6739402e2038         19   \n",
       "\n",
       "   submission_time_normalized  worker_quality_rating  selected_sentence_index  \\\n",
       "0                    20190930                      3                        4   \n",
       "1                    20200115                      1                        4   \n",
       "2                    20191230                      1                        3   \n",
       "3                    20191203                      2                        4   \n",
       "4                    20191213                      3                        4   \n",
       "\n",
       "                                               story  \\\n",
       "0  It was bedtime at our house. Two of the three ...   \n",
       "1  Sara was invited to the football game. She sho...   \n",
       "2  Kyle was leaving to pick up his sister from wo...   \n",
       "3  MY DAUGHTER HAD TO DO A SCIENCE PROJECT. SO SH...   \n",
       "4  Vivian couldn't stop thinking about that man s...   \n",
       "\n",
       "                                   selected_sentence  \\\n",
       "0         Finally he becomes tired and falls asleep.   \n",
       "1              At the end of the game, her team won.   \n",
       "2      He decided to check his dirty clothes basket.   \n",
       "3  SO CHEWING GUM CAN HELP WITH YOUR CONCENTRATIO...   \n",
       "4  Vivian spent the rest of her life chasing that...   \n",
       "\n",
       "                                        1_specificNL  \\\n",
       "0  The third kid continues to  get out of bed and...   \n",
       "1  Sara  goes  to  a football game  >Causes/Enabl...   \n",
       "2  Kyle realized his keys were missing >Causes/En...   \n",
       "3  My daughter has  a  science project >Causes/En...   \n",
       "4                                            escaped   \n",
       "\n",
       "                                1_specificStructured  ... 8_generalStructured  \\\n",
       "0  {The third kid}_[subject] {continues}_[verb] {...  ...             escaped   \n",
       "1  {Sara }_[subject] {goes }_[verb] {to }_[prepos...  ...             escaped   \n",
       "2  {Kyle}_[subject] {realized}_[verb] {his keys}_...  ...             escaped   \n",
       "3  {My daughter}_[subject] {has }_[verb] {a }_[pr...  ...             escaped   \n",
       "4                                            escaped  ...             escaped   \n",
       "\n",
       "                                        9_specificNL  \\\n",
       "0                                            escaped   \n",
       "1                                            escaped   \n",
       "2                                            escaped   \n",
       "3  Chewing gum can help with concentration >Resul...   \n",
       "4                                            escaped   \n",
       "\n",
       "                                9_specificStructured  \\\n",
       "0                                            escaped   \n",
       "1                                            escaped   \n",
       "2                                            escaped   \n",
       "3  {Chewing gum}_[subject] {can help}_[verb] {wit...   \n",
       "4                                            escaped   \n",
       "\n",
       "                                         9_generalNL  \\\n",
       "0                                            escaped   \n",
       "1                                            escaped   \n",
       "2                                            escaped   \n",
       "3  Chewing gum can help with concentration >Resul...   \n",
       "4                                            escaped   \n",
       "\n",
       "                                 9_generalStructured  \\\n",
       "0                                            escaped   \n",
       "1                                            escaped   \n",
       "2                                            escaped   \n",
       "3  {Chewing gum}_[subject] {can help}_[verb] {wit...   \n",
       "4                                            escaped   \n",
       "\n",
       "                                       10_specificNL  \\\n",
       "0                                            escaped   \n",
       "1                                            escaped   \n",
       "2  He decided to check his dirty clothes basket f...   \n",
       "3                                            escaped   \n",
       "4                                            escaped   \n",
       "\n",
       "                               10_specificStructured  \\\n",
       "0                                            escaped   \n",
       "1                                            escaped   \n",
       "2  {He}_[subject] {decided to check}_[verb] {his ...   \n",
       "3                                            escaped   \n",
       "4                                            escaped   \n",
       "\n",
       "                                        10_generalNL  \\\n",
       "0                                            escaped   \n",
       "1                                            escaped   \n",
       "2  Someone_A decided to check Something_A (that h...   \n",
       "3                                            escaped   \n",
       "4                                            escaped   \n",
       "\n",
       "                                10_generalStructured number_filled_in  \n",
       "0                                            escaped                2  \n",
       "1                                            escaped                3  \n",
       "2  {Someone_A}_[subject] {decided to check}_[verb...                5  \n",
       "3                                            escaped                7  \n",
       "4                                            escaped                2  \n",
       "\n",
       "[5 rows x 49 columns]"
      ]
     },
     "execution_count": 2,
     "metadata": {},
     "output_type": "execute_result"
    }
   ],
   "source": [
    "glucose.head()"
   ]
  },
  {
   "cell_type": "code",
   "execution_count": 3,
   "metadata": {},
   "outputs": [
    {
     "data": {
      "text/plain": [
       "Index(['experiment_id', 'story_id', 'worker_id', 'submission_time_normalized',\n",
       "       'worker_quality_rating', 'selected_sentence_index', 'story',\n",
       "       'selected_sentence', '1_specificNL', '1_specificStructured',\n",
       "       '1_generalNL', '1_generalStructured', '2_specificNL',\n",
       "       '2_specificStructured', '2_generalNL', '2_generalStructured',\n",
       "       '3_specificNL', '3_specificStructured', '3_generalNL',\n",
       "       '3_generalStructured', '4_specificNL', '4_specificStructured',\n",
       "       '4_generalNL', '4_generalStructured', '5_specificNL',\n",
       "       '5_specificStructured', '5_generalNL', '5_generalStructured',\n",
       "       '6_specificNL', '6_specificStructured', '6_generalNL',\n",
       "       '6_generalStructured', '7_specificNL', '7_specificStructured',\n",
       "       '7_generalNL', '7_generalStructured', '8_specificNL',\n",
       "       '8_specificStructured', '8_generalNL', '8_generalStructured',\n",
       "       '9_specificNL', '9_specificStructured', '9_generalNL',\n",
       "       '9_generalStructured', '10_specificNL', '10_specificStructured',\n",
       "       '10_generalNL', '10_generalStructured', 'number_filled_in'],\n",
       "      dtype='object')"
      ]
     },
     "execution_count": 3,
     "metadata": {},
     "output_type": "execute_result"
    }
   ],
   "source": [
    "glucose.columns"
   ]
  },
  {
   "cell_type": "code",
   "execution_count": 4,
   "metadata": {},
   "outputs": [],
   "source": [
    "sample = glucose.sample(1)"
   ]
  },
  {
   "cell_type": "code",
   "execution_count": 8,
   "metadata": {},
   "outputs": [
    {
     "data": {
      "text/plain": [
       "'Alex did not like birthday cake. His girlfriend knew that. His favorite sweet was cookies. So she make him a cookie cake. Alex was so surprised and loved it.'"
      ]
     },
     "execution_count": 8,
     "metadata": {},
     "output_type": "execute_result"
    }
   ],
   "source": [
    "sample.story.item()"
   ]
  },
  {
   "cell_type": "code",
   "execution_count": 9,
   "metadata": {},
   "outputs": [
    {
     "data": {
      "text/plain": [
       "'Alex was so surprised and loved it.'"
      ]
     },
     "execution_count": 9,
     "metadata": {},
     "output_type": "execute_result"
    }
   ],
   "source": [
    "sample.selected_sentence.item()"
   ]
  },
  {
   "cell_type": "code",
   "execution_count": 12,
   "metadata": {},
   "outputs": [
    {
     "name": "stdout",
     "output_type": "stream",
     "text": [
      "1_specificNL: Alex gets a cookie cake >Causes/Enables> Alex loves it\n",
      "1_specificStructured: {Alex}_[subject] {gets}_[verb] {a cookie cake}_[object1] >Causes/Enables> {Alex}_[subject] {loves}_[verb] {it}_[object1]\n",
      "1_generalNL: Someone_A gets Something_A >Causes/Enables> Someone_A loves Something_A\n",
      "1_generalStructured: {Someone_A}_[subject] {gets}_[verb] {Something_A}_[object1] >Causes/Enables> {Someone_A}_[subject] {loves}_[verb] {Something_A}_[object1]\n",
      "2_specificNL: escaped\n",
      "2_specificStructured: escaped\n",
      "2_generalNL: escaped\n",
      "2_generalStructured: escaped\n",
      "3_specificNL: escaped\n",
      "3_specificStructured: escaped\n",
      "3_generalNL: escaped\n",
      "3_generalStructured: escaped\n",
      "4_specificNL: Alex possess(es) a cookie cake >Enables> Alex loves the cake\n",
      "4_specificStructured: {Alex}_[subject] {possess(es)}_[verb] {a cookie cake}_[object] >Enables> {Alex}_[subject] {loves}_[verb] {the cake}_[object1]\n",
      "4_generalNL: Someone_A possess(es) Something_A >Enables> Someone_A loves Something_A\n",
      "4_generalStructured: {Someone_A}_[subject] {possess(es)}_[verb] {Something_A}_[object] >Enables> {Someone_A}_[subject] {loves}_[verb] {Something_A}_[object1]\n",
      "5_specificNL: The cookie cake is great >Enables> Alex loves it\n",
      "5_specificStructured: {The cookie cake}_[subject] {is}_[verb] {great}_[object] >Enables> {Alex}_[subject] {loves}_[verb] {it}_[object1]\n",
      "5_generalNL: Something_A is great >Enables> Someone_A loves Something_A\n",
      "5_generalStructured: {Something_A}_[subject] {is}_[verb] {great}_[object] >Enables> {Someone_A}_[subject] {loves}_[verb] {Something_A}_[object1]\n",
      "6_specificNL: Alex loves the cookie cake >Causes/Enables> Alex eats the cookie cake\n",
      "6_specificStructured: {Alex}_[subject] {loves}_[verb] {the cookie cake}_[object1] >Causes/Enables> {Alex}_[subject] {eats}_[verb] {the cookie cake}_[object1]\n",
      "6_generalNL: Someone_A loves Something_A (that is edible) >Causes/Enables> Someone_A eats Something_A\n",
      "6_generalStructured: {Someone_A}_[subject] {loves}_[verb] {Something_A ||that is edible||}_[object1] >Causes/Enables> {Someone_A}_[subject] {eats}_[verb] {Something_A}_[object1]\n",
      "7_specificNL: Alex is surprised >Causes> Alex feel(s) happy\n",
      "7_specificStructured: {Alex}_[subject] {is}_[verb] {surprised}_[object1] >Causes> {Alex}_[subject] {feel(s)}_[verb] {happy}_[object]\n",
      "7_generalNL: Someone_A is pleasantly surprised >Causes> Someone_A feel(s) happy\n",
      "7_generalStructured: {Someone_A}_[subject] {is}_[verb] {pleasantly surprised}_[object1] >Causes> {Someone_A}_[subject] {feel(s)}_[verb] {happy}_[object]\n",
      "8_specificNL: escaped\n",
      "8_specificStructured: escaped\n",
      "8_generalNL: escaped\n",
      "8_generalStructured: escaped\n",
      "9_specificNL: escaped\n",
      "9_specificStructured: escaped\n",
      "9_generalNL: escaped\n",
      "9_generalStructured: escaped\n",
      "10_specificNL: escaped\n",
      "10_specificStructured: escaped\n",
      "10_generalNL: escaped\n",
      "10_generalStructured: escaped\n"
     ]
    }
   ],
   "source": [
    "for col in sample.columns:\n",
    "    if \"specific\" in col or \"general\" in col:\n",
    "        print(f\"{col}: {sample[col].item()}\")"
   ]
  },
  {
   "cell_type": "code",
   "execution_count": 1,
   "metadata": {},
   "outputs": [],
   "source": [
    "import pandas as pd\n",
    "\n",
    "t5_data = pd.read_csv(\"glucose/t5_data/t5_training_data.tsv\", sep=\"\\t\", header=None)"
   ]
  },
  {
   "cell_type": "code",
   "execution_count": 2,
   "metadata": {},
   "outputs": [
    {
     "data": {
      "text/html": [
       "<div>\n",
       "<style scoped>\n",
       "    .dataframe tbody tr th:only-of-type {\n",
       "        vertical-align: middle;\n",
       "    }\n",
       "\n",
       "    .dataframe tbody tr th {\n",
       "        vertical-align: top;\n",
       "    }\n",
       "\n",
       "    .dataframe thead th {\n",
       "        text-align: right;\n",
       "    }\n",
       "</style>\n",
       "<table border=\"1\" class=\"dataframe\">\n",
       "  <thead>\n",
       "    <tr style=\"text-align: right;\">\n",
       "      <th></th>\n",
       "      <th>0</th>\n",
       "      <th>1</th>\n",
       "    </tr>\n",
       "  </thead>\n",
       "  <tbody>\n",
       "    <tr>\n",
       "      <th>0</th>\n",
       "      <td>2: *Tim got a new dog.* He tried to teach it f...</td>\n",
       "      <td>Tim like(s) dogs &gt;Motivates&gt; Tim got a new dog...</td>\n",
       "    </tr>\n",
       "    <tr>\n",
       "      <th>1</th>\n",
       "      <td>6: *Tim got a new dog.* He tried to teach it f...</td>\n",
       "      <td>Tim got a dog &gt;Causes/Enables&gt; Tim tried to te...</td>\n",
       "    </tr>\n",
       "    <tr>\n",
       "      <th>2</th>\n",
       "      <td>9: *Tim got a new dog.* He tried to teach it f...</td>\n",
       "      <td>Tim got a dog &gt;Results in&gt; Tim possess(es) a d...</td>\n",
       "    </tr>\n",
       "    <tr>\n",
       "      <th>3</th>\n",
       "      <td>7: The family hamster had escaped. *They were ...</td>\n",
       "      <td>The family hamster has escaped &gt;Causes&gt; We fee...</td>\n",
       "    </tr>\n",
       "    <tr>\n",
       "      <th>4</th>\n",
       "      <td>1: Kate threw a frisbee to her dog. The dog ca...</td>\n",
       "      <td>Kate's dog caught a frisbee &gt;Causes/Enables&gt; K...</td>\n",
       "    </tr>\n",
       "  </tbody>\n",
       "</table>\n",
       "</div>"
      ],
      "text/plain": [
       "                                                   0  \\\n",
       "0  2: *Tim got a new dog.* He tried to teach it f...   \n",
       "1  6: *Tim got a new dog.* He tried to teach it f...   \n",
       "2  9: *Tim got a new dog.* He tried to teach it f...   \n",
       "3  7: The family hamster had escaped. *They were ...   \n",
       "4  1: Kate threw a frisbee to her dog. The dog ca...   \n",
       "\n",
       "                                                   1  \n",
       "0  Tim like(s) dogs >Motivates> Tim got a new dog...  \n",
       "1  Tim got a dog >Causes/Enables> Tim tried to te...  \n",
       "2  Tim got a dog >Results in> Tim possess(es) a d...  \n",
       "3  The family hamster has escaped >Causes> We fee...  \n",
       "4  Kate's dog caught a frisbee >Causes/Enables> K...  "
      ]
     },
     "execution_count": 2,
     "metadata": {},
     "output_type": "execute_result"
    }
   ],
   "source": [
    "t5_data.head()"
   ]
  },
  {
   "cell_type": "code",
   "execution_count": 5,
   "metadata": {},
   "outputs": [
    {
     "data": {
      "text/plain": [
       "'2: *Tim got a new dog.* He tried to teach it fetch. The dog would not fetch. Tim kept trying for five weeks. Soon, the dog was great at playing fetch.'"
      ]
     },
     "execution_count": 5,
     "metadata": {},
     "output_type": "execute_result"
    }
   ],
   "source": [
    "t5_data.iloc[0][0]"
   ]
  },
  {
   "cell_type": "code",
   "execution_count": 6,
   "metadata": {},
   "outputs": [
    {
     "data": {
      "text/plain": [
       "'Tim like(s) dogs >Motivates> Tim got a new dog ** Someone_A like(s) Something_A >Motivates> Someone_A got Something_A'"
      ]
     },
     "execution_count": 6,
     "metadata": {},
     "output_type": "execute_result"
    }
   ],
   "source": [
    "t5_data.iloc[0][1]"
   ]
  }
 ],
 "metadata": {
  "kernelspec": {
   "display_name": "Python 3.9.7 64-bit ('op')",
   "language": "python",
   "name": "python3"
  },
  "language_info": {
   "codemirror_mode": {
    "name": "ipython",
    "version": 3
   },
   "file_extension": ".py",
   "mimetype": "text/x-python",
   "name": "python",
   "nbconvert_exporter": "python",
   "pygments_lexer": "ipython3",
   "version": "3.9.7"
  },
  "orig_nbformat": 4,
  "vscode": {
   "interpreter": {
    "hash": "7c58dd98b75168f6869e90b2451b25c5af6a50c12b1a10fa5bf1b08697c21b0a"
   }
  }
 },
 "nbformat": 4,
 "nbformat_minor": 2
}
