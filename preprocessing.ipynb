{
 "cells": [
  {
   "cell_type": "code",
   "execution_count": 1,
   "metadata": {},
   "outputs": [],
   "source": [
    "import json\n",
    "\n",
    "with open(\"data/persona/persona_atomic_final_123.json\") as f:\n",
    "    persona_atomic = json.load(f)"
   ]
  },
  {
   "cell_type": "code",
   "execution_count": 2,
   "metadata": {},
   "outputs": [],
   "source": [
    "persona_atomic_centered = {}\n",
    "\n",
    "for id_, data in persona_atomic.items():\n",
    "    text = data[\"text\"]\n",
    "    facts = data[\"facts\"]\n",
    "\n",
    "    persona_atomic_centered[id_] = []\n",
    "\n",
    "    for i, sentence in enumerate(text):\n",
    "        fact_set = facts[str(i)]\n",
    "\n",
    "        rpa = []\n",
    "        rpp = []\n",
    "        rpf = []\n",
    "        irr = []\n",
    "\n",
    "        for head, fact in fact_set.items():\n",
    "            for triple in fact[\"triples\"]:\n",
    "                kg = {\"head\": head, \"relation\": triple[\"relation\"], \"tail\": triple[\"tail\"]}\n",
    "\n",
    "                if triple[\"relationship\"] == \"rpa\":\n",
    "                    rpa.append(kg)\n",
    "                elif triple[\"relationship\"] == \"rpp\":\n",
    "                    rpp.append(kg)\n",
    "                elif triple[\"relationship\"] == \"rpf\":\n",
    "                    rpf.append(kg)\n",
    "                elif triple[\"relationship\"] == \"irr\":\n",
    "                    irr.append(kg)\n",
    "\n",
    "        centered_data = {\n",
    "            \"past\": text[max(i-2, 0):i],\n",
    "            \"present\": sentence,\n",
    "            \"future\": text[i+1:min(i+3, len(text))],\n",
    "            \"rpa\": rpa,\n",
    "            \"rpp\": rpp,\n",
    "            \"rpf\": rpf,\n",
    "            \"irr\": irr\n",
    "        }\n",
    "        persona_atomic_centered[id_].append(centered_data)"
   ]
  },
  {
   "cell_type": "code",
   "execution_count": null,
   "metadata": {},
   "outputs": [],
   "source": [
    "persona_atomic_centered[\"1273\"]"
   ]
  },
  {
   "cell_type": "code",
   "execution_count": 5,
   "metadata": {},
   "outputs": [],
   "source": [
    "with open(\"data/persona/persona_atomic_centered.json\", \"w\") as f:\n",
    "    json.dump(persona_atomic_centered, f, indent=4)"
   ]
  },
  {
   "cell_type": "code",
   "execution_count": 2,
   "metadata": {},
   "outputs": [],
   "source": [
    "import json\n",
    "\n",
    "with open(\"data/persona/persona_atomic_centered.json\") as f:\n",
    "    persona_atomic_centered = json.load(f)\n",
    "\n",
    "with open(\"data/persona/persona_atomic_did_train_90.json\") as f:\n",
    "    persona_atomic_train = json.load(f)\n",
    "\n",
    "with open(\"data/persona/persona_atomic_did_val_15.json\") as f:\n",
    "    persona_atomic_val = json.load(f)\n",
    "\n",
    "with open(\"data/persona/persona_atomic_did_test_18.json\") as f:\n",
    "    persona_atomic_test = json.load(f)"
   ]
  },
  {
   "cell_type": "code",
   "execution_count": 8,
   "metadata": {},
   "outputs": [],
   "source": [
    "train_data = []\n",
    "val_data = []\n",
    "test_data = []\n",
    "\n",
    "for id_, data in persona_atomic_centered.items():\n",
    "    for sample in data:\n",
    "        context = f\"{'.'.join(sample['past'])}.{sample['present']}\"\n",
    "        for kg in sample[\"rpf\"]:\n",
    "            new_sample = {\"context\": context, **kg} \n",
    "            if int(id_) in persona_atomic_val:\n",
    "                val_data.append(new_sample)\n",
    "            elif int(id_) in persona_atomic_test:\n",
    "                test_data.append(new_sample)\n",
    "            else:\n",
    "                train_data.append(new_sample)\n"
   ]
  },
  {
   "cell_type": "code",
   "execution_count": 10,
   "metadata": {},
   "outputs": [
    {
     "data": {
      "text/plain": [
       "(747, 121, 212)"
      ]
     },
     "execution_count": 10,
     "metadata": {},
     "output_type": "execute_result"
    }
   ],
   "source": [
    "len(train_data), len(val_data), len(test_data)"
   ]
  },
  {
   "cell_type": "code",
   "execution_count": 11,
   "metadata": {},
   "outputs": [],
   "source": [
    "def write_jsonl(data, filepath):\n",
    "    with open(filepath, \"w\") as f:\n",
    "        f.writelines(\"\\n\".join([json.dumps(d) for d in data]))\n",
    "    \n",
    "write_jsonl(train_data, \"data/persona/persona_atomic_train.jsonl\")\n",
    "write_jsonl(val_data, \"data/persona/persona_atomic_val.jsonl\")\n",
    "write_jsonl(test_data, \"data/persona/persona_atomic_test.jsonl\")\n"
   ]
  },
  {
   "cell_type": "code",
   "execution_count": 13,
   "metadata": {},
   "outputs": [
    {
     "name": "stderr",
     "output_type": "stream",
     "text": [
      "Downloading: 100%|██████████| 228/228 [00:00<00:00, 40.1kB/s]\n",
      "Downloading: 100%|██████████| 438M/438M [00:29<00:00, 14.9MB/s] \n",
      "Downloading: 100%|██████████| 570/570 [00:00<00:00, 196kB/s]\n",
      "Downloading: 100%|██████████| 440M/440M [00:29<00:00, 14.8MB/s] \n",
      "Some weights of the model checkpoint at bert-base-uncased were not used when initializing BertModel: ['cls.predictions.decoder.weight', 'cls.seq_relationship.bias', 'cls.predictions.transform.dense.weight', 'cls.seq_relationship.weight', 'cls.predictions.transform.LayerNorm.weight', 'cls.predictions.transform.LayerNorm.bias', 'cls.predictions.transform.dense.bias', 'cls.predictions.bias']\n",
      "- This IS expected if you are initializing BertModel from the checkpoint of a model trained on another task or with another architecture (e.g. initializing a BertForSequenceClassification model from a BertForPreTraining model).\n",
      "- This IS NOT expected if you are initializing BertModel from the checkpoint of a model that you expect to be exactly identical (initializing a BertForSequenceClassification model from a BertForSequenceClassification model).\n"
     ]
    }
   ],
   "source": [
    "from kogito.inference import CommonsenseInference\n",
    "from kogito.core.processors.relation import BERTRelationMatcher\n",
    "\n",
    "csi = CommonsenseInference()\n",
    "csi.remove_processor(\"simple_relation_matcher\")\n",
    "csi.add_processor(BERTRelationMatcher(\"bert_matcher\"))"
   ]
  },
  {
   "cell_type": "code",
   "execution_count": 14,
   "metadata": {},
   "outputs": [
    {
     "data": {
      "text/plain": [
       "{'head': ['sentence_extractor',\n",
       "  'noun_phrase_extractor',\n",
       "  'verb_phrase_extractor'],\n",
       " 'relation': ['graph_relation_matcher', 'bert_matcher']}"
      ]
     },
     "execution_count": 14,
     "metadata": {},
     "output_type": "execute_result"
    }
   ],
   "source": [
    "csi.processors"
   ]
  },
  {
   "cell_type": "code",
   "execution_count": 17,
   "metadata": {},
   "outputs": [
    {
     "name": "stdout",
     "output_type": "stream",
     "text": [
      "Extracting heads...\n",
      "Matching relations...\n"
     ]
    },
    {
     "name": "stderr",
     "output_type": "stream",
     "text": [
      "Downloading: 100%|██████████| 232k/232k [00:00<00:00, 477kB/s]  \n",
      "Downloading: 100%|██████████| 28.0/28.0 [00:00<00:00, 10.1kB/s]\n",
      "GPU available: False, used: False\n",
      "TPU available: False, using: 0 TPU cores\n",
      "IPU available: False, using: 0 IPUs\n",
      "HPU available: False, using: 0 HPUs\n",
      "Missing logger folder: /Users/mismayil/Desktop/EPFL/F2022/OP/lightning_logs\n",
      "/Users/mismayil/.pyenv/versions/3.9.7/envs/op/lib/python3.9/site-packages/pytorch_lightning/trainer/connectors/data_connector.py:236: PossibleUserWarning: The dataloader, predict_dataloader 0, does not have many workers which may be a bottleneck. Consider increasing the value of the `num_workers` argument` (try 8 which is the number of cpus on this machine) in the `DataLoader` init to improve performance.\n",
      "  rank_zero_warn(\n"
     ]
    },
    {
     "name": "stdout",
     "output_type": "stream",
     "text": [
      "Predicting DataLoader 0: 100%|██████████| 1/1 [00:00<00:00,  1.44it/s]\n"
     ]
    }
   ],
   "source": [
    "for id_, data in persona_atomic_centered.items():\n",
    "    for data_point in data:\n",
    "        kgraph = csi.infer(text=data_point[\"present\"])\n",
    "        data_point[\"kgraph\"] = []\n",
    "\n",
    "        for kg in kgraph:\n",
    "            data_point[\"kgraph\"].append({\"head\": str(kg.head), \"relation\": str(kg.relation), \"tails\": []})\n",
    "        \n",
    "        break\n",
    "    break"
   ]
  },
  {
   "cell_type": "code",
   "execution_count": 18,
   "metadata": {},
   "outputs": [
    {
     "data": {
      "text/plain": [
       "{'past': [],\n",
       " 'present': 'hey , i am in a lady motorcycle club and i love to drive fast',\n",
       " 'future': ['i am married to a wife beater and have two kids',\n",
       "  'well do you want me to come beat him ? i have never lost a fight'],\n",
       " 'rpa': [{'head': 'PersonX drives ___ fast',\n",
       "   'relation': 'xIntent',\n",
       "   'tail': 'to get a thrill'},\n",
       "  {'head': \"PersonX loves PersonX's motorcycle\",\n",
       "   'relation': 'xWant',\n",
       "   'tail': 'to go for a ride'},\n",
       "  {'head': 'motorcycle',\n",
       "   'relation': 'HasProperty',\n",
       "   'tail': 'two wheels and can go fast'}],\n",
       " 'rpp': [],\n",
       " 'rpf': [{'head': 'motorcycle',\n",
       "   'relation': 'ObjectUse',\n",
       "   'tail': 'hit the road'},\n",
       "  {'head': 'motorcycle', 'relation': 'HasProperty', 'tail': 'two wheels'},\n",
       "  {'head': 'motorcycle',\n",
       "   'relation': 'HasProperty',\n",
       "   'tail': 'two wheeled vehicle'},\n",
       "  {'head': 'motorcyle', 'relation': 'ObjectUse', 'tail': 'drive there'}],\n",
       " 'irr': [{'head': 'PersonX drives ___ fast',\n",
       "   'relation': 'isFilledBy',\n",
       "   'tail': 'motorcycles'},\n",
       "  {'head': 'PersonX drives ___ fast',\n",
       "   'relation': 'xIntent',\n",
       "   'tail': 'to ge there fast'},\n",
       "  {'head': 'PersonX drives ___ fast', 'relation': 'xWant', 'tail': 'to race'},\n",
       "  {'head': 'PersonX drives ___ fast',\n",
       "   'relation': 'oWant',\n",
       "   'tail': 'to call the police'},\n",
       "  {'head': \"PersonX loves PersonX's motorcycle\",\n",
       "   'relation': 'xNeed',\n",
       "   'tail': 'take in the appearance of his motorcycle'},\n",
       "  {'head': \"PersonX loves one 's ___\",\n",
       "   'relation': 'xWant',\n",
       "   'tail': 'Show love'},\n",
       "  {'head': \"PersonX loves one 's ___\", 'relation': 'xAttr', 'tail': 'loving'},\n",
       "  {'head': \"PersonX loves one 's ___\",\n",
       "   'relation': 'xWant',\n",
       "   'tail': 'to have it as his own'},\n",
       "  {'head': \"PersonX loves one 's ___\",\n",
       "   'relation': 'xNeed',\n",
       "   'tail': 'think about it'},\n",
       "  {'head': \"PersonX loves one 's ___\", 'relation': 'xEffect', 'tail': 'NONE'},\n",
       "  {'head': 'drive', 'relation': 'HasSubEvent', 'tail': 'close car door'},\n",
       "  {'head': 'drive', 'relation': 'xNeed', 'tail': 'have good tires'},\n",
       "  {'head': 'drive',\n",
       "   'relation': 'HasSubEvent',\n",
       "   'tail': 'hitting ball straight and long'},\n",
       "  {'head': 'lady', 'relation': 'ObjectUse', 'tail': 'have as wife'},\n",
       "  {'head': 'lady', 'relation': 'ObjectUse', 'tail': 'man to marry'},\n",
       "  {'head': 'lady', 'relation': 'ObjectUse', 'tail': 'have sex'},\n",
       "  {'head': 'lady',\n",
       "   'relation': 'HasProperty',\n",
       "   'tail': 'walking along beach by herself'},\n",
       "  {'head': 'lady', 'relation': 'CapableOf', 'tail': 'butter roll'},\n",
       "  {'head': 'clubs', 'relation': 'ObjectUse', 'tail': 'hit with'},\n",
       "  {'head': 'clubs', 'relation': 'ObjectUse', 'tail': 'hit ball'},\n",
       "  {'head': 'clubs', 'relation': 'ObjectUse', 'tail': 'take golfing'},\n",
       "  {'head': 'clubs', 'relation': 'ObjectUse', 'tail': 'go to and dance'},\n",
       "  {'head': 'clubs',\n",
       "   'relation': 'ObjectUse',\n",
       "   'tail': 'show off golfing skills'},\n",
       "  {'head': 'car/motorcycle',\n",
       "   'relation': 'ObjectUse',\n",
       "   'tail': 'park correctly'},\n",
       "  {'head': 'motorcyle',\n",
       "   'relation': 'ObjectUse',\n",
       "   'tail': 'give a woman a ride'},\n",
       "  {'head': 'motorcyle', 'relation': 'ObjectUse', 'tail': 'ride to the market'},\n",
       "  {'head': 'motorcyle', 'relation': 'ObjectUse', 'tail': 'save on gas'},\n",
       "  {'head': 'fast car',\n",
       "   'relation': 'ObjectUse',\n",
       "   'tail': 'compete in drag races'},\n",
       "  {'head': 'fast car',\n",
       "   'relation': 'ObjectUse',\n",
       "   'tail': 'race along the road with'},\n",
       "  {'head': 'fast car', 'relation': 'ObjectUse', 'tail': 'race in Daytona'},\n",
       "  {'head': 'fast car', 'relation': 'ObjectUse', 'tail': 'pass slow car'},\n",
       "  {'head': 'fast car', 'relation': 'ObjectUse', 'tail': 'travel quickly'},\n",
       "  {'head': 'PersonX speeds on the highway',\n",
       "   'relation': 'xIntent',\n",
       "   'tail': 'to go fast'},\n",
       "  {'head': 'PersonX speeds on the highway',\n",
       "   'relation': 'xWant',\n",
       "   'tail': 'to go fast'},\n",
       "  {'head': 'PersonX speeds on the highway',\n",
       "   'relation': 'xNeed',\n",
       "   'tail': 'to push the gas pedal'},\n",
       "  {'head': 'PersonX speeds on the highway',\n",
       "   'relation': 'xNeed',\n",
       "   'tail': 'to get on the highway'},\n",
       "  {'head': 'PersonX speeds on the highway',\n",
       "   'relation': 'oEffect',\n",
       "   'tail': 'they notice his speed'}],\n",
       " 'kgraph': [{'head': 'club', 'relation': 'Desires', 'tails': []},\n",
       "  {'head': 'motorcycle', 'relation': 'AtLocation', 'tails': []},\n",
       "  {'head': 'club', 'relation': 'MadeUpOf', 'tails': []},\n",
       "  {'head': 'club', 'relation': 'HasProperty', 'tails': []},\n",
       "  {'head': 'to love', 'relation': 'ObjectUse', 'tails': []},\n",
       "  {'head': 'hey , i am in a lady motorcycle club and i love to drive fast',\n",
       "   'relation': 'xNeed',\n",
       "   'tails': []},\n",
       "  {'head': 'hey , i am in a lady motorcycle club and i love to drive fast',\n",
       "   'relation': 'oWant',\n",
       "   'tails': []},\n",
       "  {'head': 'to drive', 'relation': 'CapableOf', 'tails': []},\n",
       "  {'head': 'club', 'relation': 'AtLocation', 'tails': []},\n",
       "  {'head': 'hey , i am in a lady motorcycle club and i love to drive fast',\n",
       "   'relation': 'xReason',\n",
       "   'tails': []},\n",
       "  {'head': 'lady motorcycle club', 'relation': 'ObjectUse', 'tails': []},\n",
       "  {'head': 'hey , i am in a lady motorcycle club and i love to drive fast',\n",
       "   'relation': 'isFilledBy',\n",
       "   'tails': []},\n",
       "  {'head': 'lady', 'relation': 'NotDesires', 'tails': []},\n",
       "  {'head': 'hey , i am in a lady motorcycle club and i love to drive fast',\n",
       "   'relation': 'xAttr',\n",
       "   'tails': []},\n",
       "  {'head': 'motorcycle', 'relation': 'CapableOf', 'tails': []},\n",
       "  {'head': 'hey , i am in a lady motorcycle club and i love to drive fast',\n",
       "   'relation': 'oReact',\n",
       "   'tails': []},\n",
       "  {'head': 'hey , i am in a lady motorcycle club and i love to drive fast',\n",
       "   'relation': 'isBefore',\n",
       "   'tails': []},\n",
       "  {'head': 'lady', 'relation': 'Desires', 'tails': []},\n",
       "  {'head': 'hey , i am in a lady motorcycle club and i love to drive fast',\n",
       "   'relation': 'oEffect',\n",
       "   'tails': []},\n",
       "  {'head': 'lady', 'relation': 'MadeUpOf', 'tails': []},\n",
       "  {'head': 'lady', 'relation': 'HasProperty', 'tails': []},\n",
       "  {'head': 'to love', 'relation': 'NotDesires', 'tails': []},\n",
       "  {'head': 'club', 'relation': 'CapableOf', 'tails': []},\n",
       "  {'head': 'lady motorcycle club', 'relation': 'NotDesires', 'tails': []},\n",
       "  {'head': 'to love', 'relation': 'Desires', 'tails': []},\n",
       "  {'head': 'to drive', 'relation': 'ObjectUse', 'tails': []},\n",
       "  {'head': 'lady', 'relation': 'AtLocation', 'tails': []},\n",
       "  {'head': 'to love', 'relation': 'MadeUpOf', 'tails': []},\n",
       "  {'head': 'to love', 'relation': 'HasProperty', 'tails': []},\n",
       "  {'head': 'lady motorcycle club', 'relation': 'MadeUpOf', 'tails': []},\n",
       "  {'head': 'lady motorcycle club', 'relation': 'Desires', 'tails': []},\n",
       "  {'head': 'motorcycle', 'relation': 'ObjectUse', 'tails': []},\n",
       "  {'head': 'hey , i am in a lady motorcycle club and i love to drive fast',\n",
       "   'relation': 'xReact',\n",
       "   'tails': []},\n",
       "  {'head': 'hey , i am in a lady motorcycle club and i love to drive fast',\n",
       "   'relation': 'xEffect',\n",
       "   'tails': []},\n",
       "  {'head': 'lady motorcycle club', 'relation': 'HasProperty', 'tails': []},\n",
       "  {'head': 'to love', 'relation': 'AtLocation', 'tails': []},\n",
       "  {'head': 'hey , i am in a lady motorcycle club and i love to drive fast',\n",
       "   'relation': 'isAfter',\n",
       "   'tails': []},\n",
       "  {'head': 'lady motorcycle club', 'relation': 'AtLocation', 'tails': []},\n",
       "  {'head': 'to drive', 'relation': 'NotDesires', 'tails': []},\n",
       "  {'head': 'lady', 'relation': 'CapableOf', 'tails': []},\n",
       "  {'head': 'hey , i am in a lady motorcycle club and i love to drive fast',\n",
       "   'relation': 'Causes',\n",
       "   'tails': []},\n",
       "  {'head': 'hey , i am in a lady motorcycle club and i love to drive fast',\n",
       "   'relation': 'xWant',\n",
       "   'tails': []},\n",
       "  {'head': 'club', 'relation': 'ObjectUse', 'tails': []},\n",
       "  {'head': 'to drive', 'relation': 'Desires', 'tails': []},\n",
       "  {'head': 'hey , i am in a lady motorcycle club and i love to drive fast',\n",
       "   'relation': 'HinderedBy',\n",
       "   'tails': []},\n",
       "  {'head': 'hey , i am in a lady motorcycle club and i love to drive fast',\n",
       "   'relation': 'xIntent',\n",
       "   'tails': []},\n",
       "  {'head': 'to drive', 'relation': 'MadeUpOf', 'tails': []},\n",
       "  {'head': 'motorcycle', 'relation': 'NotDesires', 'tails': []},\n",
       "  {'head': 'to love', 'relation': 'CapableOf', 'tails': []},\n",
       "  {'head': 'to drive', 'relation': 'HasProperty', 'tails': []},\n",
       "  {'head': 'motorcycle', 'relation': 'Desires', 'tails': []},\n",
       "  {'head': 'lady motorcycle club', 'relation': 'CapableOf', 'tails': []},\n",
       "  {'head': 'motorcycle', 'relation': 'MadeUpOf', 'tails': []},\n",
       "  {'head': 'to drive', 'relation': 'AtLocation', 'tails': []},\n",
       "  {'head': 'motorcycle', 'relation': 'HasProperty', 'tails': []},\n",
       "  {'head': 'hey , i am in a lady motorcycle club and i love to drive fast',\n",
       "   'relation': 'HasSubEvent',\n",
       "   'tails': []},\n",
       "  {'head': 'club', 'relation': 'NotDesires', 'tails': []},\n",
       "  {'head': 'lady', 'relation': 'ObjectUse', 'tails': []}]}"
      ]
     },
     "execution_count": 18,
     "metadata": {},
     "output_type": "execute_result"
    }
   ],
   "source": [
    "persona_atomic_centered[\"1273\"][0]"
   ]
  }
 ],
 "metadata": {
  "kernelspec": {
   "display_name": "Python 3.9.7 64-bit ('op')",
   "language": "python",
   "name": "python3"
  },
  "language_info": {
   "codemirror_mode": {
    "name": "ipython",
    "version": 3
   },
   "file_extension": ".py",
   "mimetype": "text/x-python",
   "name": "python",
   "nbconvert_exporter": "python",
   "pygments_lexer": "ipython3",
   "version": "3.9.7"
  },
  "orig_nbformat": 4,
  "vscode": {
   "interpreter": {
    "hash": "7c58dd98b75168f6869e90b2451b25c5af6a50c12b1a10fa5bf1b08697c21b0a"
   }
  }
 },
 "nbformat": 4,
 "nbformat_minor": 2
}
