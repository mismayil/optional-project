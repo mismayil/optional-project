{
 "cells": [
  {
   "cell_type": "code",
   "execution_count": 1,
   "metadata": {},
   "outputs": [],
   "source": [
    "import pandas as pd\n",
    "\n",
    "glucose = pd.read_csv(\"data/GLUCOSE_training_data_final.csv\")"
   ]
  },
  {
   "cell_type": "code",
   "execution_count": 2,
   "metadata": {},
   "outputs": [
    {
     "data": {
      "text/html": [
       "<div>\n",
       "<style scoped>\n",
       "    .dataframe tbody tr th:only-of-type {\n",
       "        vertical-align: middle;\n",
       "    }\n",
       "\n",
       "    .dataframe tbody tr th {\n",
       "        vertical-align: top;\n",
       "    }\n",
       "\n",
       "    .dataframe thead th {\n",
       "        text-align: right;\n",
       "    }\n",
       "</style>\n",
       "<table border=\"1\" class=\"dataframe\">\n",
       "  <thead>\n",
       "    <tr style=\"text-align: right;\">\n",
       "      <th></th>\n",
       "      <th>experiment_id</th>\n",
       "      <th>story_id</th>\n",
       "      <th>worker_id</th>\n",
       "      <th>submission_time_normalized</th>\n",
       "      <th>worker_quality_rating</th>\n",
       "      <th>selected_sentence_index</th>\n",
       "      <th>story</th>\n",
       "      <th>selected_sentence</th>\n",
       "      <th>1_specificNL</th>\n",
       "      <th>1_specificStructured</th>\n",
       "      <th>...</th>\n",
       "      <th>8_generalStructured</th>\n",
       "      <th>9_specificNL</th>\n",
       "      <th>9_specificStructured</th>\n",
       "      <th>9_generalNL</th>\n",
       "      <th>9_generalStructured</th>\n",
       "      <th>10_specificNL</th>\n",
       "      <th>10_specificStructured</th>\n",
       "      <th>10_generalNL</th>\n",
       "      <th>10_generalStructured</th>\n",
       "      <th>number_filled_in</th>\n",
       "    </tr>\n",
       "  </thead>\n",
       "  <tbody>\n",
       "    <tr>\n",
       "      <th>0</th>\n",
       "      <td>e56c7c3e-4660-40fb-80d0-052d566d676a__4</td>\n",
       "      <td>e56c7c3e-4660-40fb-80d0-052d566d676a</td>\n",
       "      <td>19</td>\n",
       "      <td>20190930</td>\n",
       "      <td>3</td>\n",
       "      <td>4</td>\n",
       "      <td>It was bedtime at our house. Two of the three ...</td>\n",
       "      <td>Finally he becomes tired and falls asleep.</td>\n",
       "      <td>The third kid continues to  get out of bed and...</td>\n",
       "      <td>{The third kid}_[subject] {continues}_[verb] {...</td>\n",
       "      <td>...</td>\n",
       "      <td>escaped</td>\n",
       "      <td>escaped</td>\n",
       "      <td>escaped</td>\n",
       "      <td>escaped</td>\n",
       "      <td>escaped</td>\n",
       "      <td>escaped</td>\n",
       "      <td>escaped</td>\n",
       "      <td>escaped</td>\n",
       "      <td>escaped</td>\n",
       "      <td>2</td>\n",
       "    </tr>\n",
       "    <tr>\n",
       "      <th>1</th>\n",
       "      <td>b03eba12-db74-4fce-a3cc-c743948ef8c2__4</td>\n",
       "      <td>b03eba12-db74-4fce-a3cc-c743948ef8c2</td>\n",
       "      <td>2</td>\n",
       "      <td>20200115</td>\n",
       "      <td>1</td>\n",
       "      <td>4</td>\n",
       "      <td>Sara was invited to the football game. She sho...</td>\n",
       "      <td>At the end of the game, her team won.</td>\n",
       "      <td>Sara  goes  to  a football game  &gt;Causes/Enabl...</td>\n",
       "      <td>{Sara }_[subject] {goes }_[verb] {to }_[prepos...</td>\n",
       "      <td>...</td>\n",
       "      <td>escaped</td>\n",
       "      <td>escaped</td>\n",
       "      <td>escaped</td>\n",
       "      <td>escaped</td>\n",
       "      <td>escaped</td>\n",
       "      <td>escaped</td>\n",
       "      <td>escaped</td>\n",
       "      <td>escaped</td>\n",
       "      <td>escaped</td>\n",
       "      <td>3</td>\n",
       "    </tr>\n",
       "    <tr>\n",
       "      <th>2</th>\n",
       "      <td>7e7aeb03-12d8-4f02-9097-c3273a692f20__3</td>\n",
       "      <td>7e7aeb03-12d8-4f02-9097-c3273a692f20</td>\n",
       "      <td>60</td>\n",
       "      <td>20191230</td>\n",
       "      <td>1</td>\n",
       "      <td>3</td>\n",
       "      <td>Kyle was leaving to pick up his sister from wo...</td>\n",
       "      <td>He decided to check his dirty clothes basket.</td>\n",
       "      <td>Kyle realized his keys were missing &gt;Causes/En...</td>\n",
       "      <td>{Kyle}_[subject] {realized}_[verb] {his keys}_...</td>\n",
       "      <td>...</td>\n",
       "      <td>escaped</td>\n",
       "      <td>escaped</td>\n",
       "      <td>escaped</td>\n",
       "      <td>escaped</td>\n",
       "      <td>escaped</td>\n",
       "      <td>He decided to check his dirty clothes basket f...</td>\n",
       "      <td>{He}_[subject] {decided to check}_[verb] {his ...</td>\n",
       "      <td>Someone_A decided to check Something_A (that h...</td>\n",
       "      <td>{Someone_A}_[subject] {decided to check}_[verb...</td>\n",
       "      <td>5</td>\n",
       "    </tr>\n",
       "    <tr>\n",
       "      <th>3</th>\n",
       "      <td>a2bb14bd-9094-4dcc-93a5-bb93b1c308a5__4</td>\n",
       "      <td>a2bb14bd-9094-4dcc-93a5-bb93b1c308a5</td>\n",
       "      <td>142</td>\n",
       "      <td>20191203</td>\n",
       "      <td>2</td>\n",
       "      <td>4</td>\n",
       "      <td>MY DAUGHTER HAD TO DO A SCIENCE PROJECT. SO SH...</td>\n",
       "      <td>SO CHEWING GUM CAN HELP WITH YOUR CONCENTRATIO...</td>\n",
       "      <td>My daughter has  a  science project &gt;Causes/En...</td>\n",
       "      <td>{My daughter}_[subject] {has }_[verb] {a }_[pr...</td>\n",
       "      <td>...</td>\n",
       "      <td>escaped</td>\n",
       "      <td>Chewing gum can help with concentration &gt;Resul...</td>\n",
       "      <td>{Chewing gum}_[subject] {can help}_[verb] {wit...</td>\n",
       "      <td>Chewing gum can help with concentration &gt;Resul...</td>\n",
       "      <td>{Chewing gum}_[subject] {can help}_[verb] {wit...</td>\n",
       "      <td>escaped</td>\n",
       "      <td>escaped</td>\n",
       "      <td>escaped</td>\n",
       "      <td>escaped</td>\n",
       "      <td>7</td>\n",
       "    </tr>\n",
       "    <tr>\n",
       "      <th>4</th>\n",
       "      <td>b8c68631-fa42-40a0-93c7-6739402e2038__4</td>\n",
       "      <td>b8c68631-fa42-40a0-93c7-6739402e2038</td>\n",
       "      <td>19</td>\n",
       "      <td>20191213</td>\n",
       "      <td>3</td>\n",
       "      <td>4</td>\n",
       "      <td>Vivian couldn't stop thinking about that man s...</td>\n",
       "      <td>Vivian spent the rest of her life chasing that...</td>\n",
       "      <td>escaped</td>\n",
       "      <td>escaped</td>\n",
       "      <td>...</td>\n",
       "      <td>escaped</td>\n",
       "      <td>escaped</td>\n",
       "      <td>escaped</td>\n",
       "      <td>escaped</td>\n",
       "      <td>escaped</td>\n",
       "      <td>escaped</td>\n",
       "      <td>escaped</td>\n",
       "      <td>escaped</td>\n",
       "      <td>escaped</td>\n",
       "      <td>2</td>\n",
       "    </tr>\n",
       "  </tbody>\n",
       "</table>\n",
       "<p>5 rows × 49 columns</p>\n",
       "</div>"
      ],
      "text/plain": [
       "                             experiment_id  \\\n",
       "0  e56c7c3e-4660-40fb-80d0-052d566d676a__4   \n",
       "1  b03eba12-db74-4fce-a3cc-c743948ef8c2__4   \n",
       "2  7e7aeb03-12d8-4f02-9097-c3273a692f20__3   \n",
       "3  a2bb14bd-9094-4dcc-93a5-bb93b1c308a5__4   \n",
       "4  b8c68631-fa42-40a0-93c7-6739402e2038__4   \n",
       "\n",
       "                               story_id  worker_id  \\\n",
       "0  e56c7c3e-4660-40fb-80d0-052d566d676a         19   \n",
       "1  b03eba12-db74-4fce-a3cc-c743948ef8c2          2   \n",
       "2  7e7aeb03-12d8-4f02-9097-c3273a692f20         60   \n",
       "3  a2bb14bd-9094-4dcc-93a5-bb93b1c308a5        142   \n",
       "4  b8c68631-fa42-40a0-93c7-6739402e2038         19   \n",
       "\n",
       "   submission_time_normalized  worker_quality_rating  selected_sentence_index  \\\n",
       "0                    20190930                      3                        4   \n",
       "1                    20200115                      1                        4   \n",
       "2                    20191230                      1                        3   \n",
       "3                    20191203                      2                        4   \n",
       "4                    20191213                      3                        4   \n",
       "\n",
       "                                               story  \\\n",
       "0  It was bedtime at our house. Two of the three ...   \n",
       "1  Sara was invited to the football game. She sho...   \n",
       "2  Kyle was leaving to pick up his sister from wo...   \n",
       "3  MY DAUGHTER HAD TO DO A SCIENCE PROJECT. SO SH...   \n",
       "4  Vivian couldn't stop thinking about that man s...   \n",
       "\n",
       "                                   selected_sentence  \\\n",
       "0         Finally he becomes tired and falls asleep.   \n",
       "1              At the end of the game, her team won.   \n",
       "2      He decided to check his dirty clothes basket.   \n",
       "3  SO CHEWING GUM CAN HELP WITH YOUR CONCENTRATIO...   \n",
       "4  Vivian spent the rest of her life chasing that...   \n",
       "\n",
       "                                        1_specificNL  \\\n",
       "0  The third kid continues to  get out of bed and...   \n",
       "1  Sara  goes  to  a football game  >Causes/Enabl...   \n",
       "2  Kyle realized his keys were missing >Causes/En...   \n",
       "3  My daughter has  a  science project >Causes/En...   \n",
       "4                                            escaped   \n",
       "\n",
       "                                1_specificStructured  ... 8_generalStructured  \\\n",
       "0  {The third kid}_[subject] {continues}_[verb] {...  ...             escaped   \n",
       "1  {Sara }_[subject] {goes }_[verb] {to }_[prepos...  ...             escaped   \n",
       "2  {Kyle}_[subject] {realized}_[verb] {his keys}_...  ...             escaped   \n",
       "3  {My daughter}_[subject] {has }_[verb] {a }_[pr...  ...             escaped   \n",
       "4                                            escaped  ...             escaped   \n",
       "\n",
       "                                        9_specificNL  \\\n",
       "0                                            escaped   \n",
       "1                                            escaped   \n",
       "2                                            escaped   \n",
       "3  Chewing gum can help with concentration >Resul...   \n",
       "4                                            escaped   \n",
       "\n",
       "                                9_specificStructured  \\\n",
       "0                                            escaped   \n",
       "1                                            escaped   \n",
       "2                                            escaped   \n",
       "3  {Chewing gum}_[subject] {can help}_[verb] {wit...   \n",
       "4                                            escaped   \n",
       "\n",
       "                                         9_generalNL  \\\n",
       "0                                            escaped   \n",
       "1                                            escaped   \n",
       "2                                            escaped   \n",
       "3  Chewing gum can help with concentration >Resul...   \n",
       "4                                            escaped   \n",
       "\n",
       "                                 9_generalStructured  \\\n",
       "0                                            escaped   \n",
       "1                                            escaped   \n",
       "2                                            escaped   \n",
       "3  {Chewing gum}_[subject] {can help}_[verb] {wit...   \n",
       "4                                            escaped   \n",
       "\n",
       "                                       10_specificNL  \\\n",
       "0                                            escaped   \n",
       "1                                            escaped   \n",
       "2  He decided to check his dirty clothes basket f...   \n",
       "3                                            escaped   \n",
       "4                                            escaped   \n",
       "\n",
       "                               10_specificStructured  \\\n",
       "0                                            escaped   \n",
       "1                                            escaped   \n",
       "2  {He}_[subject] {decided to check}_[verb] {his ...   \n",
       "3                                            escaped   \n",
       "4                                            escaped   \n",
       "\n",
       "                                        10_generalNL  \\\n",
       "0                                            escaped   \n",
       "1                                            escaped   \n",
       "2  Someone_A decided to check Something_A (that h...   \n",
       "3                                            escaped   \n",
       "4                                            escaped   \n",
       "\n",
       "                                10_generalStructured number_filled_in  \n",
       "0                                            escaped                2  \n",
       "1                                            escaped                3  \n",
       "2  {Someone_A}_[subject] {decided to check}_[verb...                5  \n",
       "3                                            escaped                7  \n",
       "4                                            escaped                2  \n",
       "\n",
       "[5 rows x 49 columns]"
      ]
     },
     "execution_count": 2,
     "metadata": {},
     "output_type": "execute_result"
    }
   ],
   "source": [
    "glucose.head()"
   ]
  },
  {
   "cell_type": "code",
   "execution_count": 3,
   "metadata": {},
   "outputs": [
    {
     "data": {
      "text/plain": [
       "Index(['experiment_id', 'story_id', 'worker_id', 'submission_time_normalized',\n",
       "       'worker_quality_rating', 'selected_sentence_index', 'story',\n",
       "       'selected_sentence', '1_specificNL', '1_specificStructured',\n",
       "       '1_generalNL', '1_generalStructured', '2_specificNL',\n",
       "       '2_specificStructured', '2_generalNL', '2_generalStructured',\n",
       "       '3_specificNL', '3_specificStructured', '3_generalNL',\n",
       "       '3_generalStructured', '4_specificNL', '4_specificStructured',\n",
       "       '4_generalNL', '4_generalStructured', '5_specificNL',\n",
       "       '5_specificStructured', '5_generalNL', '5_generalStructured',\n",
       "       '6_specificNL', '6_specificStructured', '6_generalNL',\n",
       "       '6_generalStructured', '7_specificNL', '7_specificStructured',\n",
       "       '7_generalNL', '7_generalStructured', '8_specificNL',\n",
       "       '8_specificStructured', '8_generalNL', '8_generalStructured',\n",
       "       '9_specificNL', '9_specificStructured', '9_generalNL',\n",
       "       '9_generalStructured', '10_specificNL', '10_specificStructured',\n",
       "       '10_generalNL', '10_generalStructured', 'number_filled_in'],\n",
       "      dtype='object')"
      ]
     },
     "execution_count": 3,
     "metadata": {},
     "output_type": "execute_result"
    }
   ],
   "source": [
    "glucose.columns"
   ]
  },
  {
   "cell_type": "code",
   "execution_count": 4,
   "metadata": {},
   "outputs": [
    {
     "data": {
      "text/plain": [
       "33073"
      ]
     },
     "execution_count": 4,
     "metadata": {},
     "output_type": "execute_result"
    }
   ],
   "source": [
    "len(glucose.query(\"`1_specificNL` != 'escaped' and `2_generalNL` != 'escaped'\"))"
   ]
  },
  {
   "cell_type": "code",
   "execution_count": 5,
   "metadata": {},
   "outputs": [
    {
     "data": {
      "text/plain": [
       "30461"
      ]
     },
     "execution_count": 5,
     "metadata": {},
     "output_type": "execute_result"
    }
   ],
   "source": [
    "len(glucose.query(\"`6_specificNL` != 'escaped' and `7_generalNL` != 'escaped'\"))"
   ]
  },
  {
   "cell_type": "code",
   "execution_count": 6,
   "metadata": {},
   "outputs": [],
   "source": [
    "MASK_TOKEN = \"<MASK>\"\n",
    "\n",
    "def mask_story(story_sentences, selected_sent_idx, dim=1):\n",
    "    masked_story = []\n",
    "\n",
    "    if dim <= 5:\n",
    "        for i in range(selected_sent_idx-1):\n",
    "            masked_story.append(story_sentences[i])\n",
    "        \n",
    "        masked_story.append(MASK_TOKEN)\n",
    "        masked_story.append(f\"*{story_sentences[selected_sent_idx]}*\")\n",
    "\n",
    "        for i in range(selected_sent_idx+1, len(story_sentences)):\n",
    "            masked_story.append(story_sentences[i])\n",
    "    else:\n",
    "        for i in range(selected_sent_idx):\n",
    "            masked_story.append(story_sentences[i])\n",
    "\n",
    "        masked_story.append(f\"*{story_sentences[selected_sent_idx]}*\")\n",
    "        masked_story.append(MASK_TOKEN)\n",
    "\n",
    "        for i in range(selected_sent_idx+2, len(story_sentences)):\n",
    "            masked_story.append(story_sentences[i])\n",
    "    \n",
    "    return masked_story\n"
   ]
  },
  {
   "cell_type": "code",
   "execution_count": 7,
   "metadata": {},
   "outputs": [
    {
     "data": {
      "text/plain": [
       "'MY DAUGHTER HAD TO DO A SCIENCE PROJECT. SO SHE WANTED TO USE ME FOR A EXAMPLE. SO SHE GAVE ME A PIECE OF GUM AND 21 MATH PROBLEMS, I GOT 1 WRONG SHE TOLD ME TO SPIT OUT THE GUM, GAVE  21 MATH PROBLEMS, I GOT 4 WRONG SO CHEWING GUM CAN HELP WITH YOUR CONCENTRATION AFTER ALL.'"
      ]
     },
     "execution_count": 7,
     "metadata": {},
     "output_type": "execute_result"
    }
   ],
   "source": [
    "glucose.iloc[3][\"story\"]"
   ]
  },
  {
   "cell_type": "code",
   "execution_count": 8,
   "metadata": {},
   "outputs": [
    {
     "name": "stderr",
     "output_type": "stream",
     "text": [
      "/Users/mismayil/.pyenv/versions/3.9.7/envs/op/lib/python3.9/site-packages/tqdm/auto.py:22: TqdmWarning: IProgress not found. Please update jupyter and ipywidgets. See https://ipywidgets.readthedocs.io/en/stable/user_install.html\n",
      "  from .autonotebook import tqdm as notebook_tqdm\n"
     ]
    },
    {
     "data": {
      "text/plain": [
       "['*It was bedtime at our house.*',\n",
       " '<MASK>',\n",
       " 'The third is a trouble maker.',\n",
       " 'For two hours he continues to get out of bed and want to play.',\n",
       " 'Finally he becomes tired and falls asleep.']"
      ]
     },
     "execution_count": 8,
     "metadata": {},
     "output_type": "execute_result"
    }
   ],
   "source": [
    "from utils import get_sents\n",
    "\n",
    "mask_story(get_sents(glucose.iloc[0][\"story\"]), 0, dim=6)"
   ]
  },
  {
   "cell_type": "code",
   "execution_count": 27,
   "metadata": {},
   "outputs": [],
   "source": [
    "import re\n",
    "from tqdm import tqdm\n",
    "from utils import get_sents\n",
    "\n",
    "def build_cross_dim_data(data):\n",
    "    cross_dim_data = []\n",
    "\n",
    "    for i, row in tqdm(data.iterrows(), total=len(data)):\n",
    "        story = row[\"story\"]\n",
    "        selected_sentence = row[\"selected_sentence\"]\n",
    "        if \"****\" in story:\n",
    "            sentences = story.split(\"****\")\n",
    "        else:\n",
    "            sentences = get_sents(story, by_sentence=selected_sentence, use_cache=False)\n",
    "        specific_1 = row[\"1_specificNL\"].strip()\n",
    "        general_2 = row[\"2_generalNL\"].strip()\n",
    "        specific_6 = row[\"6_specificNL\"].strip()\n",
    "        general_7 = row[\"7_generalNL\"].strip()\n",
    "\n",
    "        selected_sent_idx = sentences.index(selected_sentence)\n",
    "\n",
    "        if specific_1 != \"escaped\" and general_2 != \"escaped\":\n",
    "            masked_story = mask_story(sentences, selected_sent_idx, dim=1)\n",
    "            cross_dim_data.append({\n",
    "                \"model_input\": \" \".join(masked_story),\n",
    "                \"model_output\": specific_1.split(\"****\") if \"****\" in specific_1 else specific_1,\n",
    "                \"critique_output\": general_2.split(\"****\") if \"****\" in general_2 else general_2,\n",
    "                \"masked_sentence\": sentences[selected_sent_idx-1] if selected_sent_idx > 0 else None,\n",
    "                \"model_dim\": 1,\n",
    "                \"critique_dim\": 2\n",
    "            })\n",
    "        \n",
    "        if specific_6 != \"escaped\" and general_7 != \"escaped\":\n",
    "            masked_story = mask_story(sentences, selected_sent_idx, dim=6)\n",
    "            cross_dim_data.append({\n",
    "                \"model_input\": \" \".join(masked_story),\n",
    "                \"model_output\": specific_6.split(\"****\") if \"****\" in specific_6 else specific_6,\n",
    "                \"critique_output\": general_7.split(\"****\") if \"****\" in general_7 else general_7,\n",
    "                \"masked_sentence\": sentences[selected_sent_idx+1] if selected_sent_idx < len(sentences)-1 else None,\n",
    "                \"model_dim\": 6,\n",
    "                \"critique_dim\": 7\n",
    "            })\n",
    "    return cross_dim_data"
   ]
  },
  {
   "cell_type": "code",
   "execution_count": 14,
   "metadata": {},
   "outputs": [
    {
     "data": {
      "text/plain": [
       "63534"
      ]
     },
     "execution_count": 14,
     "metadata": {},
     "output_type": "execute_result"
    }
   ],
   "source": [
    "glucose_cross_dim_data = build_cross_dim_data(glucose)\n",
    "len(glucose_cross_dim_data)"
   ]
  },
  {
   "cell_type": "code",
   "execution_count": 15,
   "metadata": {},
   "outputs": [],
   "source": [
    "import json\n",
    "\n",
    "with open(\"large_outputs/glucose_cross_dim_data.json\", \"w\") as f:\n",
    "    json.dump(glucose_cross_dim_data, f, indent=2)"
   ]
  },
  {
   "cell_type": "code",
   "execution_count": 20,
   "metadata": {},
   "outputs": [],
   "source": [
    "test_glucose = pd.read_csv(\"data/test_set_answer_key.csv\")"
   ]
  },
  {
   "cell_type": "code",
   "execution_count": 26,
   "metadata": {},
   "outputs": [
    {
     "data": {
      "text/plain": [
       "'The sweater went on  sale >Causes/Enables> Meg bought the sweater****the sweater goes on sale >Causes/Enables> Meg can buy the sweater****The sweater  went  on  sale >Causes/Enables> Meg  bought  the sweater'"
      ]
     },
     "execution_count": 26,
     "metadata": {},
     "output_type": "execute_result"
    }
   ],
   "source": [
    "test_glucose.iloc[0][\"6_specificNL\"]"
   ]
  },
  {
   "cell_type": "code",
   "execution_count": 28,
   "metadata": {},
   "outputs": [
    {
     "name": "stderr",
     "output_type": "stream",
     "text": [
      "100%|██████████| 500/500 [00:00<00:00, 10072.05it/s]\n"
     ]
    }
   ],
   "source": [
    "test_glucose = pd.read_csv(\"data/test_set_answer_key.csv\")\n",
    "test_glucose_cross_dim_data = build_cross_dim_data(test_glucose)"
   ]
  },
  {
   "cell_type": "code",
   "execution_count": 29,
   "metadata": {},
   "outputs": [
    {
     "data": {
      "text/plain": [
       "103"
      ]
     },
     "execution_count": 29,
     "metadata": {},
     "output_type": "execute_result"
    }
   ],
   "source": [
    "len(test_glucose_cross_dim_data)"
   ]
  },
  {
   "cell_type": "code",
   "execution_count": 30,
   "metadata": {},
   "outputs": [],
   "source": [
    "with open(\"large_outputs/test_glucose_cross_dim_data.json\", \"w\") as f:\n",
    "    json.dump(test_glucose_cross_dim_data, f, indent=2)"
   ]
  },
  {
   "cell_type": "code",
   "execution_count": 27,
   "metadata": {},
   "outputs": [
    {
     "data": {
      "text/plain": [
       "\"Alicia decided she needed to talk to Taylor. She was upset at her. When the girls talked they realized they shouldn't be friends. They gave one last hug and walked away. They both held back tears.\""
      ]
     },
     "execution_count": 27,
     "metadata": {},
     "output_type": "execute_result"
    }
   ],
   "source": [
    "glucose.iloc[7][\"story\"]"
   ]
  },
  {
   "cell_type": "code",
   "execution_count": 29,
   "metadata": {},
   "outputs": [
    {
     "name": "stdout",
     "output_type": "stream",
     "text": [
      "Alicia decided she needed to talk to Taylor. She was upset at her. When the girls talked they realized they shouldn't be friends. They gave one last hug and walked away. They both held back tears.\n",
      "\n",
      "They both held back tears.\n",
      "\n",
      "She  doesn't want  to  cry  >Causes/Enables> She  holds back tears \n",
      "\n",
      "Someone_A feel(s) sad  >Motivates> Someone_A cries \n",
      "\n"
     ]
    }
   ],
   "source": [
    "for col in [\"story\", \"selected_sentence\", \"1_specificNL\", \"2_generalNL\"]:\n",
    "    print(glucose.iloc[7][col], end=\"\\n\\n\")"
   ]
  },
  {
   "cell_type": "code",
   "execution_count": 31,
   "metadata": {},
   "outputs": [
    {
     "data": {
      "text/plain": [
       "[{'model_input': \"Lucy's grandpa had been napping. She was happy when he finally woke up. She asked for a ride to a friends house. <MASK> *She sat and watched as he ate his lunch.*\",\n",
       "  'model_output': 'Grandpa Is Hungry >Causes/Enables> Grandpa Ate Food',\n",
       "  'critique_output': 'Someone_B feel(s) Hunger >Motivates> Someone_B Ate Something_A',\n",
       "  'model_dim': 1,\n",
       "  'critique_dim': 2},\n",
       " {'model_input': \"Alicia decided she needed to talk to Taylor. She was upset at her. When the girls talked they realized they shouldn't be friends. <MASK> *They both held back tears.*\",\n",
       "  'model_output': \"She  doesn't want  to  cry  >Causes/Enables> She  holds back tears\",\n",
       "  'critique_output': 'Someone_A feel(s) sad  >Motivates> Someone_A cries',\n",
       "  'model_dim': 1,\n",
       "  'critique_dim': 2},\n",
       " {'model_input': \"Peter had a pet cat. It had a very long, fluffy tail. Peter's baby liked to grab it. *One day, he grabbed so hard, some fur game off.* <MASK>\",\n",
       "  'model_output': \"The baby grabbed so hard some fur came off >Causes/Enables> Peter's cat hated the baby\",\n",
       "  'critique_output': 'Someone_A grabbed so hard Something_A came off >Causes> Something_B feel(s) angered',\n",
       "  'model_dim': 6,\n",
       "  'critique_dim': 7},\n",
       " {'model_input': 'Kelli went to the beach. She stepped into the water and found it was too cold. <MASK> *By noon, the water was warmer.* Kelli was able to swim for the rest of the day.',\n",
       "  'model_output': 'Kelli found the water too cold to swim when she arrived at the beach. >Causes/Enables> The water was warmer by noon.',\n",
       "  'critique_output': 'Someone_A want(s) to swim in the sea but not when the water is too cold. >Motivates> The water was warmer by noon.',\n",
       "  'model_dim': 1,\n",
       "  'critique_dim': 2},\n",
       " {'model_input': 'Kelli went to the beach. She stepped into the water and found it was too cold. Kelli decided to collect shells on the shore. *By noon, the water was warmer.* <MASK>',\n",
       "  'model_output': 'The water was warm by noon. >Causes/Enables> Kelli swam the rest of the day.',\n",
       "  'critique_output': 'The water at the beach was warm by noon. >Causes> Someone_A feel(s) eager to get into the water now.',\n",
       "  'model_dim': 6,\n",
       "  'critique_dim': 7}]"
      ]
     },
     "execution_count": 31,
     "metadata": {},
     "output_type": "execute_result"
    }
   ],
   "source": [
    "glucose_cross_dim_data"
   ]
  }
 ],
 "metadata": {
  "kernelspec": {
   "display_name": "Python 3.9.7 64-bit ('op')",
   "language": "python",
   "name": "python3"
  },
  "language_info": {
   "codemirror_mode": {
    "name": "ipython",
    "version": 3
   },
   "file_extension": ".py",
   "mimetype": "text/x-python",
   "name": "python",
   "nbconvert_exporter": "python",
   "pygments_lexer": "ipython3",
   "version": "3.9.7"
  },
  "orig_nbformat": 4,
  "vscode": {
   "interpreter": {
    "hash": "7c58dd98b75168f6869e90b2451b25c5af6a50c12b1a10fa5bf1b08697c21b0a"
   }
  }
 },
 "nbformat": 4,
 "nbformat_minor": 2
}
