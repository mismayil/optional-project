{
 "cells": [
  {
   "cell_type": "code",
   "execution_count": 3,
   "metadata": {},
   "outputs": [],
   "source": [
    "import pandas as pd\n",
    "\n",
    "glucose_t5 = pd.read_csv(\"data/t5_training_data.tsv\", sep=\"\\t\", header=None)"
   ]
  },
  {
   "cell_type": "code",
   "execution_count": 4,
   "metadata": {},
   "outputs": [
    {
     "data": {
      "text/html": [
       "<div>\n",
       "<style scoped>\n",
       "    .dataframe tbody tr th:only-of-type {\n",
       "        vertical-align: middle;\n",
       "    }\n",
       "\n",
       "    .dataframe tbody tr th {\n",
       "        vertical-align: top;\n",
       "    }\n",
       "\n",
       "    .dataframe thead th {\n",
       "        text-align: right;\n",
       "    }\n",
       "</style>\n",
       "<table border=\"1\" class=\"dataframe\">\n",
       "  <thead>\n",
       "    <tr style=\"text-align: right;\">\n",
       "      <th></th>\n",
       "      <th>0</th>\n",
       "      <th>1</th>\n",
       "    </tr>\n",
       "  </thead>\n",
       "  <tbody>\n",
       "    <tr>\n",
       "      <th>0</th>\n",
       "      <td>2: *Tim got a new dog.* He tried to teach it f...</td>\n",
       "      <td>Tim like(s) dogs &gt;Motivates&gt; Tim got a new dog...</td>\n",
       "    </tr>\n",
       "    <tr>\n",
       "      <th>1</th>\n",
       "      <td>6: *Tim got a new dog.* He tried to teach it f...</td>\n",
       "      <td>Tim got a dog &gt;Causes/Enables&gt; Tim tried to te...</td>\n",
       "    </tr>\n",
       "    <tr>\n",
       "      <th>2</th>\n",
       "      <td>9: *Tim got a new dog.* He tried to teach it f...</td>\n",
       "      <td>Tim got a dog &gt;Results in&gt; Tim possess(es) a d...</td>\n",
       "    </tr>\n",
       "    <tr>\n",
       "      <th>3</th>\n",
       "      <td>7: The family hamster had escaped. *They were ...</td>\n",
       "      <td>The family hamster has escaped &gt;Causes&gt; We fee...</td>\n",
       "    </tr>\n",
       "    <tr>\n",
       "      <th>4</th>\n",
       "      <td>1: Kate threw a frisbee to her dog. The dog ca...</td>\n",
       "      <td>Kate's dog caught a frisbee &gt;Causes/Enables&gt; K...</td>\n",
       "    </tr>\n",
       "  </tbody>\n",
       "</table>\n",
       "</div>"
      ],
      "text/plain": [
       "                                                   0  \\\n",
       "0  2: *Tim got a new dog.* He tried to teach it f...   \n",
       "1  6: *Tim got a new dog.* He tried to teach it f...   \n",
       "2  9: *Tim got a new dog.* He tried to teach it f...   \n",
       "3  7: The family hamster had escaped. *They were ...   \n",
       "4  1: Kate threw a frisbee to her dog. The dog ca...   \n",
       "\n",
       "                                                   1  \n",
       "0  Tim like(s) dogs >Motivates> Tim got a new dog...  \n",
       "1  Tim got a dog >Causes/Enables> Tim tried to te...  \n",
       "2  Tim got a dog >Results in> Tim possess(es) a d...  \n",
       "3  The family hamster has escaped >Causes> We fee...  \n",
       "4  Kate's dog caught a frisbee >Causes/Enables> K...  "
      ]
     },
     "execution_count": 4,
     "metadata": {},
     "output_type": "execute_result"
    }
   ],
   "source": [
    "glucose_t5.head()"
   ]
  },
  {
   "cell_type": "code",
   "execution_count": 9,
   "metadata": {},
   "outputs": [
    {
     "data": {
      "text/plain": [
       "array(['2: *Tim got a new dog.* He tried to teach it fetch. The dog would not fetch. Tim kept trying for five weeks. Soon, the dog was great at playing fetch.',\n",
       "       'Tim like(s) dogs >Motivates> Tim got a new dog ** Someone_A like(s) Something_A >Motivates> Someone_A got Something_A'],\n",
       "      dtype=object)"
      ]
     },
     "execution_count": 9,
     "metadata": {},
     "output_type": "execute_result"
    }
   ],
   "source": [
    "glucose_t5.iloc[0].values"
   ]
  },
  {
   "cell_type": "code",
   "execution_count": 13,
   "metadata": {},
   "outputs": [],
   "source": [
    "glucose_t5_specific = pd.DataFrame()\n",
    "glucose_t5_specific[\"input\"] = glucose_t5.iloc[:, 0]"
   ]
  },
  {
   "cell_type": "code",
   "execution_count": 14,
   "metadata": {},
   "outputs": [
    {
     "data": {
      "text/html": [
       "<div>\n",
       "<style scoped>\n",
       "    .dataframe tbody tr th:only-of-type {\n",
       "        vertical-align: middle;\n",
       "    }\n",
       "\n",
       "    .dataframe tbody tr th {\n",
       "        vertical-align: top;\n",
       "    }\n",
       "\n",
       "    .dataframe thead th {\n",
       "        text-align: right;\n",
       "    }\n",
       "</style>\n",
       "<table border=\"1\" class=\"dataframe\">\n",
       "  <thead>\n",
       "    <tr style=\"text-align: right;\">\n",
       "      <th></th>\n",
       "      <th>input</th>\n",
       "    </tr>\n",
       "  </thead>\n",
       "  <tbody>\n",
       "    <tr>\n",
       "      <th>0</th>\n",
       "      <td>2: *Tim got a new dog.* He tried to teach it f...</td>\n",
       "    </tr>\n",
       "    <tr>\n",
       "      <th>1</th>\n",
       "      <td>6: *Tim got a new dog.* He tried to teach it f...</td>\n",
       "    </tr>\n",
       "    <tr>\n",
       "      <th>2</th>\n",
       "      <td>9: *Tim got a new dog.* He tried to teach it f...</td>\n",
       "    </tr>\n",
       "    <tr>\n",
       "      <th>3</th>\n",
       "      <td>7: The family hamster had escaped. *They were ...</td>\n",
       "    </tr>\n",
       "    <tr>\n",
       "      <th>4</th>\n",
       "      <td>1: Kate threw a frisbee to her dog. The dog ca...</td>\n",
       "    </tr>\n",
       "  </tbody>\n",
       "</table>\n",
       "</div>"
      ],
      "text/plain": [
       "                                               input\n",
       "0  2: *Tim got a new dog.* He tried to teach it f...\n",
       "1  6: *Tim got a new dog.* He tried to teach it f...\n",
       "2  9: *Tim got a new dog.* He tried to teach it f...\n",
       "3  7: The family hamster had escaped. *They were ...\n",
       "4  1: Kate threw a frisbee to her dog. The dog ca..."
      ]
     },
     "execution_count": 14,
     "metadata": {},
     "output_type": "execute_result"
    }
   ],
   "source": [
    "glucose_t5_specific.head()"
   ]
  },
  {
   "cell_type": "code",
   "execution_count": 15,
   "metadata": {},
   "outputs": [],
   "source": [
    "glucose_t5_specific[\"target\"] = glucose_t5.iloc[:, 1].apply(lambda x: x.split(\"**\")[0].strip())"
   ]
  },
  {
   "cell_type": "code",
   "execution_count": 16,
   "metadata": {},
   "outputs": [
    {
     "data": {
      "text/html": [
       "<div>\n",
       "<style scoped>\n",
       "    .dataframe tbody tr th:only-of-type {\n",
       "        vertical-align: middle;\n",
       "    }\n",
       "\n",
       "    .dataframe tbody tr th {\n",
       "        vertical-align: top;\n",
       "    }\n",
       "\n",
       "    .dataframe thead th {\n",
       "        text-align: right;\n",
       "    }\n",
       "</style>\n",
       "<table border=\"1\" class=\"dataframe\">\n",
       "  <thead>\n",
       "    <tr style=\"text-align: right;\">\n",
       "      <th></th>\n",
       "      <th>input</th>\n",
       "      <th>target</th>\n",
       "    </tr>\n",
       "  </thead>\n",
       "  <tbody>\n",
       "    <tr>\n",
       "      <th>0</th>\n",
       "      <td>2: *Tim got a new dog.* He tried to teach it f...</td>\n",
       "      <td>Tim like(s) dogs &gt;Motivates&gt; Tim got a new dog</td>\n",
       "    </tr>\n",
       "    <tr>\n",
       "      <th>1</th>\n",
       "      <td>6: *Tim got a new dog.* He tried to teach it f...</td>\n",
       "      <td>Tim got a dog &gt;Causes/Enables&gt; Tim tried to te...</td>\n",
       "    </tr>\n",
       "    <tr>\n",
       "      <th>2</th>\n",
       "      <td>9: *Tim got a new dog.* He tried to teach it f...</td>\n",
       "      <td>Tim got a dog &gt;Results in&gt; Tim possess(es) a dog</td>\n",
       "    </tr>\n",
       "    <tr>\n",
       "      <th>3</th>\n",
       "      <td>7: The family hamster had escaped. *They were ...</td>\n",
       "      <td>The family hamster has escaped &gt;Causes&gt; We fee...</td>\n",
       "    </tr>\n",
       "    <tr>\n",
       "      <th>4</th>\n",
       "      <td>1: Kate threw a frisbee to her dog. The dog ca...</td>\n",
       "      <td>Kate's dog caught a frisbee &gt;Causes/Enables&gt; K...</td>\n",
       "    </tr>\n",
       "  </tbody>\n",
       "</table>\n",
       "</div>"
      ],
      "text/plain": [
       "                                               input  \\\n",
       "0  2: *Tim got a new dog.* He tried to teach it f...   \n",
       "1  6: *Tim got a new dog.* He tried to teach it f...   \n",
       "2  9: *Tim got a new dog.* He tried to teach it f...   \n",
       "3  7: The family hamster had escaped. *They were ...   \n",
       "4  1: Kate threw a frisbee to her dog. The dog ca...   \n",
       "\n",
       "                                              target  \n",
       "0     Tim like(s) dogs >Motivates> Tim got a new dog  \n",
       "1  Tim got a dog >Causes/Enables> Tim tried to te...  \n",
       "2   Tim got a dog >Results in> Tim possess(es) a dog  \n",
       "3  The family hamster has escaped >Causes> We fee...  \n",
       "4  Kate's dog caught a frisbee >Causes/Enables> K...  "
      ]
     },
     "execution_count": 16,
     "metadata": {},
     "output_type": "execute_result"
    }
   ],
   "source": [
    "glucose_t5_specific.head()"
   ]
  },
  {
   "cell_type": "code",
   "execution_count": 17,
   "metadata": {},
   "outputs": [],
   "source": [
    "glucose_t5_general = pd.DataFrame()\n",
    "glucose_t5_general[\"input\"] = glucose_t5.iloc[:, 0]"
   ]
  },
  {
   "cell_type": "code",
   "execution_count": 18,
   "metadata": {},
   "outputs": [],
   "source": [
    "glucose_t5_general[\"target\"] = glucose_t5.iloc[:, 1].apply(lambda x: x.split(\"**\")[1].strip())"
   ]
  },
  {
   "cell_type": "code",
   "execution_count": 19,
   "metadata": {},
   "outputs": [
    {
     "data": {
      "text/html": [
       "<div>\n",
       "<style scoped>\n",
       "    .dataframe tbody tr th:only-of-type {\n",
       "        vertical-align: middle;\n",
       "    }\n",
       "\n",
       "    .dataframe tbody tr th {\n",
       "        vertical-align: top;\n",
       "    }\n",
       "\n",
       "    .dataframe thead th {\n",
       "        text-align: right;\n",
       "    }\n",
       "</style>\n",
       "<table border=\"1\" class=\"dataframe\">\n",
       "  <thead>\n",
       "    <tr style=\"text-align: right;\">\n",
       "      <th></th>\n",
       "      <th>input</th>\n",
       "      <th>target</th>\n",
       "    </tr>\n",
       "  </thead>\n",
       "  <tbody>\n",
       "    <tr>\n",
       "      <th>0</th>\n",
       "      <td>2: *Tim got a new dog.* He tried to teach it f...</td>\n",
       "      <td>Someone_A like(s) Something_A &gt;Motivates&gt; Some...</td>\n",
       "    </tr>\n",
       "    <tr>\n",
       "      <th>1</th>\n",
       "      <td>6: *Tim got a new dog.* He tried to teach it f...</td>\n",
       "      <td>Someone_A got Something_A (that is a pet) &gt;Cau...</td>\n",
       "    </tr>\n",
       "    <tr>\n",
       "      <th>2</th>\n",
       "      <td>9: *Tim got a new dog.* He tried to teach it f...</td>\n",
       "      <td>Someone_A got Something_A &gt;Results in&gt; Someone...</td>\n",
       "    </tr>\n",
       "    <tr>\n",
       "      <th>3</th>\n",
       "      <td>7: The family hamster had escaped. *They were ...</td>\n",
       "      <td>Something_A has escaped &gt;Causes&gt; Some People_A...</td>\n",
       "    </tr>\n",
       "    <tr>\n",
       "      <th>4</th>\n",
       "      <td>1: Kate threw a frisbee to her dog. The dog ca...</td>\n",
       "      <td>Something_A (Kate's dog) caught Something_B (a...</td>\n",
       "    </tr>\n",
       "  </tbody>\n",
       "</table>\n",
       "</div>"
      ],
      "text/plain": [
       "                                               input  \\\n",
       "0  2: *Tim got a new dog.* He tried to teach it f...   \n",
       "1  6: *Tim got a new dog.* He tried to teach it f...   \n",
       "2  9: *Tim got a new dog.* He tried to teach it f...   \n",
       "3  7: The family hamster had escaped. *They were ...   \n",
       "4  1: Kate threw a frisbee to her dog. The dog ca...   \n",
       "\n",
       "                                              target  \n",
       "0  Someone_A like(s) Something_A >Motivates> Some...  \n",
       "1  Someone_A got Something_A (that is a pet) >Cau...  \n",
       "2  Someone_A got Something_A >Results in> Someone...  \n",
       "3  Something_A has escaped >Causes> Some People_A...  \n",
       "4  Something_A (Kate's dog) caught Something_B (a...  "
      ]
     },
     "execution_count": 19,
     "metadata": {},
     "output_type": "execute_result"
    }
   ],
   "source": [
    "glucose_t5_general.head()"
   ]
  },
  {
   "cell_type": "code",
   "execution_count": 20,
   "metadata": {},
   "outputs": [],
   "source": [
    "glucose_t5_specific.to_csv(\"data/glucose_t5_specific.tsv\", sep=\"\\t\", header=None, index=None)\n",
    "glucose_t5_general.to_csv(\"data/glucose_t5_general.tsv\", sep=\"\\t\", header=None, index=None)"
   ]
  }
 ],
 "metadata": {
  "kernelspec": {
   "display_name": "Python 3.9.7 64-bit ('op')",
   "language": "python",
   "name": "python3"
  },
  "language_info": {
   "codemirror_mode": {
    "name": "ipython",
    "version": 3
   },
   "file_extension": ".py",
   "mimetype": "text/x-python",
   "name": "python",
   "nbconvert_exporter": "python",
   "pygments_lexer": "ipython3",
   "version": "3.9.7"
  },
  "orig_nbformat": 4,
  "vscode": {
   "interpreter": {
    "hash": "7c58dd98b75168f6869e90b2451b25c5af6a50c12b1a10fa5bf1b08697c21b0a"
   }
  }
 },
 "nbformat": 4,
 "nbformat_minor": 2
}
